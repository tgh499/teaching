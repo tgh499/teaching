{
 "cells": [
  {
   "cell_type": "markdown",
   "metadata": {},
   "source": [
    "### A Python Class\n",
    "\n",
    "* Creating a new class creates a new type of object, allowing new instances of that type to be made.\n",
    "* Each class instance can have attributes attached to it for maintaining its state.\n",
    "* Class instances can also have methods (defined by its class) for modifying its state.\n",
    "\n"
   ]
  },
  {
   "cell_type": "code",
   "execution_count": 7,
   "metadata": {},
   "outputs": [],
   "source": [
    "class Calculator:\n",
    "        \n",
    "    def add(num_1, num_2):\n",
    "        return(num_1 + num_2)\n",
    "    \n",
    "    def multiply(num_1, num_2):\n",
    "        return(num_1 * num_2)"
   ]
  },
  {
   "cell_type": "code",
   "execution_count": 8,
   "metadata": {},
   "outputs": [
    {
     "name": "stdout",
     "output_type": "stream",
     "text": [
      "3\n",
      "6\n"
     ]
    }
   ],
   "source": [
    "calc1_add = Calculator.add(1,2)\n",
    "calc2_multi = Calculator.multiply(2,3)\n",
    "\n",
    "print(calc1_add)\n",
    "print(calc2_multi)\n"
   ]
  },
  {
   "cell_type": "code",
   "execution_count": 6,
   "metadata": {},
   "outputs": [],
   "source": [
    "# A simple Class\n",
    "\n",
    "class Complex:\n",
    "    def __init__(self, real, imaginary):\n",
    "        self.r = real\n",
    "        self.i = imaginary"
   ]
  },
  {
   "cell_type": "code",
   "execution_count": 10,
   "metadata": {},
   "outputs": [
    {
     "name": "stdout",
     "output_type": "stream",
     "text": [
      "3\n",
      "4\n"
     ]
    }
   ],
   "source": [
    "complex_number = Complex(3,4)\n",
    "print(complex_number.r)\n",
    "print(complex_number.i)"
   ]
  },
  {
   "cell_type": "code",
   "execution_count": 11,
   "metadata": {},
   "outputs": [],
   "source": [
    "class Calculator:\n",
    "    def __init__(self, num_one, num_two):\n",
    "        self.num_1 = num_one\n",
    "        self.num_2 = num_two\n",
    "        \n",
    "    def add(self):\n",
    "        return(self.num_1 + self.num_2)\n",
    "    \n",
    "    #def add(num_1, num_2):\n",
    "        #return(num_1 + num_2)\n",
    "    \n",
    "    def multiply(self):\n",
    "        return(self.num_1 * self.num_2)\n",
    "    "
   ]
  },
  {
   "cell_type": "code",
   "execution_count": 15,
   "metadata": {},
   "outputs": [
    {
     "name": "stdout",
     "output_type": "stream",
     "text": [
      "4\n",
      "5\n",
      "20\n"
     ]
    }
   ],
   "source": [
    "#calc = Calculator(5,10)\n",
    "#print(calc.num_1)\n",
    "#print(calc.num_2)\n",
    "#print(calc.add())\n",
    "\n",
    "calc = Calculator(4,5)\n",
    "print(calc.num_1) # 4\n",
    "print(calc.num_2) # 5\n",
    "print(calc.multiply()) # 20, because 4 * 5 is equal tp 20.\n"
   ]
  },
  {
   "cell_type": "code",
   "execution_count": 16,
   "metadata": {},
   "outputs": [],
   "source": [
    "class Fibonacci:\n",
    "    def __init__(self, x):\n",
    "        self.x = x\n",
    "        \n",
    "    def generate_sequence(self):\n",
    "        if self.x == 0:\n",
    "            print(\"Please enter a valid positive number: \")\n",
    "        elif self.x == 1:\n",
    "            print([0])\n",
    "        elif self.x == 2:\n",
    "            print([0,1])\n",
    "        else:\n",
    "            n = self.x\n",
    "            fib_sequence = [0,1]\n",
    "            for i in range(2,n+1):\n",
    "                temp = fib_sequence[i-2] + fib_sequence[i-1]\n",
    "                fib_sequence.append(temp)\n",
    "\n",
    "            duplicates_removed = []\n",
    "            for num in fib_sequence:\n",
    "                if num not in duplicates_removed:\n",
    "                    duplicates_removed.append(num)\n",
    "\n",
    "\n",
    "            print(duplicates_removed)"
   ]
  },
  {
   "cell_type": "code",
   "execution_count": 14,
   "metadata": {},
   "outputs": [
    {
     "name": "stdout",
     "output_type": "stream",
     "text": [
      "[0, 1, 2, 3, 5, 8, 13]\n"
     ]
    }
   ],
   "source": [
    "fib_seq = Fibonacci(7)\n",
    "fib_seq.generate_sequence()"
   ]
  },
  {
   "cell_type": "code",
   "execution_count": 17,
   "metadata": {},
   "outputs": [
    {
     "name": "stdout",
     "output_type": "stream",
     "text": [
      "[0, 1, 2, 3, 5, 8, 13, 21, 34, 55, 89, 144, 233, 377, 610, 987, 1597, 2584, 4181, 6765, 10946, 17711, 28657, 46368, 75025, 121393, 196418, 317811, 514229, 832040, 1346269, 2178309, 3524578]\n"
     ]
    }
   ],
   "source": [
    "fib_seq_2 = Fibonacci(33)\n",
    "fib_seq_2.generate_sequence()"
   ]
  },
  {
   "cell_type": "code",
   "execution_count": 18,
   "metadata": {},
   "outputs": [],
   "source": [
    "class HelloWorld:\n",
    "    def __init__(self):\n",
    "        pass\n",
    "    \n",
    "    def print_helloWorld(self):\n",
    "        print(\"Hello World!\")\n",
    "\n"
   ]
  },
  {
   "cell_type": "code",
   "execution_count": null,
   "metadata": {},
   "outputs": [],
   "source": [
    "temp = HelloWorld()\n",
    "temp.print_helloWorld()"
   ]
  }
 ],
 "metadata": {
  "kernelspec": {
   "display_name": "Python 3",
   "language": "python",
   "name": "python3"
  },
  "language_info": {
   "codemirror_mode": {
    "name": "ipython",
    "version": 3
   },
   "file_extension": ".py",
   "mimetype": "text/x-python",
   "name": "python",
   "nbconvert_exporter": "python",
   "pygments_lexer": "ipython3",
   "version": "3.8.3"
  }
 },
 "nbformat": 4,
 "nbformat_minor": 4
}
