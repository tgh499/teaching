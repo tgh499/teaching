{
 "cells": [
  {
   "cell_type": "markdown",
   "metadata": {},
   "source": [
    "# Class Inheritance\n",
    "\n",
    "Previously we have learned how to create classes. Today we will learn a new concept - class inheritance.\n",
    "\n",
    "One of the defnitions of \"inherit\" is the following - \n",
    "\n",
    "\"derive (a quality, characteristic, or predisposition) genetically from one's parents or ancestors.\"\n",
    "\n",
    "Class inheritance is very much the same. \n",
    "\n",
    "Two concepts we need to know - \n",
    "\n",
    "* Parent class. *Also known as the base class.*\n",
    "* Child class. *Also known as the derived class.*\n",
    "\n",
    "As the names suggest, a child class will inherit from the parent class.\n",
    "\n",
    "At first let's look at a class. Later, we will use this class as a parent class.\n"
   ]
  },
  {
   "cell_type": "code",
   "execution_count": 1,
   "metadata": {},
   "outputs": [],
   "source": [
    "class Calculator_1:\n",
    "    def __init__(self):\n",
    "        pass\n",
    "        \n",
    "    def add(self, x, y):\n",
    "        return(x + y)\n",
    "    \n",
    "    def multiply(self, x, y):\n",
    "        return(x * y)\n",
    "        "
   ]
  },
  {
   "cell_type": "code",
   "execution_count": 3,
   "metadata": {},
   "outputs": [
    {
     "name": "stdout",
     "output_type": "stream",
     "text": [
      "5\n",
      "12\n"
     ]
    }
   ],
   "source": [
    "calc = Calculator_1()\n",
    "print(calc.add(2,3))\n",
    "print(calc.multiply(3,4))"
   ]
  },
  {
   "cell_type": "code",
   "execution_count": 4,
   "metadata": {},
   "outputs": [],
   "source": [
    "class Calculator_2:\n",
    "    def __init__(self,num_1,num_2):\n",
    "        self.x = num_1\n",
    "        self.y = num_2\n",
    "        \n",
    "    def add(self):\n",
    "        return(self.x + self.y)\n",
    "    \n",
    "    def multiply(self):\n",
    "        return(self.x * self.y)"
   ]
  },
  {
   "cell_type": "code",
   "execution_count": 5,
   "metadata": {},
   "outputs": [
    {
     "name": "stdout",
     "output_type": "stream",
     "text": [
      "5\n",
      "6\n"
     ]
    }
   ],
   "source": [
    "calc = Calculator_2(2,3)\n",
    "print(calc.add())\n",
    "print(calc.multiply())"
   ]
  },
  {
   "cell_type": "markdown",
   "metadata": {},
   "source": [
    "### Now let's look at a child class that is inherited from the parent class. Specifically, we will take the parent \"Calculator_1\" and create the child class \"Scientific_calculator.\""
   ]
  },
  {
   "cell_type": "code",
   "execution_count": 11,
   "metadata": {},
   "outputs": [],
   "source": [
    "class Scientific_calculator_2(Calculator_2):\n",
    "    \n",
    "    \"\"\"\n",
    "    def __init__(self, num_1, num_2):\n",
    "        Calculator_2.__init__(self,num_1, num_2)\n",
    "        self.x = num_1\n",
    "        self.y = num_2\n",
    "        \n",
    "    \"\"\"\n",
    "    def __init__(self, num_1, num_2):\n",
    "        super().__init__(num_1, num_2)\n",
    "        self.x = num_1\n",
    "        self.y = num_2\n",
    "    \n",
    "    \n",
    "    \n",
    "    def logarithm(self):\n",
    "        import math\n",
    "        \n",
    "        return(math.log(self.x, self.y))"
   ]
  },
  {
   "cell_type": "code",
   "execution_count": 12,
   "metadata": {},
   "outputs": [
    {
     "name": "stdout",
     "output_type": "stream",
     "text": [
      "5\n",
      "6\n",
      "0.6309297535714574\n"
     ]
    }
   ],
   "source": [
    "calc = Scientific_calculator_2(2,3)\n",
    "print(calc.add())\n",
    "print(calc.multiply())\n",
    "print(calc.logarithm())"
   ]
  },
  {
   "cell_type": "code",
   "execution_count": 8,
   "metadata": {},
   "outputs": [],
   "source": [
    "class Calculator_1:\n",
    "    def __init__(self):\n",
    "        pass\n",
    "        \n",
    "    def add(self, x, y):\n",
    "        return(x + y)\n",
    "    \n",
    "    def multiply(self, x, y):\n",
    "        return(x * y)"
   ]
  },
  {
   "cell_type": "code",
   "execution_count": 9,
   "metadata": {},
   "outputs": [],
   "source": [
    "class Scientific_calculator_1(Calculator_1):\n",
    "    \n",
    "    \"\"\"\n",
    "    def __init__(self):\n",
    "        Calculator_1.__init__(self)\n",
    "    \"\"\"\n",
    "    def __init__(self):\n",
    "        super().__init__()\n",
    "    \n",
    "\n",
    "    def logarithm(self,x,y):\n",
    "        import math\n",
    "        \n",
    "        return(math.log(x, y))"
   ]
  },
  {
   "cell_type": "code",
   "execution_count": 10,
   "metadata": {},
   "outputs": [
    {
     "name": "stdout",
     "output_type": "stream",
     "text": [
      "5\n",
      "12\n",
      "2.0\n"
     ]
    }
   ],
   "source": [
    "calc = Scientific_calculator_1()\n",
    "print(calc.add(2,3))\n",
    "print(calc.multiply(3,4))\n",
    "print(calc.logarithm(100,10))"
   ]
  },
  {
   "cell_type": "code",
   "execution_count": null,
   "metadata": {},
   "outputs": [],
   "source": []
  }
 ],
 "metadata": {
  "kernelspec": {
   "display_name": "Python 3.8.3 64-bit ('base')",
   "language": "python",
   "name": "python38364bitbase50bae7102fb34a9380fcab670ff4066f"
  },
  "language_info": {
   "codemirror_mode": {
    "name": "ipython",
    "version": 3
   },
   "file_extension": ".py",
   "mimetype": "text/x-python",
   "name": "python",
   "nbconvert_exporter": "python",
   "pygments_lexer": "ipython3",
   "version": "3.8.3"
  }
 },
 "nbformat": 4,
 "nbformat_minor": 4
}
