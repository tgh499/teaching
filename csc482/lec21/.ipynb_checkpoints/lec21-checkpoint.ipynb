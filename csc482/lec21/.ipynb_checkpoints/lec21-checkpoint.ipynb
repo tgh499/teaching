{
 "cells": [
  {
   "cell_type": "markdown",
   "metadata": {},
   "source": [
    "## Iterators, Generators\n",
    "What is an iterator?\n",
    "\n",
    "If there is a Python object that can be iterated upon, we call it an iterator. For example, a Python set, list, tuple etc.\n",
    "\n",
    "An iterator object has two methods. \\_\\_iter\\_\\_ and \\_\\_next\\_\\_\n",
    "\n",
    "\\_\\_iter\\_\\_ is like *self*. It returns the object itself.\n",
    "\n",
    "\\_\\_next\\_\\_ returns the next value in the iterable object."
   ]
  },
  {
   "cell_type": "code",
   "execution_count": 1,
   "metadata": {},
   "outputs": [],
   "source": [
    "class Iterable_object:\n",
    "    def __init__(self, start, stop):\n",
    "        self.next = start\n",
    "        self.stop = stop\n",
    "        \n",
    "    def __iter__(self):\n",
    "        return(self)\n",
    "    \n",
    "    def __next__(self):\n",
    "        if self.next < self.stop:\n",
    "            current = self.next\n",
    "            self.next += 1\n",
    "            return(current)\n",
    "        else:\n",
    "            raise StopIteration       "
   ]
  },
  {
   "cell_type": "code",
   "execution_count": 2,
   "metadata": {},
   "outputs": [
    {
     "name": "stdout",
     "output_type": "stream",
     "text": [
      "[1, 2, 3, 4, 5, 6, 7, 8, 9, 10, 11, 12, 13, 14, 15, 16, 17, 18, 19]\n"
     ]
    }
   ],
   "source": [
    "range_obj = Iterable_object(1,20)\n",
    "print(list(range_obj))"
   ]
  },
  {
   "cell_type": "code",
   "execution_count": 3,
   "metadata": {},
   "outputs": [
    {
     "name": "stdout",
     "output_type": "stream",
     "text": [
      "[1, 2, 3, 4, 5, 6, 7, 8, 9, 10, 11, 12, 13, 14, 15, 16, 17, 18, 19]\n"
     ]
    }
   ],
   "source": [
    "# Compre this with the range function\n",
    "\n",
    "print(list(range(1,20)))"
   ]
  },
  {
   "cell_type": "code",
   "execution_count": 4,
   "metadata": {},
   "outputs": [
    {
     "name": "stdout",
     "output_type": "stream",
     "text": [
      "[1, 4, 7, 10, 13, 16, 19]\n"
     ]
    }
   ],
   "source": [
    "print(list(range(1,20,3)))"
   ]
  },
  {
   "cell_type": "code",
   "execution_count": 5,
   "metadata": {},
   "outputs": [],
   "source": [
    "class Iterable_object:\n",
    "    def __init__(self, start, stop, step=1):\n",
    "        self.next = start\n",
    "        self.stop = stop\n",
    "        self.step = step\n",
    "        \n",
    "    def __iter__(self):\n",
    "        return(self)\n",
    "    \n",
    "    def __next__(self):\n",
    "        if self.next < self.stop:\n",
    "            current = self.next\n",
    "            self.next += self.step\n",
    "            return(current)\n",
    "        else:\n",
    "            raise StopIteration"
   ]
  },
  {
   "cell_type": "code",
   "execution_count": 11,
   "metadata": {},
   "outputs": [
    {
     "data": {
      "text/plain": [
       "[1, 2, 3, 4, 5, 6, 7, 8, 9, 10, 11, 12, 13, 14, 15, 16, 17, 18, 19]"
      ]
     },
     "execution_count": 11,
     "metadata": {},
     "output_type": "execute_result"
    }
   ],
   "source": [
    "range_obj = Iterable_object(1,20)\n",
    "list(range_obj)"
   ]
  },
  {
   "cell_type": "code",
   "execution_count": 18,
   "metadata": {},
   "outputs": [
    {
     "name": "stdout",
     "output_type": "stream",
     "text": [
      "[1, 4, 7, 10, 13, 16, 19]\n"
     ]
    }
   ],
   "source": [
    "range_obj = Iterable_object(1,20,3)\n",
    "list_1 = list(range_obj)\n",
    "#print(list_1)"
   ]
  },
  {
   "cell_type": "code",
   "execution_count": 19,
   "metadata": {},
   "outputs": [
    {
     "name": "stdout",
     "output_type": "stream",
     "text": [
      "1,4,7,10,13,16,19,"
     ]
    }
   ],
   "source": [
    "for i in list_1:\n",
    "    print(i, end=',')"
   ]
  },
  {
   "cell_type": "code",
   "execution_count": null,
   "metadata": {},
   "outputs": [],
   "source": [
    "# Let's write the for loop with our iterable object.\n",
    "range_obj = Iterable_object(1,20,3)\n",
    "while True:\n",
    "    try:\n",
    "        current = range_obj.__next__()\n",
    "        print(current, end= ',')\n",
    "    except StopIteration as error:\n",
    "        break\n",
    "        "
   ]
  },
  {
   "cell_type": "markdown",
   "metadata": {},
   "source": [
    "Generators are like regular functions. However, they use the 'yield' keyword instead of 'return'. They are a lot more memory efficient, because generators produces an "
   ]
  },
  {
   "cell_type": "code",
   "execution_count": null,
   "metadata": {},
   "outputs": [],
   "source": [
    "def range_return(start, stop, step=1):\n",
    "    while start < stop:\n",
    "        return(start)\n",
    "        start += step\n",
    "        \n",
    "        \n",
    "def range_yield(start, stop, step=1):\n",
    "    while start < stop:\n",
    "        yield(start)\n",
    "        start += step\n",
    "    \n",
    "    \n",
    "for i in range_yield(1,20):\n",
    "    print(i, end = ',')\n",
    "    \n",
    "for i in range_return(1,20):\n",
    "    print(i, end = ',')"
   ]
  },
  {
   "cell_type": "code",
   "execution_count": null,
   "metadata": {},
   "outputs": [],
   "source": [
    "def range_return(start, stop, step=1):\n",
    "    range_list = []\n",
    "    while start < stop:\n",
    "        range_list.append(start)\n",
    "        start += step\n",
    "    return(range_list)"
   ]
  },
  {
   "cell_type": "code",
   "execution_count": null,
   "metadata": {},
   "outputs": [],
   "source": [
    "for i in list(range_return(1,20)):\n",
    "    print(i, end = ',')"
   ]
  },
  {
   "cell_type": "code",
   "execution_count": null,
   "metadata": {},
   "outputs": [],
   "source": []
  }
 ],
 "metadata": {
  "kernelspec": {
   "display_name": "Python 3.8.3 64-bit ('base')",
   "language": "python",
   "name": "python38364bitbase50bae7102fb34a9380fcab670ff4066f"
  },
  "language_info": {
   "codemirror_mode": {
    "name": "ipython",
    "version": 3
   },
   "file_extension": ".py",
   "mimetype": "text/x-python",
   "name": "python",
   "nbconvert_exporter": "python",
   "pygments_lexer": "ipython3",
   "version": "3.8.3"
  }
 },
 "nbformat": 4,
 "nbformat_minor": 4
}
