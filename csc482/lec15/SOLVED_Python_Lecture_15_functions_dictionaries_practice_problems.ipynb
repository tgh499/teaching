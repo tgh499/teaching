{
 "cells": [
  {
   "cell_type": "markdown",
   "metadata": {},
   "source": [
    "**Problem 1:** Assume there are two lists. One is a list of keys, and another is a list of values. There is one-to-one relationship between the keys and values by thier indices. Write a Python function that combines the two lists as a dictionary.\n"
   ]
  },
  {
   "cell_type": "code",
   "execution_count": null,
   "metadata": {},
   "outputs": [],
   "source": [
    "def key_value(list_1, list_2):\n",
    "    dict_1 = {}\n",
    "    for (item_1,item_2) in zip(list_1,list_2):\n",
    "            dict_1[item_1] = item_2\n",
    "    \n",
    "    return(dict_1)\n",
    "\n",
    "\n",
    "list_3 = [\"a\",\"b\",\"c\"]\n",
    "list_4 = [1,2,3]\n",
    "\n",
    "list_5 = [1,2,3]\n",
    "list_6 = [4,5,6]\n",
    "#print(key_value(list_3, list_4))\n",
    "\n",
    "print(key_value(list_6, list_3))\n",
    "            \n"
   ]
  },
  {
   "cell_type": "markdown",
   "metadata": {},
   "source": [
    "**Problem 2**: Assume there is a dictionary with a list of numbers as values. Write a Python function that will replace that values with their sum."
   ]
  },
  {
   "cell_type": "code",
   "execution_count": null,
   "metadata": {},
   "outputs": [],
   "source": [
    "def sum_of_values(dict_1):\n",
    "    \n",
    "    for key in dict_1.keys():\n",
    "        dict_1[key] = sum(dict_1[key])\n",
    "    return(dict_1)\n",
    "\n",
    "dict_2 = {\"a\":[1,2,3], \"b\":[4,5,6]}\n",
    "\n",
    "\n",
    "print(sum_of_values(dict_2))\n",
    "        "
   ]
  },
  {
   "cell_type": "markdown",
   "metadata": {},
   "source": [
    "**Problem 3:** Transform the following quote by Richard Feynman into a dictionary, where each unique word is a key, and the value is how many times the word appeared in the quote. Make sure to use a function."
   ]
  },
  {
   "cell_type": "code",
   "execution_count": null,
   "metadata": {},
   "outputs": [],
   "source": [
    "text = \"\"\" you're I have a friend who’s an artist and has sometimes taken a view which I don’t agree with very well. He’ll hold up a flower and say “look how beautiful it is,” and I’ll agree. Then he says “I as an artist can see how beautiful this is but you as a scientist take this all apart and it becomes a dull thing,” and I think that he’s kind of nutty. First of all, the beauty that he sees is available to other people and to me too, I believe ... \n",
    "\n",
    "I can appreciate the beauty of a flower. At the same time, I see much more about the flower than he sees. I could imagine the cells in there, the complicated actions inside, which also have a beauty. I mean it’s not just beauty at this dimension, at one centimeter; there’s also beauty at smaller dimensions, the inner structure, also the processes. The fact that the colors in the flower evolved in order to attract insects to pollinate it is interesting; it means that insects can see the color. It adds a question: does this aesthetic sense also exist in the lower forms? Why is it aesthetic? All kinds of interesting questions which the science knowledge only adds to the excitement, the mystery and the awe of a flower. It only adds. I don’t understand how it subtracts.\"\"\"\n",
    "\n",
    "\n",
    "def word_frequency(text):\n",
    "    text = text.split()\n",
    "\n",
    "    word_dict = {}\n",
    "    for word in text:\n",
    "        word = word.lower()\n",
    "        if word.isalpha() and len(word) >1:\n",
    "            if word in word_dict.keys():\n",
    "                word_dict[word] += 1\n",
    "            else:\n",
    "                word_dict[word] = 1\n",
    "\n",
    "    return(word_dict)\n",
    "    \n",
    "print(word_frequency(text))   \n"
   ]
  },
  {
   "cell_type": "code",
   "execution_count": null,
   "metadata": {},
   "outputs": [],
   "source": [
    "text = \"you're\"\n",
    "\n",
    "text = text.replace(\"'\", \"\")\n",
    "\n",
    "print(text)"
   ]
  },
  {
   "cell_type": "code",
   "execution_count": 9,
   "metadata": {},
   "outputs": [
    {
     "name": "stdout",
     "output_type": "stream",
     "text": [
      "Please enter number of terms for Fibonacci sequence: 9\n",
      "[0, 1, 2, 3, 5, 8, 13, 21, 34]\n"
     ]
    }
   ],
   "source": [
    "n = int(input(\"Please enter number of terms for Fibonacci sequence: \"))\n",
    "\n",
    "if n == 0:\n",
    "    print(\"Please enter a valid positive number: \")\n",
    "elif n == 1:\n",
    "    print([0])\n",
    "elif n == 2:\n",
    "    print([0,1])\n",
    "else:\n",
    "    fib_sequence = [0,1]\n",
    "    for i in range(2,n+1):\n",
    "        temp = fib_sequence[i-2] + fib_sequence[i-1]\n",
    "        fib_sequence.append(temp)\n",
    "    \n",
    "    duplicates_removed = []\n",
    "    for num in fib_sequence:\n",
    "        if num not in duplicates_removed:\n",
    "            duplicates_removed.append(num)\n",
    "        \n",
    "        \n",
    "    print(duplicates_removed)"
   ]
  },
  {
   "cell_type": "code",
   "execution_count": null,
   "metadata": {},
   "outputs": [],
   "source": []
  },
  {
   "cell_type": "code",
   "execution_count": null,
   "metadata": {},
   "outputs": [],
   "source": []
  }
 ],
 "metadata": {
  "kernelspec": {
   "display_name": "Python 3",
   "language": "python",
   "name": "python3"
  },
  "language_info": {
   "codemirror_mode": {
    "name": "ipython",
    "version": 3
   },
   "file_extension": ".py",
   "mimetype": "text/x-python",
   "name": "python",
   "nbconvert_exporter": "python",
   "pygments_lexer": "ipython3",
   "version": "3.8.3"
  }
 },
 "nbformat": 4,
 "nbformat_minor": 4
}
