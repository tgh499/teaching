{
 "cells": [
  {
   "cell_type": "code",
   "execution_count": 12,
   "metadata": {},
   "outputs": [
    {
     "name": "stdout",
     "output_type": "stream",
     "text": [
      "3\n",
      "12\n",
      "False\n",
      "None\n",
      "[3, 2.34, 'Lyon', 'College']\n"
     ]
    }
   ],
   "source": [
    "# programming languages # high-level, low-level\n",
    "# types # int, float, string\n",
    "# variables snake_case, camelCase\n",
    "# strings \n",
    "a = 1\n",
    "b = 2\n",
    "c = a + b\n",
    "print(c)\n",
    "a = \"1\"\n",
    "b = \"2\"\n",
    "c = a + b\n",
    "c = c.upper() #isDigit. # isalnum\n",
    "print(c)\n",
    "\n",
    "a = True\n",
    "b = False\n",
    "\n",
    "output = (not(not(a and b) or (b or a)))\n",
    "print(output)\n",
    "\n",
    "# lists\n",
    "a = 3\n",
    "b = 2.34\n",
    "c = \"Lyon\"\n",
    "list_1 = [a, b, c]\n",
    "\n",
    "print(list_1.append(\"College\"))\n",
    "print(list_1)\n",
    "print(list_1[0])\n",
    "print(list_1[1])\n",
    "\n",
    "import numpy as np\n",
    "\n",
    "arr = np.array(zeros(2,3))\n",
    "arr = arr + 2\n",
    "\n",
    "# arrays\n",
    "# tuples\n",
    "\n",
    "# sets\n",
    "# dictionaries\n",
    "\n",
    "# if-else\n",
    "\n",
    "# while loops\n",
    "# for-loops\n",
    "\n",
    "\n",
    "# functions\n",
    "# classes\n",
    "# modules\n",
    "\n",
    "\n",
    "a = 5\n",
    "import random\n",
    "\n",
    "def sum(a, b):\n",
    "    a = 55\n",
    "    b = 45\n",
    "    return(a + b)\n",
    "\n",
    "\n",
    "\n"
   ]
  },
  {
   "cell_type": "code",
   "execution_count": 23,
   "metadata": {},
   "outputs": [
    {
     "name": "stdout",
     "output_type": "stream",
     "text": [
      "4\n"
     ]
    }
   ],
   "source": [
    "    def rand(a,b):\n",
    "        return(4)\n",
    "\n",
    "    print(rand(3,5))"
   ]
  },
  {
   "cell_type": "code",
   "execution_count": 28,
   "metadata": {},
   "outputs": [
    {
     "name": "stdout",
     "output_type": "stream",
     "text": [
      "2\n"
     ]
    }
   ],
   "source": [
    "        def rand(a, b):\n",
    "            a = b;\n",
    "            return(a)\n",
    "        print(rand(1,2))"
   ]
  },
  {
   "cell_type": "code",
   "execution_count": 35,
   "metadata": {},
   "outputs": [
    {
     "name": "stdout",
     "output_type": "stream",
     "text": [
      "4\n"
     ]
    }
   ],
   "source": [
    "        def rand(a, b):\n",
    "            a = b;\n",
    "            return(a)\n",
    "\n",
    "        a = 4\n",
    "        b = 5\n",
    "        print(rand(b,a));"
   ]
  },
  {
   "cell_type": "code",
   "execution_count": 34,
   "metadata": {},
   "outputs": [
    {
     "name": "stdout",
     "output_type": "stream",
     "text": [
      "[[0, 1, 0], [1, 0, 1]]\n"
     ]
    }
   ],
   "source": [
    "rand_arr = [[1,0,1],\n",
    "            [0,1,0]]\n",
    "\n",
    "for row in range(len(rand_arr)):\n",
    "    for col in range(len(rand_arr[0])):\n",
    "        if rand_arr[row][col] == 1:\n",
    "            rand_arr[row][col] = 0\n",
    "        else:\n",
    "            rand_arr[row][col] = 1\n",
    "print(rand_arr)"
   ]
  },
  {
   "cell_type": "code",
   "execution_count": 1,
   "metadata": {},
   "outputs": [
    {
     "name": "stdout",
     "output_type": "stream",
     "text": [
      "2\n"
     ]
    }
   ],
   "source": [
    "    names = [\"Ross\", \"Rachel\", \"Jeoy\"]\n",
    "\n",
    "    rand_dict = {}\n",
    "    count = 0\n",
    "    for name in names:\n",
    "        count += 1\n",
    "        rand_dict[name] = count\n",
    "\n",
    "    print(rand_dict[\"Rachel\"])"
   ]
  },
  {
   "cell_type": "code",
   "execution_count": 12,
   "metadata": {},
   "outputs": [
    {
     "name": "stdout",
     "output_type": "stream",
     "text": [
      "{'a': [1, 2, 3], 'b': [1, 2, 3]}\n"
     ]
    }
   ],
   "source": [
    "rand_dict = {\"a\":[1,2,3], \"b\":[1,2,3]}\n",
    "rand_mick = {\"a\":[1,2,3], \"b\":rand_dict}\n",
    "print(rand_mick[\"b\"])\n"
   ]
  },
  {
   "cell_type": "code",
   "execution_count": 6,
   "metadata": {},
   "outputs": [
    {
     "name": "stdout",
     "output_type": "stream",
     "text": [
      "0\n"
     ]
    }
   ],
   "source": [
    "        a = 6 % 3\n",
    "        a = a\n",
    "        print(a)"
   ]
  },
  {
   "cell_type": "code",
   "execution_count": 7,
   "metadata": {},
   "outputs": [
    {
     "ename": "SyntaxError",
     "evalue": "invalid syntax (<ipython-input-7-b912cdb59176>, line 1)",
     "output_type": "error",
     "traceback": [
      "\u001b[0;36m  File \u001b[0;32m\"<ipython-input-7-b912cdb59176>\"\u001b[0;36m, line \u001b[0;32m1\u001b[0m\n\u001b[0;31m    while = 99\u001b[0m\n\u001b[0m          ^\u001b[0m\n\u001b[0;31mSyntaxError\u001b[0m\u001b[0;31m:\u001b[0m invalid syntax\n"
     ]
    }
   ],
   "source": [
    "while = 99"
   ]
  },
  {
   "cell_type": "code",
   "execution_count": 13,
   "metadata": {},
   "outputs": [
    {
     "name": "stdout",
     "output_type": "stream",
     "text": [
      "2\n"
     ]
    }
   ],
   "source": [
    "names = [\"Ross\", \"Rachel\", \"Jeoy\"]\n",
    "\n",
    "rand_dict = {}\n",
    "count = 0\n",
    "for name in names:\n",
    "    count += 1\n",
    "    rand_dict[name] = count\n",
    "\n",
    "print(rand_dict[\"Rachel\"])"
   ]
  },
  {
   "cell_type": "code",
   "execution_count": 14,
   "metadata": {},
   "outputs": [
    {
     "name": "stdout",
     "output_type": "stream",
     "text": [
      "2\n"
     ]
    }
   ],
   "source": [
    "rand_dict = {\"a\":[1,2,3], \"b\":[4,5]}\n",
    "print(len(rand_dict))"
   ]
  },
  {
   "cell_type": "code",
   "execution_count": null,
   "metadata": {},
   "outputs": [],
   "source": []
  }
 ],
 "metadata": {
  "kernelspec": {
   "display_name": "Python 3",
   "language": "python",
   "name": "python3"
  },
  "language_info": {
   "codemirror_mode": {
    "name": "ipython",
    "version": 3
   },
   "file_extension": ".py",
   "mimetype": "text/x-python",
   "name": "python",
   "nbconvert_exporter": "python",
   "pygments_lexer": "ipython3",
   "version": "3.8.3"
  }
 },
 "nbformat": 4,
 "nbformat_minor": 4
}
