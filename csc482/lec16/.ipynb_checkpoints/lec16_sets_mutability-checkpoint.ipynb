{
 "cells": [
  {
   "cell_type": "markdown",
   "metadata": {},
   "source": [
    "What is a set? \n",
    "\n",
    "* It is a collection of unique items.\n",
    "* It is unordered. That means, there is no underlying order among the items. Also, you do not have control over the order.\n",
    "* It is unindexed. That means, you will not be able to point to an item with an index.\n",
    "\n",
    "\n",
    "Let's look at an example."
   ]
  },
  {
   "cell_type": "code",
   "execution_count": 1,
   "metadata": {},
   "outputs": [],
   "source": [
    "friends_set = {\"Ross\", \"Rachel\", \"Phoebe\", \"Chandler\", \"Joey\", \"Monica\"}"
   ]
  },
  {
   "cell_type": "code",
   "execution_count": 2,
   "metadata": {},
   "outputs": [
    {
     "name": "stdout",
     "output_type": "stream",
     "text": [
      "{'Monica', 'Joey', 'Chandler', 'Phoebe', 'Rachel', 'Ross'}\n"
     ]
    }
   ],
   "source": [
    "# no specific order\n",
    "print(friends_set)"
   ]
  },
  {
   "cell_type": "code",
   "execution_count": 3,
   "metadata": {},
   "outputs": [
    {
     "ename": "TypeError",
     "evalue": "'set' object is not subscriptable",
     "output_type": "error",
     "traceback": [
      "\u001b[0;31m---------------------------------------------------------------------------\u001b[0m",
      "\u001b[0;31mTypeError\u001b[0m                                 Traceback (most recent call last)",
      "\u001b[0;32m<ipython-input-3-9b0049b2426e>\u001b[0m in \u001b[0;36m<module>\u001b[0;34m\u001b[0m\n\u001b[1;32m      1\u001b[0m \u001b[0;31m# unindexed\u001b[0m\u001b[0;34m\u001b[0m\u001b[0;34m\u001b[0m\u001b[0;34m\u001b[0m\u001b[0m\n\u001b[1;32m      2\u001b[0m \u001b[0;34m\u001b[0m\u001b[0m\n\u001b[0;32m----> 3\u001b[0;31m \u001b[0mprint\u001b[0m\u001b[0;34m(\u001b[0m\u001b[0mfriends_set\u001b[0m\u001b[0;34m[\u001b[0m\u001b[0;36m0\u001b[0m\u001b[0;34m]\u001b[0m\u001b[0;34m)\u001b[0m\u001b[0;34m\u001b[0m\u001b[0;34m\u001b[0m\u001b[0m\n\u001b[0m",
      "\u001b[0;31mTypeError\u001b[0m: 'set' object is not subscriptable"
     ]
    }
   ],
   "source": [
    "# unindexed\n",
    "\n",
    "print(friends_set[0])"
   ]
  },
  {
   "cell_type": "code",
   "execution_count": 4,
   "metadata": {},
   "outputs": [
    {
     "name": "stdout",
     "output_type": "stream",
     "text": [
      "Monica\n",
      "Joey\n",
      "Chandler\n",
      "Phoebe\n",
      "Rachel\n",
      "Ross\n"
     ]
    }
   ],
   "source": [
    "# However, you can print items in a sentence using a for-loop\n",
    "\n",
    "for character in friends_set:\n",
    "    print(character)\n",
    "\n"
   ]
  },
  {
   "cell_type": "code",
   "execution_count": 5,
   "metadata": {},
   "outputs": [
    {
     "name": "stdout",
     "output_type": "stream",
     "text": [
      "True\n"
     ]
    }
   ],
   "source": [
    "print(\"Joey\" in friends_set)"
   ]
  },
  {
   "cell_type": "code",
   "execution_count": 6,
   "metadata": {},
   "outputs": [
    {
     "name": "stdout",
     "output_type": "stream",
     "text": [
      "True\n"
     ]
    }
   ],
   "source": [
    "print(\"Ross\" in friends_set)"
   ]
  },
  {
   "cell_type": "code",
   "execution_count": 7,
   "metadata": {},
   "outputs": [
    {
     "name": "stdout",
     "output_type": "stream",
     "text": [
      "False\n"
     ]
    }
   ],
   "source": [
    "print(\"Robin\" in friends_set)"
   ]
  },
  {
   "cell_type": "code",
   "execution_count": 8,
   "metadata": {},
   "outputs": [
    {
     "name": "stdout",
     "output_type": "stream",
     "text": [
      "{'Monica', 'Joey', 'Chandler', 'Gunther', 'Phoebe', 'Rachel', 'Ross'}\n"
     ]
    }
   ],
   "source": [
    "# add item to a set\n",
    "friends_set.add(\"Gunther\")\n",
    "print(friends_set)"
   ]
  },
  {
   "cell_type": "code",
   "execution_count": 9,
   "metadata": {},
   "outputs": [],
   "source": [
    "# remove item from the set\n",
    "friends_set.remove(\"Gunther\")\n",
    "friends_set.remove(\"Joey\")\n",
    "friends_set.remove(\"Chandler\")\n"
   ]
  },
  {
   "cell_type": "code",
   "execution_count": 10,
   "metadata": {},
   "outputs": [
    {
     "name": "stdout",
     "output_type": "stream",
     "text": [
      "{'Monica', 'Phoebe', 'Rachel', 'Ross'}\n"
     ]
    }
   ],
   "source": [
    "print(friends_set)"
   ]
  },
  {
   "cell_type": "code",
   "execution_count": 11,
   "metadata": {},
   "outputs": [
    {
     "name": "stdout",
     "output_type": "stream",
     "text": [
      "{'Monica', 'Joey', 'Chandler', 'Phoebe', 'Rachel', 'Ross'}\n"
     ]
    }
   ],
   "source": [
    "# add multiple items to a set\n",
    "friends_set.update([\"Joey\", \"Chandler\"])\n",
    "print(friends_set)"
   ]
  },
  {
   "cell_type": "code",
   "execution_count": 13,
   "metadata": {},
   "outputs": [
    {
     "name": "stdout",
     "output_type": "stream",
     "text": [
      "{'Monica', 'Joey', 'Chandler', 'Phoebe', 'Rachel', 'Ross'}\n",
      "{'Monica', 'Joey', 'Chandler', 'Phoebe', 'Rachel', 'Ross'}\n",
      "{'Monica', 'Joey', 'Chandler', 'Phoebe', 'Rachel', 'Ross'}\n",
      "{'Monica', 'Joey', 'Chandler', 'Phoebe', 'Rachel', 'Ross'}\n"
     ]
    }
   ],
   "source": [
    "# check uniqueness\n",
    "\n",
    "friends_set.update([\"Joey\", \"Chandler\"])\n",
    "print(friends_set)\n",
    "friends_set.update([\"Joey\", \"Chandler\"])\n",
    "print(friends_set)\n",
    "friends_set.update([\"Joey\", \"Chandler\"])\n",
    "print(friends_set)\n",
    "friends_set.add(\"Ross\")\n",
    "print(friends_set)"
   ]
  },
  {
   "cell_type": "code",
   "execution_count": 14,
   "metadata": {},
   "outputs": [
    {
     "name": "stdout",
     "output_type": "stream",
     "text": [
      "6\n"
     ]
    }
   ],
   "source": [
    "# check length (number of items) in a set\n",
    "print(len(friends_set))\n"
   ]
  },
  {
   "cell_type": "code",
   "execution_count": 18,
   "metadata": {},
   "outputs": [
    {
     "name": "stdout",
     "output_type": "stream",
     "text": [
      "{'Joey', 'Chandler', 'Phoebe', 'Rachel', 'Ross'}\n",
      "{'Chandler', 'Phoebe', 'Rachel', 'Ross'}\n",
      "{'Phoebe', 'Rachel', 'Ross'}\n"
     ]
    }
   ],
   "source": [
    "# remove one item\n",
    "friends_set = {\"Ross\", \"Rachel\", \"Phoebe\", \"Chandler\", \"Joey\", \"Monica\"}\n",
    "friends_set.pop()\n",
    "print(friends_set)\n",
    "friends_set.pop()\n",
    "print(friends_set)\n",
    "friends_set.pop()\n",
    "print(friends_set)"
   ]
  },
  {
   "cell_type": "code",
   "execution_count": 19,
   "metadata": {},
   "outputs": [
    {
     "name": "stdout",
     "output_type": "stream",
     "text": [
      "set()\n"
     ]
    }
   ],
   "source": [
    "# what happens?\n",
    "for i in range(len(friends_set)):\n",
    "    friends_set.pop()\n",
    "print(friends_set)"
   ]
  },
  {
   "cell_type": "code",
   "execution_count": 21,
   "metadata": {},
   "outputs": [],
   "source": [
    "friends_1 = {\"Ross\", \"Rachel\", \"Joey\"}\n",
    "friends_2 = {\"Joey\", \"Phoebe\"}\n",
    "friends_3 = {\"Chandler\", \"Monica\"}"
   ]
  },
  {
   "cell_type": "code",
   "execution_count": 22,
   "metadata": {},
   "outputs": [
    {
     "name": "stdout",
     "output_type": "stream",
     "text": [
      "{'Phoebe', 'Joey', 'Rachel', 'Ross'}\n"
     ]
    }
   ],
   "source": [
    "friends_1 = friends_1.union(friends_2)\n",
    "print(friends_1)"
   ]
  },
  {
   "cell_type": "code",
   "execution_count": 23,
   "metadata": {},
   "outputs": [
    {
     "name": "stdout",
     "output_type": "stream",
     "text": [
      "{'Monica', 'Chandler', 'Phoebe', 'Joey', 'Rachel', 'Ross'}\n"
     ]
    }
   ],
   "source": [
    "friends_1.update(friends_3)\n",
    "print(friends_1)"
   ]
  },
  {
   "cell_type": "code",
   "execution_count": 24,
   "metadata": {},
   "outputs": [
    {
     "name": "stdout",
     "output_type": "stream",
     "text": [
      "['Monica', 'Chandler', 'Phoebe', 'Joey', 'Rachel', 'Ross']\n"
     ]
    }
   ],
   "source": [
    "# set to a list\n",
    "friends_list = list(friends_1)\n",
    "\n",
    "print(friends_list)"
   ]
  },
  {
   "cell_type": "code",
   "execution_count": 26,
   "metadata": {},
   "outputs": [
    {
     "name": "stdout",
     "output_type": "stream",
     "text": [
      "Monica\n",
      "Chandler\n",
      "Phoebe\n",
      "Joey\n",
      "Rachel\n",
      "Ross\n",
      "Joey\n"
     ]
    }
   ],
   "source": [
    "for character in friends_list:\n",
    "    print(character)\n",
    "    \n",
    "print(friends_list[3])    "
   ]
  },
  {
   "cell_type": "code",
   "execution_count": 28,
   "metadata": {},
   "outputs": [
    {
     "name": "stdout",
     "output_type": "stream",
     "text": [
      "{'Monica', 'Joey', 'Chandler', 'Phoebe', 'Rachel', 'Ross'}\n",
      "<class 'set'>\n",
      "<class 'list'>\n"
     ]
    }
   ],
   "source": [
    "friends_set = set(friends_list)\n",
    "print(friends_set)\n",
    "print(type(friends_set))\n",
    "print(type(friends_list))"
   ]
  },
  {
   "cell_type": "code",
   "execution_count": 4,
   "metadata": {},
   "outputs": [],
   "source": [
    "fib_seq = [0,1,1,2,3,5,8,13]\n",
    "fib_seq = set(fib_seq)\n",
    "fib_seq_list = sorted(list(fib_seq))\n",
    "print(fib_seq_list)"
   ]
  },
  {
   "cell_type": "code",
   "execution_count": null,
   "metadata": {},
   "outputs": [],
   "source": []
  }
 ],
 "metadata": {
  "kernelspec": {
   "display_name": "Python 3.8.3 64-bit ('base')",
   "language": "python",
   "name": "python38364bitbase50bae7102fb34a9380fcab670ff4066f"
  },
  "language_info": {
   "codemirror_mode": {
    "name": "ipython",
    "version": 3
   },
   "file_extension": ".py",
   "mimetype": "text/x-python",
   "name": "python",
   "nbconvert_exporter": "python",
   "pygments_lexer": "ipython3",
   "version": "3.8.3"
  }
 },
 "nbformat": 4,
 "nbformat_minor": 4
}
