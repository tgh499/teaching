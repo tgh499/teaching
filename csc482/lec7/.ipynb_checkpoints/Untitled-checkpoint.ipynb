{
 "cells": [
  {
   "cell_type": "code",
   "execution_count": 11,
   "metadata": {},
   "outputs": [
    {
     "name": "stdout",
     "output_type": "stream",
     "text": [
      "Please enter a number: 2.33\n",
      "Given number is a not an integer.\n"
     ]
    }
   ],
   "source": [
    "number = float(input(\"Please enter a number: \"))\n",
    "if (number % 1) == 0:\n",
    "    if (number % 2) == 0:\n",
    "        print_txt = str(int(number)) + \" is an integer and even.\"\n",
    "        print(print_txt)\n",
    "    else:\n",
    "        print_txt = str(int(number)) + \" is an integer and odd.\"\n",
    "        print(print_txt)\n",
    "else:\n",
    "    print_txt = str(number) + \" is a not an integer.\"\n",
    "    print(print_txt)"
   ]
  },
  {
   "cell_type": "code",
   "execution_count": null,
   "metadata": {},
   "outputs": [],
   "source": []
  },
  {
   "cell_type": "code",
   "execution_count": null,
   "metadata": {},
   "outputs": [],
   "source": []
  }
 ],
 "metadata": {
  "kernelspec": {
   "display_name": "Python 3",
   "language": "python",
   "name": "python3"
  },
  "language_info": {
   "codemirror_mode": {
    "name": "ipython",
    "version": 3
   },
   "file_extension": ".py",
   "mimetype": "text/x-python",
   "name": "python",
   "nbconvert_exporter": "python",
   "pygments_lexer": "ipython3",
   "version": "3.8.3"
  }
 },
 "nbformat": 4,
 "nbformat_minor": 4
}
