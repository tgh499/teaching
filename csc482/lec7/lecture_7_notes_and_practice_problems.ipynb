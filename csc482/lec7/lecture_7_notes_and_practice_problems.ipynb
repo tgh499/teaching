{
 "cells": [
  {
   "cell_type": "markdown",
   "metadata": {},
   "source": [
    "Today, we are going to discuss:\n",
    "    \n",
    "* Logical operators\n",
    "* practice 3 problems related to if-else\n",
    "\n",
    "**What to keep in mind:**\n",
    "\n",
    "* you are supposed to try this yourself tonight\n",
    "* I will present the solution tomorrow during class time\n",
    "* to register your attendance (if you cannot come during class time), you must send the solution to at least one of the three problems by email **before class starts tomorrow** (September 03, 2020).\n",
    "    "
   ]
  },
  {
   "cell_type": "markdown",
   "metadata": {},
   "source": [
    "**Logical Operators**\n",
    "\n",
    "* We have already seen use of conditional statements in if-elif-else blocks\n",
    "* logical operators can connect two conditional statements\n",
    "\n",
    "Take a look at the following example:"
   ]
  },
  {
   "cell_type": "code",
   "execution_count": 10,
   "metadata": {},
   "outputs": [
    {
     "name": "stdout",
     "output_type": "stream",
     "text": [
      "Given number is between 5 and 10.\n"
     ]
    }
   ],
   "source": [
    "#a = int(input(\"Enter an integer number: \"))\n",
    "\n",
    "a = 9\n",
    "# try with a = 23\n",
    "\n",
    "if (a > 5):\n",
    "    if (a < 10):\n",
    "        print(\"Given number is between 5 and 10.\")\n",
    "    else:\n",
    "        print(\"Given number is not between 5 and 10.\")\n",
    "else:\n",
    "    print(\"Given number is not between 5 and 10.\")\n",
    "    "
   ]
  },
  {
   "cell_type": "markdown",
   "metadata": {},
   "source": [
    "The above code could be re-written without using the nested if block.\n"
   ]
  },
  {
   "cell_type": "code",
   "execution_count": 13,
   "metadata": {},
   "outputs": [
    {
     "name": "stdout",
     "output_type": "stream",
     "text": [
      "Given number is out of bounds\n"
     ]
    }
   ],
   "source": [
    "# a = 9\n",
    "a = 23\n",
    "\n",
    "if (a > 5 and a < 10):\n",
    "        print(\"Given number is between 5 and 10.\")\n",
    "else:\n",
    "    print(\"Given number is out of bounds\")"
   ]
  },
  {
   "cell_type": "markdown",
   "metadata": {},
   "source": [
    "We have three logical operators:\n",
    "\n",
    "* **and**:    This returns True if all conditions are True.\n",
    "* **or**:     This returns True if *at least* one of the conditions are True\n",
    "* **not**:    This retruns the reverse result. That is, if the result of evaluation of a condition is True, it will return False. It result is False, it will return True."
   ]
  },
  {
   "cell_type": "code",
   "execution_count": 31,
   "metadata": {},
   "outputs": [
    {
     "name": "stdout",
     "output_type": "stream",
     "text": [
      "True\n",
      "False\n",
      "False\n"
     ]
    }
   ],
   "source": [
    "a = 10\n",
    "print(a > 5 and a<15) # make a guess before running. true or false?\n",
    "print(a<5 or a<8) # make a guess before running. true or false?\n",
    "print(not(a > 5 and a<15)) # make a guess before running. true or false?\n"
   ]
  },
  {
   "cell_type": "markdown",
   "metadata": {},
   "source": [
    "Now solve the following three problems.\n",
    "\n",
    "1. Which of the following statements can describe a teenager?\n",
    "\n",
    "    a. **teenager >= 13 or teenager <= 19**\n",
    "    \n",
    "    b. **not(teenager < 13) and not(teenager > 19)**\n",
    "    \n",
    "    c. **not(teenager > 19) or not(teenager < 13)**\n",
    "    \n",
    "\n"
   ]
  },
  {
   "cell_type": "markdown",
   "metadata": {},
   "source": [
    "2. You can use *min* and *max* functions to find the lowest or highest valued item in a list. Now, let's say you have a list with 3 numbers. Can you write code to using if-else to determine the lowest number (You cannot use the *min* or *max* functions). The first line has been written for you."
   ]
  },
  {
   "cell_type": "code",
   "execution_count": 32,
   "metadata": {},
   "outputs": [],
   "source": [
    "num_list = [3, 2, 1]\n",
    "\n",
    "\n",
    "\n"
   ]
  },
  {
   "cell_type": "markdown",
   "metadata": {},
   "source": [
    "3. Now write code that finds the smalles digit in a 3-digit number. For example, the smallest digit in 423 is 2. Again, you cannot use the *min* or *max* functions. You must use if-else in at least one part of your code. The first line has been written for you. "
   ]
  },
  {
   "cell_type": "code",
   "execution_count": null,
   "metadata": {},
   "outputs": [],
   "source": [
    "rand_num = 423"
   ]
  }
 ],
 "metadata": {
  "kernelspec": {
   "display_name": "Python 3",
   "language": "python",
   "name": "python3"
  },
  "language_info": {
   "codemirror_mode": {
    "name": "ipython",
    "version": 3
   },
   "file_extension": ".py",
   "mimetype": "text/x-python",
   "name": "python",
   "nbconvert_exporter": "python",
   "pygments_lexer": "ipython3",
   "version": "3.8.3"
  }
 },
 "nbformat": 4,
 "nbformat_minor": 4
}
