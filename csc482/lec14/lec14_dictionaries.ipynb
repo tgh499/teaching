{
 "cells": [
  {
   "cell_type": "markdown",
   "metadata": {},
   "source": [
    "* Python dictionaries are similar to real-world dictionaries, ideologically.\n",
    "* For simplicity, let's assume all real-world words starting with 'a' belong to the key 'a'.\n",
    "* So \"apple\", \"albatros\" both would belong to the key 'a'.\n",
    "* Similarly, \"python\", \"panda\" both would belong to the key 'p'.\n",
    "* Here, \"apple\", \"albatros\", \"python\", and \"panda\" are values, and 'a' and 'p' are keys.\n",
    "* In Python, we use the same idea.\n",
    "* We have keys, and values. Keys are unique.\n",
    "* Similar to a real-world dictionary, Python dictionaries are a collection of items.\n",
    "* Each items can contain, one key, and one or multiple values.\n",
    "* Dictionaries are indexed."
   ]
  },
  {
   "cell_type": "code",
   "execution_count": null,
   "metadata": {},
   "outputs": [],
   "source": [
    "# create a dictionary\n",
    "top_soccer_clubs_players = {\n",
    "    \"barcelona\" : \"Messi\",\n",
    "    \"juventus\" : \"Ronaldo\"\n",
    "}\n",
    "\n",
    "print(top_soccer_clubs_players)"
   ]
  },
  {
   "cell_type": "code",
   "execution_count": null,
   "metadata": {},
   "outputs": [],
   "source": [
    "# dictionary keys with varying length and type for values\n",
    "\n",
    "top_soccer_clubs_players = {\n",
    "    \"barcelona\" : [\"Messi\", \"Suarez\"],\n",
    "    \"juventus\" : \"Ronaldo\"\n",
    "}\n",
    "print(top_soccer_clubs_players)"
   ]
  },
  {
   "cell_type": "code",
   "execution_count": null,
   "metadata": {},
   "outputs": [],
   "source": [
    "# added a new key\n",
    "\n",
    "top_soccer_clubs_players[\"tottenham\"] = [\"Kane\", \"Son\"]\n",
    "\n",
    "print(top_soccer_clubs_players)"
   ]
  },
  {
   "cell_type": "code",
   "execution_count": null,
   "metadata": {},
   "outputs": [],
   "source": [
    "# print items in the dictionary, one by one\n",
    "\n",
    "for item in top_soccer_clubs_players:\n",
    "    print(item)"
   ]
  },
  {
   "cell_type": "code",
   "execution_count": null,
   "metadata": {},
   "outputs": [],
   "source": [
    "# print items in the dictionary, one by one, with values\n",
    "\n",
    "for item in top_soccer_clubs_players:\n",
    "    print(top_soccer_clubs_players[item])"
   ]
  },
  {
   "cell_type": "code",
   "execution_count": null,
   "metadata": {},
   "outputs": [],
   "source": [
    "# attempting to print length of each dictionary\n",
    "\n",
    "for item in top_soccer_clubs_players:\n",
    "    print(len(item))\n",
    "    \n",
    "# is this what we wanted?"
   ]
  },
  {
   "cell_type": "code",
   "execution_count": null,
   "metadata": {},
   "outputs": [],
   "source": [
    "# print length of each dictionary\n",
    "\n",
    "for item in top_soccer_clubs_players:\n",
    "    print(len(top_soccer_clubs_players[item]))"
   ]
  },
  {
   "cell_type": "code",
   "execution_count": null,
   "metadata": {},
   "outputs": [],
   "source": [
    "# change type of each item to list\n",
    "top_soccer_clubs_players[\"juventus\"] = [\"Ronaldo\"]\n",
    "\n",
    "for item in top_soccer_clubs_players:\n",
    "    print(top_soccer_clubs_players[item])"
   ]
  },
  {
   "cell_type": "code",
   "execution_count": null,
   "metadata": {},
   "outputs": [],
   "source": [
    "# print length of each item\n",
    "for item in top_soccer_clubs_players:\n",
    "    print(len(top_soccer_clubs_players[item]))"
   ]
  },
  {
   "cell_type": "code",
   "execution_count": null,
   "metadata": {},
   "outputs": [],
   "source": [
    "# print all keys\n",
    "for key in top_soccer_clubs_players.keys():\n",
    "    print(key)"
   ]
  },
  {
   "cell_type": "code",
   "execution_count": null,
   "metadata": {},
   "outputs": [],
   "source": [
    "# print all values\n",
    "for value in top_soccer_clubs_players.values():\n",
    "    print(value)"
   ]
  },
  {
   "cell_type": "code",
   "execution_count": null,
   "metadata": {},
   "outputs": [],
   "source": [
    "# print value by index\n",
    "for value in top_soccer_clubs_players.values():\n",
    "    print(value[0])"
   ]
  },
  {
   "cell_type": "code",
   "execution_count": null,
   "metadata": {},
   "outputs": [],
   "source": [
    "# values have varying legnths. We might encounter errors.\n",
    "for value in top_soccer_clubs_players.values():\n",
    "    print(value[1])"
   ]
  },
  {
   "cell_type": "code",
   "execution_count": null,
   "metadata": {},
   "outputs": [],
   "source": [
    "# fix it by implementing a condition\n",
    "for value in top_soccer_clubs_players.values():\n",
    "    if len(value) > 1:\n",
    "        print(value[1])"
   ]
  },
  {
   "cell_type": "code",
   "execution_count": null,
   "metadata": {},
   "outputs": [],
   "source": [
    "# learn the use of dictionary.items()\n",
    "for key,value in top_soccer_clubs_players.items():\n",
    "    print(key)\n",
    "    print(value)\n",
    "    print(\"\\n\")"
   ]
  },
  {
   "cell_type": "code",
   "execution_count": null,
   "metadata": {},
   "outputs": [],
   "source": [
    "# print each value belonging to a key\n",
    "for value in top_soccer_clubs_players[\"tottenham\"]:\n",
    "    print(value)"
   ]
  },
  {
   "cell_type": "code",
   "execution_count": null,
   "metadata": {},
   "outputs": [],
   "source": [
    "# remove an item from a dictionary\n",
    "\n",
    "print(top_soccer_clubs_players)\n",
    "top_soccer_clubs_players.pop(\"juventus\")\n",
    "print(\"After popping: \")\n",
    "print(top_soccer_clubs_players)"
   ]
  },
  {
   "cell_type": "code",
   "execution_count": null,
   "metadata": {},
   "outputs": [],
   "source": [
    "print(top_soccer_clubs_players)\n",
    "del(top_soccer_clubs_players[\"barcelona\"])\n",
    "print(\"After deleting: \")\n",
    "print(top_soccer_clubs_players)"
   ]
  },
  {
   "cell_type": "code",
   "execution_count": null,
   "metadata": {},
   "outputs": [],
   "source": [
    "# make a copy (Right way?)\n",
    "\n",
    "new_club_dictionary_2 = top_soccer_clubs_players.copy()\n",
    "\n"
   ]
  },
  {
   "cell_type": "code",
   "execution_count": null,
   "metadata": {},
   "outputs": [],
   "source": [
    "# delete the dictionary\n",
    "del(top_soccer_clubs_players)\n",
    "\n"
   ]
  },
  {
   "cell_type": "code",
   "execution_count": null,
   "metadata": {},
   "outputs": [],
   "source": [
    "print(top_soccer_clubs_players)"
   ]
  },
  {
   "cell_type": "code",
   "execution_count": null,
   "metadata": {},
   "outputs": [],
   "source": [
    "print(new_club_dictionary_2)"
   ]
  },
  {
   "cell_type": "code",
   "execution_count": 14,
   "metadata": {},
   "outputs": [
    {
     "name": "stdout",
     "output_type": "stream",
     "text": [
      "{'even': [10, 20], 'odd': [1, 3]}\n"
     ]
    }
   ],
   "source": [
    "nums = {\"even\" : [10, 20], \"odd\" : [1, 3]}\n",
    "                        \n",
    "\n",
    "num_1 = nums\n",
    "num_2 = nums.copy()\n",
    "\n",
    "nums[\"even\"] = [30,32]\n",
    "\n",
    "\n",
    "print(num_2)\n"
   ]
  },
  {
   "cell_type": "code",
   "execution_count": null,
   "metadata": {},
   "outputs": [],
   "source": []
  }
 ],
 "metadata": {
  "kernelspec": {
   "display_name": "Python 3",
   "language": "python",
   "name": "python3"
  },
  "language_info": {
   "codemirror_mode": {
    "name": "ipython",
    "version": 3
   },
   "file_extension": ".py",
   "mimetype": "text/x-python",
   "name": "python",
   "nbconvert_exporter": "python",
   "pygments_lexer": "ipython3",
   "version": "3.8.3"
  }
 },
 "nbformat": 4,
 "nbformat_minor": 4
}
