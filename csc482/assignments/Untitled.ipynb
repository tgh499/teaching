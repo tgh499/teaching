{
 "cells": [
  {
   "cell_type": "code",
   "execution_count": 58,
   "metadata": {},
   "outputs": [],
   "source": [
    "import string\n",
    "class Toru_textStat:\n",
    "    \n",
    "    def __init__(self, data):\n",
    "        self.text = data\n",
    "\n",
    "        \n",
    "    def find_length(self):\n",
    "        exclude = set(string.punctuation)\n",
    "        text_list = text.split()\n",
    "        pruned_list = []\n",
    "        \n",
    "        for word in text_list:\n",
    "            word = ''.join(ch for ch in word if ch not in exclude)\n",
    "            if word.isalpha():\n",
    "                pruned_list.append(word)\n",
    "                \n",
    "        print(pruned_list)\n",
    "        return(len(pruned_list))"
   ]
  },
  {
   "cell_type": "code",
   "execution_count": 59,
   "metadata": {},
   "outputs": [
    {
     "name": "stdout",
     "output_type": "stream",
     "text": [
      "['Hello', 'Universe', 'How', 'many', 'galaxies', 'do', 'you', 'have', 'billion', 'or', 'a', 'trillion']\n",
      "12\n"
     ]
    }
   ],
   "source": [
    "text = \"\"\"Hello Universe! How many galaxies do you have? \n",
    "100 billion or a 1000 trillion?\"\"\"\n",
    "print(Toru_textStat.find_length(text))"
   ]
  },
  {
   "cell_type": "code",
   "execution_count": null,
   "metadata": {},
   "outputs": [],
   "source": []
  },
  {
   "cell_type": "code",
   "execution_count": null,
   "metadata": {},
   "outputs": [],
   "source": []
  }
 ],
 "metadata": {
  "kernelspec": {
   "display_name": "Python 3.8.3 64-bit ('base')",
   "language": "python",
   "name": "python38364bitbase50bae7102fb34a9380fcab670ff4066f"
  },
  "language_info": {
   "codemirror_mode": {
    "name": "ipython",
    "version": 3
   },
   "file_extension": ".py",
   "mimetype": "text/x-python",
   "name": "python",
   "nbconvert_exporter": "python",
   "pygments_lexer": "ipython3",
   "version": "3.8.3"
  }
 },
 "nbformat": 4,
 "nbformat_minor": 4
}
