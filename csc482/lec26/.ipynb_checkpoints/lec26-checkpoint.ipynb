{
 "cells": [
  {
   "cell_type": "code",
   "execution_count": 25,
   "metadata": {},
   "outputs": [
    {
     "name": "stdout",
     "output_type": "stream",
     "text": [
      "           0         1         2         3         4         5         6    \\\n",
      "0     5.000000       NaN       NaN       NaN       NaN       NaN       NaN   \n",
      "1     5.000000       NaN       NaN       NaN       NaN       NaN       NaN   \n",
      "2     5.000000       NaN       NaN       NaN       NaN       NaN       NaN   \n",
      "3     5.000000       NaN       NaN       NaN       NaN       NaN       NaN   \n",
      "4     5.000000       NaN       NaN       NaN       NaN       NaN       NaN   \n",
      "...        ...       ...       ...       ...       ...       ...       ...   \n",
      "2942  0.310155 -0.053391 -0.099109 -0.287866 -0.140589 -0.215088 -0.356083   \n",
      "2943  0.363385 -0.039214 -0.105915 -0.305388  0.028148 -0.196373 -0.373540   \n",
      "2944  0.349966  0.030077 -0.115788 -0.329638 -0.042143 -0.250181 -0.388017   \n",
      "2945  0.237594  0.018467 -0.096499 -0.323114 -0.229775 -0.207574 -0.392380   \n",
      "2946  0.153627 -0.018437 -0.137018 -0.330046 -0.195253 -0.164339 -0.430974   \n",
      "\n",
      "           7         8         9    ...       551       552       553  \\\n",
      "0          NaN       NaN       NaN  ...       NaN       NaN       NaN   \n",
      "1          NaN       NaN       NaN  ...       NaN       NaN       NaN   \n",
      "2          NaN       NaN       NaN  ...       NaN       NaN       NaN   \n",
      "3          NaN       NaN       NaN  ...       NaN       NaN       NaN   \n",
      "4          NaN       NaN       NaN  ...       NaN       NaN       NaN   \n",
      "...        ...       ...       ...  ...       ...       ...       ...   \n",
      "2942 -0.148775 -0.232057  0.185361  ...  0.074472 -0.376278 -0.750809   \n",
      "2943 -0.030036 -0.270237  0.185361  ...  0.101859 -0.320418 -0.700274   \n",
      "2944 -0.133257 -0.347029  0.007471  ... -0.066249 -0.118854 -0.467179   \n",
      "2945 -0.279610 -0.289477  0.007471  ... -0.046467 -0.205445 -0.617737   \n",
      "2946 -0.218295 -0.229933 -0.111527  ... -0.010386 -0.072237 -0.436940   \n",
      "\n",
      "           554       555       556       557       558       559       560  \n",
      "0          NaN       NaN       NaN       NaN       NaN       NaN       NaN  \n",
      "1          NaN       NaN       NaN       NaN       NaN       NaN       NaN  \n",
      "2          NaN       NaN       NaN       NaN       NaN       NaN       NaN  \n",
      "3          NaN       NaN       NaN       NaN       NaN       NaN       NaN  \n",
      "4          NaN       NaN       NaN       NaN       NaN       NaN       NaN  \n",
      "...        ...       ...       ...       ...       ...       ...       ...  \n",
      "2942 -0.337422  0.346295  0.884904 -0.698885 -0.651732  0.274627  0.184784  \n",
      "2943 -0.736701 -0.372889 -0.657421  0.322549 -0.655181  0.273578  0.182412  \n",
      "2944 -0.181560  0.088574  0.696663  0.363139 -0.655357  0.274479  0.181184  \n",
      "2945  0.444558 -0.819188  0.929294 -0.008398 -0.659719  0.264782  0.187563  \n",
      "2946  0.598808 -0.287951  0.876030 -0.024965 -0.660080  0.263936  0.188103  \n",
      "\n",
      "[5894 rows x 561 columns]\n"
     ]
    }
   ],
   "source": [
    "import numpy as np\n",
    "import pandas as pd\n",
    "X_test = np.loadtxt(\"X_test.txt\",skiprows=0)\n",
    "Y_test = np.loadtxt(\"Y_test.txt\",skiprows=0)\n",
    "\n",
    "X_df = pd.DataFrame(X_test)\n",
    "Y_df = pd.DataFrame(Y_test)\n",
    "\n",
    "\n",
    "data = pd.concat([Y_df, X_df], axis=1)\n",
    "print(data)"
   ]
  },
  {
   "cell_type": "code",
   "execution_count": 5,
   "metadata": {},
   "outputs": [
    {
     "name": "stdout",
     "output_type": "stream",
     "text": [
      "<class 'sklearn.utils.Bunch'>\n"
     ]
    }
   ],
   "source": []
  },
  {
   "cell_type": "code",
   "execution_count": null,
   "metadata": {},
   "outputs": [],
   "source": []
  }
 ],
 "metadata": {
  "kernelspec": {
   "display_name": "Python 3",
   "language": "python",
   "name": "python3"
  },
  "language_info": {
   "codemirror_mode": {
    "name": "ipython",
    "version": 3
   },
   "file_extension": ".py",
   "mimetype": "text/x-python",
   "name": "python",
   "nbconvert_exporter": "python",
   "pygments_lexer": "ipython3",
   "version": "3.8.3"
  }
 },
 "nbformat": 4,
 "nbformat_minor": 4
}
