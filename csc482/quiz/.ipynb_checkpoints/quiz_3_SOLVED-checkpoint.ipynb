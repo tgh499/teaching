{
 "cells": [
  {
   "cell_type": "markdown",
   "metadata": {},
   "source": [
    "Q1: **[50 points]** Observe the following Python function. "
   ]
  },
  {
   "cell_type": "markdown",
   "metadata": {},
   "source": [
    "```\n",
    "def div(a, b):\n",
    "    return(a/b)\n",
    "```\n",
    "\n",
    "The ***div*** function is a simple function that divides ***a*** by ***b***, and returns the result. However, we also know the special case when we divide a number by 0. For now, we will simply not allow it, and print out the message ***Sorry! Can't divide by zero!!***. \n",
    "\n",
    "Now, write a decorator for the ***div*** function, so that the message gets printed whenever 0 as passed as the value of b."
   ]
  },
  {
   "cell_type": "code",
   "execution_count": 6,
   "metadata": {},
   "outputs": [],
   "source": [
    "def checkfunc(func):\n",
    "    def checkfunc_parameters(a,b):\n",
    "        if b == 0:\n",
    "            print(\"Sorry!\")\n",
    "            return\n",
    "        else:\n",
    "            return func(a,b)\n",
    "    return(checkfunc_parameters)\n",
    "\n",
    "@checkfunc\n",
    "def div(a,b):\n",
    "    return(a/b)"
   ]
  },
  {
   "cell_type": "markdown",
   "metadata": {},
   "source": [
    "Q2: **[20 points]** Write necessary code to test your decorator using three sets of values for a and b. One of the values of b must be 0."
   ]
  },
  {
   "cell_type": "code",
   "execution_count": 8,
   "metadata": {},
   "outputs": [
    {
     "name": "stdout",
     "output_type": "stream",
     "text": [
      "0.6764705882352942\n",
      "Sorry!\n",
      "None\n"
     ]
    }
   ],
   "source": [
    "print(div(23, 34))\n",
    "print(div(1,0))"
   ]
  },
  {
   "cell_type": "markdown",
   "metadata": {},
   "source": [
    "Q3: **[30 points]** In the cell below, type one advantage of using generator expressions."
   ]
  },
  {
   "cell_type": "markdown",
   "metadata": {},
   "source": []
  }
 ],
 "metadata": {
  "kernelspec": {
   "display_name": "Python 3.8.3 64-bit ('base')",
   "language": "python",
   "name": "python38364bitbase50bae7102fb34a9380fcab670ff4066f"
  },
  "language_info": {
   "codemirror_mode": {
    "name": "ipython",
    "version": 3
   },
   "file_extension": ".py",
   "mimetype": "text/x-python",
   "name": "python",
   "nbconvert_exporter": "python",
   "pygments_lexer": "ipython3",
   "version": "3.8.3"
  }
 },
 "nbformat": 4,
 "nbformat_minor": 4
}
