{
 "cells": [
  {
   "cell_type": "markdown",
   "metadata": {},
   "source": [
    "Take a loook at the following class. "
   ]
  },
  {
   "cell_type": "code",
   "execution_count": 69,
   "metadata": {},
   "outputs": [],
   "source": [
    "import math\n",
    "class Math_1:\n",
    "    def __init__(self, angle, radius):\n",
    "        self.x = angle\n",
    "        self.y = radius\n",
    "    \n",
    "    def cos_x(self):\n",
    "        return(math.cos(self.x))\n",
    "    \n",
    "    def area_circle(self):\n",
    "        area = math.pi * self.y * self.y\n",
    "        return(area)"
   ]
  },
  {
   "cell_type": "code",
   "execution_count": 70,
   "metadata": {},
   "outputs": [],
   "source": [
    "class Math_2(Math_1):\n",
    "    def __init__(self, a, b, c):\n",
    "        super().__init__(a, b)\n",
    "        self.z = c\n",
    "        \n",
    "    def sin_x(self):\n",
    "        return(math.sin(self.z))"
   ]
  },
  {
   "cell_type": "code",
   "execution_count": 71,
   "metadata": {},
   "outputs": [
    {
     "name": "stdout",
     "output_type": "stream",
     "text": [
      "1.0\n",
      "3.141592653589793\n",
      "0.8939966636005579\n"
     ]
    }
   ],
   "source": [
    "calc = Math_2(0,1,90)\n",
    "print(calc.cos_x())\n",
    "print(calc.area_circle())\n",
    "print(calc.sin_x())"
   ]
  },
  {
   "cell_type": "code",
   "execution_count": 72,
   "metadata": {},
   "outputs": [],
   "source": [
    "import math\n",
    "class Math_1:\n",
    "    def __init__(self):\n",
    "        pass\n",
    "    \n",
    "    def cos_x(self,x):\n",
    "        return(math.cos(x))\n",
    "    \n",
    "    def area_circle(self, y):\n",
    "        area = math.pi * y * y\n",
    "        return(area)"
   ]
  },
  {
   "cell_type": "code",
   "execution_count": 73,
   "metadata": {},
   "outputs": [
    {
     "name": "stdout",
     "output_type": "stream",
     "text": [
      "1.0\n",
      "3.141592653589793\n"
     ]
    }
   ],
   "source": [
    "calc = Math_1()\n",
    "print(calc.cos_x(0))\n",
    "print(calc.area_circle(1))"
   ]
  },
  {
   "cell_type": "code",
   "execution_count": null,
   "metadata": {},
   "outputs": [],
   "source": []
  }
 ],
 "metadata": {
  "kernelspec": {
   "display_name": "Python 3.8.3 64-bit ('base')",
   "language": "python",
   "name": "python38364bitbase50bae7102fb34a9380fcab670ff4066f"
  },
  "language_info": {
   "codemirror_mode": {
    "name": "ipython",
    "version": 3
   },
   "file_extension": ".py",
   "mimetype": "text/x-python",
   "name": "python",
   "nbconvert_exporter": "python",
   "pygments_lexer": "ipython3",
   "version": "3.8.3"
  }
 },
 "nbformat": 4,
 "nbformat_minor": 4
}
