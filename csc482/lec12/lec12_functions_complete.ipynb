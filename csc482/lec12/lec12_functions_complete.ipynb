{
 "cells": [
  {
   "cell_type": "markdown",
   "metadata": {},
   "source": [
    "Today we will introduce a new concept, but a very important one - functions.\n",
    "\n",
    "We have seen that, when we do a particular task repeatedly, we can use *for* or *while* loops. But not everything can be contained in *for* or *while* loops. Sometimes we need to work on multiple variables, and sometimes the work we do will not follow a strict repition pattern. We may need to use things on demand. \n",
    "\n",
    "Sometimes we may also need to break down things in small parts - to make our lives easy. It will also help anybody (not you) understand your code better. \n",
    "\n",
    "To solve the above problems, we use functions. The above problems are a tiny selection of the range of problems a function can solve. In practice, it is always a good idea to use functions. One of the biggest advantages of functions is it allows you to work less. If you have written a good function for a particular task, you many then copy and paste the function and use it wherever you need.\n",
    "\n",
    "Let's see an example."
   ]
  },
  {
   "cell_type": "code",
   "execution_count": null,
   "metadata": {},
   "outputs": [],
   "source": [
    "def print_hellWorld():\n",
    "    print(\"Hello World!\")"
   ]
  },
  {
   "cell_type": "code",
   "execution_count": null,
   "metadata": {},
   "outputs": [],
   "source": [
    "# run the function by calling it\n",
    "print_hellWorld()"
   ]
  },
  {
   "cell_type": "code",
   "execution_count": null,
   "metadata": {},
   "outputs": [],
   "source": [
    "def add_two_numbers(num_1, num_2):\n",
    "    print(num_1 + num_2)"
   ]
  },
  {
   "cell_type": "code",
   "execution_count": null,
   "metadata": {},
   "outputs": [],
   "source": [
    "add_two_numbers(1,2)\n",
    "add_two_numbers(100, 300)\n",
    "add_two_numbers(300,3231998293829)"
   ]
  },
  {
   "cell_type": "code",
   "execution_count": null,
   "metadata": {},
   "outputs": [],
   "source": [
    "def multiply_two_numbers(num_1, num_2):\n",
    "    print(num_1 * num_2)"
   ]
  },
  {
   "cell_type": "code",
   "execution_count": null,
   "metadata": {},
   "outputs": [],
   "source": [
    "multiply_two_numbers(1,2)\n",
    "multiply_two_numbers(100, 300)\n",
    "multiply_two_numbers(300,3231998293829)"
   ]
  },
  {
   "cell_type": "code",
   "execution_count": null,
   "metadata": {},
   "outputs": [],
   "source": [
    "# Let's learn \"return\"\n",
    "\n",
    "def add_two_numbers_w_return(num_1, num_2):\n",
    "    return(num_1 + num_2)"
   ]
  },
  {
   "cell_type": "code",
   "execution_count": null,
   "metadata": {},
   "outputs": [],
   "source": [
    "add_two_numbers_w_return(1,2)\n",
    "add_two_numbers_w_return(100, 300)\n",
    "add_two_numbers_w_return(300,3231998293829)\n"
   ]
  },
  {
   "cell_type": "code",
   "execution_count": null,
   "metadata": {},
   "outputs": [],
   "source": [
    "def add_two_numbers_w_return(num_1, num_2):\n",
    "    #result = num_1 _+ num_2\n",
    "    #result = result ** 2\n",
    "    #print(result)\n",
    "    return(num_1 + num_2)\n",
    "\n",
    "result = add_two_numbers_w_return(4,25)\n",
    "result = result ** 2 # square the result\n",
    "print(result)"
   ]
  },
  {
   "cell_type": "code",
   "execution_count": null,
   "metadata": {},
   "outputs": [],
   "source": [
    "def add_two_numbers_w_return(num_1, num_2):\n",
    "    return(num_1 + num_2)\n",
    "\n",
    "print(add_two_numbers_w_return(1,2))\n",
    "print(add_two_numbers_w_return(100, 300))\n",
    "print(add_two_numbers_w_return(300,3231998293829))"
   ]
  },
  {
   "cell_type": "code",
   "execution_count": null,
   "metadata": {},
   "outputs": [],
   "source": [
    "def add_two_numbers_square_result(num_1, num_2):\n",
    "    result = (num_1 + num_2) ** 2\n",
    "    return(result)"
   ]
  },
  {
   "cell_type": "code",
   "execution_count": null,
   "metadata": {},
   "outputs": [],
   "source": [
    "print(add_two_numbers_square_result(1,2))\n",
    "print(add_two_numbers_square_result(100, 300))\n",
    "print(add_two_numbers_square_result(300,3231998293829))"
   ]
  },
  {
   "cell_type": "markdown",
   "metadata": {},
   "source": [
    "Let's revisit one of the functions we used earlier:\n",
    "\n",
    "```Python\n",
    "def add_two_numbers(num_1, num_2):\n",
    "    print(num_1 + num_2)\n",
    "    \n",
    "add_two_numbers_w_return(1,2)\n",
    "add_two_numbers_w_return(100, 300)\n",
    "```\n",
    "\n",
    "Here, num_1 and num_2 are parameters of the function. Essentially, they are variables that are used later in the function. When you call a funciton, you can pass values for the parameters. Those values are called arguments. Here, each time we called the *add_two_numbers* function, we passed some values to it. This function was designed for two parameters. If the numbers of parameters and arguments passed mismatch, the function will not work.\n"
   ]
  },
  {
   "cell_type": "code",
   "execution_count": null,
   "metadata": {
    "scrolled": true
   },
   "outputs": [],
   "source": [
    "def add_two_numbers(num_1, num_2):\n",
    "    print(num_1 + num_2)\n",
    "    \n",
    "add_two_numbers_w_return(2)\n",
    "add_two_numbers_w_return(100)"
   ]
  },
  {
   "cell_type": "code",
   "execution_count": null,
   "metadata": {},
   "outputs": [],
   "source": [
    "def add_two_numbers(num_1, num_2):\n",
    "    print(num_1 + num_2)\n",
    "    \n",
    "add_two_numbers_w_return(2,\"3\")\n",
    "add_two_numbers_w_return(100, 'c')"
   ]
  },
  {
   "cell_type": "code",
   "execution_count": null,
   "metadata": {},
   "outputs": [],
   "source": [
    "# order matters\n",
    "import math\n",
    "\n",
    "def fun_w_two_numbers(num_1, num_2):\n",
    "    print(num_1)\n",
    "    print(num_2)\n",
    "    print(num_1 ** 2 + math.sqrt(num_2))\n",
    "    \n",
    "\n",
    "\n"
   ]
  },
  {
   "cell_type": "code",
   "execution_count": null,
   "metadata": {},
   "outputs": [],
   "source": [
    "fun_w_two_numbers(3,2)"
   ]
  },
  {
   "cell_type": "code",
   "execution_count": null,
   "metadata": {},
   "outputs": [],
   "source": [
    "fun_w_two_numbers(2,3)"
   ]
  },
  {
   "cell_type": "markdown",
   "metadata": {},
   "source": [
    "### default parameter\n",
    "\n",
    "If there is a possibility, or if you are in a situation when you must choose a value if user doesn't provide one, you can do so.\n"
   ]
  },
  {
   "cell_type": "code",
   "execution_count": null,
   "metadata": {},
   "outputs": [],
   "source": [
    "def print_nationality(current_citizenship = \"US\"):\n",
    "    print(\"The applicant is a/an \" + current_citizenship + \" citizen.\")\n"
   ]
  },
  {
   "cell_type": "code",
   "execution_count": null,
   "metadata": {},
   "outputs": [],
   "source": [
    "print_nationality(\"Australian\")\n",
    "print_nationality(\"Mexican\")\n",
    "print_nationality()\n",
    "print_nationality()"
   ]
  },
  {
   "cell_type": "code",
   "execution_count": 2,
   "metadata": {},
   "outputs": [
    {
     "name": "stdout",
     "output_type": "stream",
     "text": [
      "Enter how many prime numbers to generate: 30\n",
      "[19, 23, 29, 37, 47, 59, 73, 89, 107, 127, 149, 173, 199, 227, 257, 359, 397, 479, 523, 569, 617, 719, 773, 829, 887]\n",
      "errors: 5\n"
     ]
    }
   ],
   "source": [
    "def pseudo_prime_generator(x):\n",
    "    prime_num = x**2 + x + 17\n",
    "    return(prime_num)\n",
    "\n",
    "def true_prime_generator(x):\n",
    "    pass\n",
    "\n",
    "def is_prime(num):\n",
    "    prime = True\n",
    "    for i in range(2,num-1):\n",
    "        if num % i == 0:\n",
    "            prime = False\n",
    "    return(prime)\n",
    "\n",
    "def prune_primeList(prime_list):\n",
    "    pruned_primeList = []\n",
    "    for num in prime_list:\n",
    "        if is_prime(num):\n",
    "            pruned_primeList.append(num)\n",
    "    return(pruned_primeList)\n",
    "        \n",
    "        \n",
    "num_prime_terms = int(input(\"Enter how many prime numbers to generate: \")) \n",
    "prime_list = []\n",
    "\n",
    "for num in range(1, num_prime_terms):\n",
    "    prime_list.append(pseudo_prime_generator(num))\n",
    "    \n",
    "pruned_prime_list = prune_primeList(prime_list)\n",
    "    \n",
    "print(pruned_prime_list)\n",
    "print(\"errors: \" + str(num_prime_terms - len(pruned_prime_list)))\n",
    "#print(pseudo_prime_generator(5))\n",
    "\n"
   ]
  },
  {
   "cell_type": "code",
   "execution_count": null,
   "metadata": {},
   "outputs": [],
   "source": []
  },
  {
   "cell_type": "code",
   "execution_count": null,
   "metadata": {},
   "outputs": [],
   "source": []
  },
  {
   "cell_type": "code",
   "execution_count": null,
   "metadata": {},
   "outputs": [],
   "source": []
  },
  {
   "cell_type": "code",
   "execution_count": null,
   "metadata": {},
   "outputs": [],
   "source": []
  }
 ],
 "metadata": {
  "kernelspec": {
   "display_name": "Python 3",
   "language": "python",
   "name": "python3"
  },
  "language_info": {
   "codemirror_mode": {
    "name": "ipython",
    "version": 3
   },
   "file_extension": ".py",
   "mimetype": "text/x-python",
   "name": "python",
   "nbconvert_exporter": "python",
   "pygments_lexer": "ipython3",
   "version": "3.8.3"
  }
 },
 "nbformat": 4,
 "nbformat_minor": 4
}
