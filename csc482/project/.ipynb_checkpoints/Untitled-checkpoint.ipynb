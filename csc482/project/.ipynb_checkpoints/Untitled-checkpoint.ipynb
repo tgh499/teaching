{
 "cells": [
  {
   "cell_type": "code",
   "execution_count": 8,
   "metadata": {},
   "outputs": [
    {
     "name": "stdout",
     "output_type": "stream",
     "text": [
      "nkrru\n"
     ]
    }
   ],
   "source": [
    "def encrypt(text):\n",
    "    char_list = []\n",
    "    for i in text:\n",
    "        char_list.append(ord(i)+6)\n",
    "\n",
    "    text = \"\"\n",
    "    for i in char_list:\n",
    "        text += chr(i)\n",
    "    print(text)\n",
    "\n",
    "    \n",
    "encrypt(text)"
   ]
  },
  {
   "cell_type": "code",
   "execution_count": null,
   "metadata": {},
   "outputs": [],
   "source": []
  },
  {
   "cell_type": "code",
   "execution_count": null,
   "metadata": {},
   "outputs": [],
   "source": []
  }
 ],
 "metadata": {
  "kernelspec": {
   "display_name": "Python 3",
   "language": "python",
   "name": "python3"
  },
  "language_info": {
   "codemirror_mode": {
    "name": "ipython",
    "version": 3
   },
   "file_extension": ".py",
   "mimetype": "text/x-python",
   "name": "python",
   "nbconvert_exporter": "python",
   "pygments_lexer": "ipython3",
   "version": "3.8.3"
  }
 },
 "nbformat": 4,
 "nbformat_minor": 4
}
