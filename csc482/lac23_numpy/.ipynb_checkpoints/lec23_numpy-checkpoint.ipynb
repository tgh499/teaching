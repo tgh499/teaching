{
 "cells": [
  {
   "cell_type": "markdown",
   "metadata": {},
   "source": [
    "# NumPy\n",
    "* The fundamental package for scienctific computing with Python\n",
    "\n",
    "Key benefits - \n",
    "* powerful N-dimensional arrays\n",
    "* numerical computing tools\n",
    "* supports wide range of hardware and computing platforms\n",
    "    * supports distributed computing enviroments\n",
    "* Underneath is well optimized C code\n",
    "* Easy to use\n",
    "* Open source - \n",
    "    * widely tested\n",
    "    \n",
    "    \n",
    "Some specific usefulness - \n",
    "* ability to perform logical operations\n",
    "* ability to perform mathematical operations (specifically linear algebra)\n",
    "\n"
   ]
  },
  {
   "cell_type": "code",
   "execution_count": 1,
   "metadata": {},
   "outputs": [
    {
     "name": "stdout",
     "output_type": "stream",
     "text": [
      "[1, 2, 3]\n",
      "<class 'list'>\n"
     ]
    }
   ],
   "source": [
    "list_num = [x for x in range(1,4)]\n",
    "\n",
    "print(list_num)\n",
    "print(type(list_num))\n"
   ]
  },
  {
   "cell_type": "code",
   "execution_count": 2,
   "metadata": {},
   "outputs": [
    {
     "name": "stdout",
     "output_type": "stream",
     "text": [
      "<class 'numpy.ndarray'>\n"
     ]
    }
   ],
   "source": [
    "import numpy as np\n",
    "np_num = np.array(list_num)\n",
    "print(type(np_num))"
   ]
  },
  {
   "cell_type": "code",
   "execution_count": 3,
   "metadata": {},
   "outputs": [
    {
     "name": "stdout",
     "output_type": "stream",
     "text": [
      "[1 2 3 4]\n",
      "<class 'numpy.ndarray'>\n"
     ]
    }
   ],
   "source": [
    "# You might recall, that list can support heterogeneous data types\n",
    "# an array will contain only homogenious data types\n",
    "\n",
    "# Let's look at how to initiate a NumPy array from scratch\n",
    "\n",
    "np_num = np.array([1,2,3,4])\n",
    "print(np_num)\n",
    "print(type(np_num))\n",
    "\n",
    "\n"
   ]
  },
  {
   "cell_type": "code",
   "execution_count": 33,
   "metadata": {},
   "outputs": [
    {
     "ename": "TypeError",
     "evalue": "'module' object is not callable",
     "output_type": "error",
     "traceback": [
      "\u001b[0;31m---------------------------------------------------------------------------\u001b[0m",
      "\u001b[0;31mTypeError\u001b[0m                                 Traceback (most recent call last)",
      "\u001b[0;32m<ipython-input-33-24b1918fa731>\u001b[0m in \u001b[0;36m<module>\u001b[0;34m\u001b[0m\n\u001b[1;32m      1\u001b[0m \u001b[0;32mimport\u001b[0m \u001b[0marray\u001b[0m \u001b[0;32mas\u001b[0m \u001b[0marr\u001b[0m\u001b[0;34m\u001b[0m\u001b[0;34m\u001b[0m\u001b[0m\n\u001b[0;32m----> 2\u001b[0;31m \u001b[0marr_1\u001b[0m \u001b[0;34m=\u001b[0m \u001b[0marr\u001b[0m\u001b[0;34m(\u001b[0m\u001b[0;34m'i'\u001b[0m\u001b[0;34m,\u001b[0m\u001b[0;34m[\u001b[0m\u001b[0;36m1\u001b[0m\u001b[0;34m,\u001b[0m\u001b[0;36m2\u001b[0m\u001b[0;34m,\u001b[0m\u001b[0;36m3\u001b[0m\u001b[0;34m,\u001b[0m\u001b[0;36m4\u001b[0m\u001b[0;34m]\u001b[0m\u001b[0;34m)\u001b[0m\u001b[0;34m\u001b[0m\u001b[0;34m\u001b[0m\u001b[0m\n\u001b[0m",
      "\u001b[0;31mTypeError\u001b[0m: 'module' object is not callable"
     ]
    }
   ],
   "source": [
    "import array as arr\n",
    "arr_1 = arr.array([1,2,3,4])"
   ]
  },
  {
   "cell_type": "code",
   "execution_count": 29,
   "metadata": {},
   "outputs": [
    {
     "ename": "UFuncTypeError",
     "evalue": "ufunc 'multiply' did not contain a loop with signature matching types (dtype('<U21'), dtype('<U21')) -> dtype('<U21')",
     "output_type": "error",
     "traceback": [
      "\u001b[0;31m---------------------------------------------------------------------------\u001b[0m",
      "\u001b[0;31mUFuncTypeError\u001b[0m                            Traceback (most recent call last)",
      "\u001b[0;32m<ipython-input-29-f89d19513fc0>\u001b[0m in \u001b[0;36m<module>\u001b[0;34m\u001b[0m\n\u001b[0;32m----> 1\u001b[0;31m \u001b[0mnp_hetero\u001b[0m \u001b[0;34m=\u001b[0m \u001b[0mnp_hetero\u001b[0m \u001b[0;34m*\u001b[0m \u001b[0;36m2\u001b[0m\u001b[0;34m\u001b[0m\u001b[0;34m\u001b[0m\u001b[0m\n\u001b[0m\u001b[1;32m      2\u001b[0m \u001b[0mprint\u001b[0m\u001b[0;34m(\u001b[0m\u001b[0mnp_hetero\u001b[0m\u001b[0;34m)\u001b[0m\u001b[0;34m\u001b[0m\u001b[0;34m\u001b[0m\u001b[0m\n",
      "\u001b[0;31mUFuncTypeError\u001b[0m: ufunc 'multiply' did not contain a loop with signature matching types (dtype('<U21'), dtype('<U21')) -> dtype('<U21')"
     ]
    }
   ],
   "source": [
    "np_hetero = np_hetero * 2\n",
    "print(np_hetero)"
   ]
  },
  {
   "cell_type": "code",
   "execution_count": 5,
   "metadata": {},
   "outputs": [
    {
     "name": "stdout",
     "output_type": "stream",
     "text": [
      "[[0. 0. 0. 0. 0.]\n",
      " [0. 0. 0. 0. 0.]\n",
      " [0. 0. 0. 0. 0.]\n",
      " [0. 0. 0. 0. 0.]]\n"
     ]
    }
   ],
   "source": [
    "np_zeros = np.zeros((4,5))\n",
    "print(np_zeros)"
   ]
  },
  {
   "cell_type": "code",
   "execution_count": 6,
   "metadata": {},
   "outputs": [
    {
     "name": "stdout",
     "output_type": "stream",
     "text": [
      "[[1. 1. 1. 1. 1.]\n",
      " [1. 1. 1. 1. 1.]\n",
      " [1. 1. 1. 1. 1.]\n",
      " [1. 1. 1. 1. 1.]]\n"
     ]
    }
   ],
   "source": [
    "np_ones = np.ones((4,5))\n",
    "print(np_ones)"
   ]
  },
  {
   "cell_type": "code",
   "execution_count": 7,
   "metadata": {},
   "outputs": [
    {
     "name": "stdout",
     "output_type": "stream",
     "text": [
      "[[0.15642582 0.39475035 0.99985005 0.58952812 0.01000963]\n",
      " [0.8460316  0.17259596 0.1806363  0.77228777 0.67606067]\n",
      " [0.12992021 0.30117318 0.15197718 0.39820791 0.04332986]\n",
      " [0.12560381 0.20802357 0.7703582  0.57909993 0.50498682]]\n"
     ]
    }
   ],
   "source": [
    "np_random = np.random.rand(4,5)\n",
    "print(np_random)"
   ]
  },
  {
   "cell_type": "code",
   "execution_count": 8,
   "metadata": {},
   "outputs": [
    {
     "name": "stdout",
     "output_type": "stream",
     "text": [
      "[[57 97  3 58 21]\n",
      " [47 73 78 77 40]\n",
      " [49 98 48 19 34]\n",
      " [18 35 68 89 97]]\n"
     ]
    }
   ],
   "source": [
    "np_random_int = np.random.randint(99, size=(4,5))\n",
    "print(np_random_int)"
   ]
  },
  {
   "cell_type": "code",
   "execution_count": 9,
   "metadata": {},
   "outputs": [
    {
     "name": "stdout",
     "output_type": "stream",
     "text": [
      "75\n"
     ]
    }
   ],
   "source": [
    "print(np.random.randint(99))"
   ]
  },
  {
   "cell_type": "code",
   "execution_count": 10,
   "metadata": {},
   "outputs": [
    {
     "name": "stdout",
     "output_type": "stream",
     "text": [
      "[[0. 0. 0. 0. 0.]\n",
      " [0. 0. 0. 0. 0.]\n",
      " [0. 0. 0. 0. 0.]\n",
      " [0. 0. 0. 0. 0.]]\n"
     ]
    }
   ],
   "source": [
    "np_elemenwise_multi_1 = np.multiply(np_zeros, np_random_int)\n",
    "print(np_elemenwise_multi_1)"
   ]
  },
  {
   "cell_type": "code",
   "execution_count": 11,
   "metadata": {},
   "outputs": [
    {
     "name": "stdout",
     "output_type": "stream",
     "text": [
      "[[57. 97.  3. 58. 21.]\n",
      " [47. 73. 78. 77. 40.]\n",
      " [49. 98. 48. 19. 34.]\n",
      " [18. 35. 68. 89. 97.]]\n"
     ]
    }
   ],
   "source": [
    "np_elemenwise_multi_2 = np.multiply(np_ones, np_random_int)\n",
    "print(np_elemenwise_multi_2)"
   ]
  },
  {
   "cell_type": "code",
   "execution_count": 12,
   "metadata": {},
   "outputs": [
    {
     "name": "stdout",
     "output_type": "stream",
     "text": [
      "[[70 55 60 48]\n",
      " [11 41  9 27]\n",
      " [59  1 62 60]\n",
      " [79  0 37 56]\n",
      " [46 17  3 62]]\n",
      "[[265. 114. 171. 253.]\n",
      " [265. 114. 171. 253.]\n",
      " [265. 114. 171. 253.]\n",
      " [265. 114. 171. 253.]]\n"
     ]
    }
   ],
   "source": [
    "np_random_int = np.random.randint(99, size=(5,4))\n",
    "print(np_random_int)\n",
    "np_matmul = np.matmul(np_ones, np_random_int)\n",
    "print(np_matmul)"
   ]
  },
  {
   "cell_type": "code",
   "execution_count": 13,
   "metadata": {},
   "outputs": [
    {
     "name": "stdout",
     "output_type": "stream",
     "text": [
      "[1 2 3]\n",
      "[[4]\n",
      " [5]\n",
      " [6]]\n",
      "[32]\n"
     ]
    }
   ],
   "source": [
    "# [m,k] matmul [k,n] => [m,n]\n",
    "A = np.array([1,2,3]) # [1,3]\n",
    "B = np.array([[4],[5],[6]]) #[3,1]\n",
    "print(A)\n",
    "print(B)\n",
    "C = np.matmul(A, B)\n",
    "print(C)"
   ]
  },
  {
   "cell_type": "code",
   "execution_count": 14,
   "metadata": {},
   "outputs": [
    {
     "name": "stdout",
     "output_type": "stream",
     "text": [
      "[[56 68 96 33]\n",
      " [60 66 17 41]\n",
      " [48 89 31 80]\n",
      " [51 59 60  9]\n",
      " [88 93 23 15]]\n"
     ]
    }
   ],
   "source": [
    "np_random_int = np.random.randint(99, size=(5,4))\n",
    "print(np_random_int)"
   ]
  },
  {
   "cell_type": "code",
   "execution_count": 15,
   "metadata": {},
   "outputs": [
    {
     "name": "stdout",
     "output_type": "stream",
     "text": [
      "[[56 68 96 33 60]\n",
      " [66 17 41 48 89]\n",
      " [31 80 51 59 60]\n",
      " [ 9 88 93 23 15]]\n"
     ]
    }
   ],
   "source": [
    "np_random_int_reshaped = np.reshape(np_random_int, (4,5))\n",
    "print(np_random_int_reshaped)"
   ]
  },
  {
   "cell_type": "code",
   "execution_count": 16,
   "metadata": {},
   "outputs": [
    {
     "name": "stdout",
     "output_type": "stream",
     "text": [
      "[[56 68 96 33]\n",
      " [60 66 17 41]\n",
      " [48 89 31 80]\n",
      " [51 59 60  9]\n",
      " [88 93 23 15]]\n"
     ]
    }
   ],
   "source": [
    "np_random_int = np.reshape(np_random_int_reshaped, (5,4))\n",
    "print(np_random_int)"
   ]
  },
  {
   "cell_type": "code",
   "execution_count": 17,
   "metadata": {},
   "outputs": [
    {
     "name": "stdout",
     "output_type": "stream",
     "text": [
      "[[16 13 12]\n",
      " [ 1 87 80]]\n",
      "\n",
      " After transposing, rows become columns, columns become rows!\n",
      "[[16  1]\n",
      " [13 87]\n",
      " [12 80]]\n"
     ]
    }
   ],
   "source": [
    "np_random_int = np.random.randint(99, size=(2,3))\n",
    "print(np_random_int)\n",
    "print(\"\\n After transposing, rows become columns, columns become rows!\")\n",
    "print(np.transpose(np_random_int))"
   ]
  },
  {
   "cell_type": "code",
   "execution_count": 18,
   "metadata": {},
   "outputs": [
    {
     "name": "stdout",
     "output_type": "stream",
     "text": [
      "(2, 3)\n"
     ]
    }
   ],
   "source": [
    "# get shape of an array. That is, get number of rows and columns\n",
    "print(np.shape(np_random_int))"
   ]
  },
  {
   "cell_type": "code",
   "execution_count": 19,
   "metadata": {},
   "outputs": [
    {
     "name": "stdout",
     "output_type": "stream",
     "text": [
      "[10.  12.5 15.  17.5 20. ]\n"
     ]
    }
   ],
   "source": [
    "arr = np.linspace(10, 20, 5)\n",
    "print(arr)"
   ]
  },
  {
   "cell_type": "code",
   "execution_count": 20,
   "metadata": {},
   "outputs": [
    {
     "name": "stdout",
     "output_type": "stream",
     "text": [
      "[31 94  3 50 54 59 19 59 33  8]\n"
     ]
    }
   ],
   "source": [
    "arr = np.random.randint(0,99,10)\n",
    "print(arr)"
   ]
  },
  {
   "cell_type": "code",
   "execution_count": 21,
   "metadata": {},
   "outputs": [
    {
     "name": "stdout",
     "output_type": "stream",
     "text": [
      "[ 3  8 19 31 33 50 54 59 59 94]\n"
     ]
    }
   ],
   "source": [
    "# sort in ascending order\n",
    "print(np.sort(arr))"
   ]
  },
  {
   "cell_type": "code",
   "execution_count": 22,
   "metadata": {},
   "outputs": [
    {
     "name": "stdout",
     "output_type": "stream",
     "text": [
      "[94 59 59 54 50 33 31 19  8  3]\n",
      "[94 59 59 54 50 33 31 19  8  3]\n",
      "[94 59 59 54 50 33 31 19  8  3]\n"
     ]
    }
   ],
   "source": [
    "# sort in descending order\n",
    "# not directly supported, but we can get creative\n",
    "print(np.sort(arr)[::-1])\n",
    "\n",
    "#or \n",
    "arr[::-1].sort()\n",
    "print(arr)\n",
    "\n",
    "#or\n",
    "\n",
    "print(-np.sort(-arr))"
   ]
  },
  {
   "cell_type": "code",
   "execution_count": null,
   "metadata": {},
   "outputs": [],
   "source": []
  }
 ],
 "metadata": {
  "kernelspec": {
   "display_name": "Python 3",
   "language": "python",
   "name": "python3"
  },
  "language_info": {
   "codemirror_mode": {
    "name": "ipython",
    "version": 3
   },
   "file_extension": ".py",
   "mimetype": "text/x-python",
   "name": "python",
   "nbconvert_exporter": "python",
   "pygments_lexer": "ipython3",
   "version": "3.8.5"
  }
 },
 "nbformat": 4,
 "nbformat_minor": 4
}
