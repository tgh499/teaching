{
 "cells": [
  {
   "cell_type": "code",
   "execution_count": 1,
   "metadata": {},
   "outputs": [],
   "source": [
    "from pandasql import sqldf, load_meat, load_births"
   ]
  },
  {
   "cell_type": "code",
   "execution_count": 2,
   "metadata": {},
   "outputs": [],
   "source": [
    "meat = load_meat()\n",
    "births = load_births()\n",
    "pysqldf = lambda q: sqldf(q, globals())"
   ]
  },
  {
   "cell_type": "code",
   "execution_count": 3,
   "metadata": {},
   "outputs": [
    {
     "name": "stdout",
     "output_type": "stream",
     "text": [
      "<class 'pandas.core.frame.DataFrame'>\n",
      "<class 'pandas.core.frame.DataFrame'>\n",
      "<function <lambda> at 0x7fe5c1758b80>\n"
     ]
    }
   ],
   "source": [
    "print(type(meat)) # shows the type of the dataframe called meat\n",
    "print(type(births)) # \n",
    "print(pysqldf) # shows the type of the variable pasqldf"
   ]
  },
  {
   "cell_type": "code",
   "execution_count": 4,
   "metadata": {},
   "outputs": [
    {
     "data": {
      "text/html": [
       "<div>\n",
       "<style scoped>\n",
       "    .dataframe tbody tr th:only-of-type {\n",
       "        vertical-align: middle;\n",
       "    }\n",
       "\n",
       "    .dataframe tbody tr th {\n",
       "        vertical-align: top;\n",
       "    }\n",
       "\n",
       "    .dataframe thead th {\n",
       "        text-align: right;\n",
       "    }\n",
       "</style>\n",
       "<table border=\"1\" class=\"dataframe\">\n",
       "  <thead>\n",
       "    <tr style=\"text-align: right;\">\n",
       "      <th></th>\n",
       "      <th>date</th>\n",
       "      <th>beef</th>\n",
       "      <th>veal</th>\n",
       "      <th>pork</th>\n",
       "      <th>lamb_and_mutton</th>\n",
       "      <th>broilers</th>\n",
       "      <th>other_chicken</th>\n",
       "      <th>turkey</th>\n",
       "    </tr>\n",
       "  </thead>\n",
       "  <tbody>\n",
       "    <tr>\n",
       "      <th>0</th>\n",
       "      <td>1944-01-01</td>\n",
       "      <td>751.0</td>\n",
       "      <td>85.0</td>\n",
       "      <td>1280.0</td>\n",
       "      <td>89.0</td>\n",
       "      <td>NaN</td>\n",
       "      <td>NaN</td>\n",
       "      <td>NaN</td>\n",
       "    </tr>\n",
       "    <tr>\n",
       "      <th>1</th>\n",
       "      <td>1944-02-01</td>\n",
       "      <td>713.0</td>\n",
       "      <td>77.0</td>\n",
       "      <td>1169.0</td>\n",
       "      <td>72.0</td>\n",
       "      <td>NaN</td>\n",
       "      <td>NaN</td>\n",
       "      <td>NaN</td>\n",
       "    </tr>\n",
       "    <tr>\n",
       "      <th>2</th>\n",
       "      <td>1944-03-01</td>\n",
       "      <td>741.0</td>\n",
       "      <td>90.0</td>\n",
       "      <td>1128.0</td>\n",
       "      <td>75.0</td>\n",
       "      <td>NaN</td>\n",
       "      <td>NaN</td>\n",
       "      <td>NaN</td>\n",
       "    </tr>\n",
       "    <tr>\n",
       "      <th>3</th>\n",
       "      <td>1944-04-01</td>\n",
       "      <td>650.0</td>\n",
       "      <td>89.0</td>\n",
       "      <td>978.0</td>\n",
       "      <td>66.0</td>\n",
       "      <td>NaN</td>\n",
       "      <td>NaN</td>\n",
       "      <td>NaN</td>\n",
       "    </tr>\n",
       "    <tr>\n",
       "      <th>4</th>\n",
       "      <td>1944-05-01</td>\n",
       "      <td>681.0</td>\n",
       "      <td>106.0</td>\n",
       "      <td>1029.0</td>\n",
       "      <td>78.0</td>\n",
       "      <td>NaN</td>\n",
       "      <td>NaN</td>\n",
       "      <td>NaN</td>\n",
       "    </tr>\n",
       "    <tr>\n",
       "      <th>...</th>\n",
       "      <td>...</td>\n",
       "      <td>...</td>\n",
       "      <td>...</td>\n",
       "      <td>...</td>\n",
       "      <td>...</td>\n",
       "      <td>...</td>\n",
       "      <td>...</td>\n",
       "      <td>...</td>\n",
       "    </tr>\n",
       "    <tr>\n",
       "      <th>95</th>\n",
       "      <td>1951-12-01</td>\n",
       "      <td>699.0</td>\n",
       "      <td>68.0</td>\n",
       "      <td>1077.0</td>\n",
       "      <td>41.0</td>\n",
       "      <td>NaN</td>\n",
       "      <td>NaN</td>\n",
       "      <td>NaN</td>\n",
       "    </tr>\n",
       "    <tr>\n",
       "      <th>96</th>\n",
       "      <td>1952-01-01</td>\n",
       "      <td>810.0</td>\n",
       "      <td>75.0</td>\n",
       "      <td>1130.0</td>\n",
       "      <td>54.0</td>\n",
       "      <td>NaN</td>\n",
       "      <td>NaN</td>\n",
       "      <td>NaN</td>\n",
       "    </tr>\n",
       "    <tr>\n",
       "      <th>97</th>\n",
       "      <td>1952-02-01</td>\n",
       "      <td>721.0</td>\n",
       "      <td>66.0</td>\n",
       "      <td>945.0</td>\n",
       "      <td>52.0</td>\n",
       "      <td>NaN</td>\n",
       "      <td>NaN</td>\n",
       "      <td>NaN</td>\n",
       "    </tr>\n",
       "    <tr>\n",
       "      <th>98</th>\n",
       "      <td>1952-03-01</td>\n",
       "      <td>685.0</td>\n",
       "      <td>70.0</td>\n",
       "      <td>924.0</td>\n",
       "      <td>51.0</td>\n",
       "      <td>NaN</td>\n",
       "      <td>NaN</td>\n",
       "      <td>NaN</td>\n",
       "    </tr>\n",
       "    <tr>\n",
       "      <th>99</th>\n",
       "      <td>1952-04-01</td>\n",
       "      <td>703.0</td>\n",
       "      <td>71.0</td>\n",
       "      <td>839.0</td>\n",
       "      <td>50.0</td>\n",
       "      <td>NaN</td>\n",
       "      <td>NaN</td>\n",
       "      <td>NaN</td>\n",
       "    </tr>\n",
       "  </tbody>\n",
       "</table>\n",
       "<p>100 rows × 8 columns</p>\n",
       "</div>"
      ],
      "text/plain": [
       "         date   beef   veal    pork  lamb_and_mutton  broilers  other_chicken  \\\n",
       "0  1944-01-01  751.0   85.0  1280.0             89.0       NaN            NaN   \n",
       "1  1944-02-01  713.0   77.0  1169.0             72.0       NaN            NaN   \n",
       "2  1944-03-01  741.0   90.0  1128.0             75.0       NaN            NaN   \n",
       "3  1944-04-01  650.0   89.0   978.0             66.0       NaN            NaN   \n",
       "4  1944-05-01  681.0  106.0  1029.0             78.0       NaN            NaN   \n",
       "..        ...    ...    ...     ...              ...       ...            ...   \n",
       "95 1951-12-01  699.0   68.0  1077.0             41.0       NaN            NaN   \n",
       "96 1952-01-01  810.0   75.0  1130.0             54.0       NaN            NaN   \n",
       "97 1952-02-01  721.0   66.0   945.0             52.0       NaN            NaN   \n",
       "98 1952-03-01  685.0   70.0   924.0             51.0       NaN            NaN   \n",
       "99 1952-04-01  703.0   71.0   839.0             50.0       NaN            NaN   \n",
       "\n",
       "    turkey  \n",
       "0      NaN  \n",
       "1      NaN  \n",
       "2      NaN  \n",
       "3      NaN  \n",
       "4      NaN  \n",
       "..     ...  \n",
       "95     NaN  \n",
       "96     NaN  \n",
       "97     NaN  \n",
       "98     NaN  \n",
       "99     NaN  \n",
       "\n",
       "[100 rows x 8 columns]"
      ]
     },
     "execution_count": 4,
     "metadata": {},
     "output_type": "execute_result"
    }
   ],
   "source": [
    "meat.head(100)"
   ]
  },
  {
   "cell_type": "code",
   "execution_count": 5,
   "metadata": {},
   "outputs": [
    {
     "data": {
      "text/html": [
       "<div>\n",
       "<style scoped>\n",
       "    .dataframe tbody tr th:only-of-type {\n",
       "        vertical-align: middle;\n",
       "    }\n",
       "\n",
       "    .dataframe tbody tr th {\n",
       "        vertical-align: top;\n",
       "    }\n",
       "\n",
       "    .dataframe thead th {\n",
       "        text-align: right;\n",
       "    }\n",
       "</style>\n",
       "<table border=\"1\" class=\"dataframe\">\n",
       "  <thead>\n",
       "    <tr style=\"text-align: right;\">\n",
       "      <th></th>\n",
       "      <th>date</th>\n",
       "      <th>births</th>\n",
       "    </tr>\n",
       "  </thead>\n",
       "  <tbody>\n",
       "    <tr>\n",
       "      <th>0</th>\n",
       "      <td>1975-01-01</td>\n",
       "      <td>265775</td>\n",
       "    </tr>\n",
       "    <tr>\n",
       "      <th>1</th>\n",
       "      <td>1975-02-01</td>\n",
       "      <td>241045</td>\n",
       "    </tr>\n",
       "    <tr>\n",
       "      <th>2</th>\n",
       "      <td>1975-03-01</td>\n",
       "      <td>268849</td>\n",
       "    </tr>\n",
       "    <tr>\n",
       "      <th>3</th>\n",
       "      <td>1975-04-01</td>\n",
       "      <td>247455</td>\n",
       "    </tr>\n",
       "    <tr>\n",
       "      <th>4</th>\n",
       "      <td>1975-05-01</td>\n",
       "      <td>254545</td>\n",
       "    </tr>\n",
       "  </tbody>\n",
       "</table>\n",
       "</div>"
      ],
      "text/plain": [
       "        date  births\n",
       "0 1975-01-01  265775\n",
       "1 1975-02-01  241045\n",
       "2 1975-03-01  268849\n",
       "3 1975-04-01  247455\n",
       "4 1975-05-01  254545"
      ]
     },
     "execution_count": 5,
     "metadata": {},
     "output_type": "execute_result"
    }
   ],
   "source": [
    "births.head()"
   ]
  },
  {
   "cell_type": "code",
   "execution_count": 6,
   "metadata": {},
   "outputs": [
    {
     "name": "stdout",
     "output_type": "stream",
     "text": [
      "                           date    beef   veal    pork  lamb_and_mutton  \\\n",
      "0    1944-01-01 00:00:00.000000   751.0   85.0  1280.0             89.0   \n",
      "1    1944-02-01 00:00:00.000000   713.0   77.0  1169.0             72.0   \n",
      "2    1944-03-01 00:00:00.000000   741.0   90.0  1128.0             75.0   \n",
      "3    1944-04-01 00:00:00.000000   650.0   89.0   978.0             66.0   \n",
      "4    1944-05-01 00:00:00.000000   681.0  106.0  1029.0             78.0   \n",
      "..                          ...     ...    ...     ...              ...   \n",
      "822  2012-07-01 00:00:00.000000  2200.8    9.5  1721.8             12.5   \n",
      "823  2012-08-01 00:00:00.000000  2367.5   10.1  1997.9             14.2   \n",
      "824  2012-09-01 00:00:00.000000  2016.0    8.8  1911.0             12.5   \n",
      "825  2012-10-01 00:00:00.000000  2343.7   10.3  2210.4             14.2   \n",
      "826  2012-11-01 00:00:00.000000  2206.6   10.1  2078.7             12.4   \n",
      "\n",
      "     broilers  other_chicken  turkey  \n",
      "0         NaN            NaN     NaN  \n",
      "1         NaN            NaN     NaN  \n",
      "2         NaN            NaN     NaN  \n",
      "3         NaN            NaN     NaN  \n",
      "4         NaN            NaN     NaN  \n",
      "..        ...            ...     ...  \n",
      "822    3127.0           43.4   497.2  \n",
      "823    3317.4           51.0   530.1  \n",
      "824    2927.1           43.7   453.1  \n",
      "825    3335.0           43.8   579.9  \n",
      "826    3006.7           37.5   515.3  \n",
      "\n",
      "[827 rows x 8 columns]\n"
     ]
    }
   ],
   "source": [
    "print(pysqldf(\"SELECT * FROM meat;\")) # for $item in //meat; return $item"
   ]
  },
  {
   "cell_type": "code",
   "execution_count": 7,
   "metadata": {},
   "outputs": [
    {
     "name": "stdout",
     "output_type": "stream",
     "text": [
      "       beef\n",
      "0     751.0\n",
      "1     713.0\n",
      "2     741.0\n",
      "3     650.0\n",
      "4     681.0\n",
      "..      ...\n",
      "822  2200.8\n",
      "823  2367.5\n",
      "824  2016.0\n",
      "825  2343.7\n",
      "826  2206.6\n",
      "\n",
      "[827 rows x 1 columns]\n"
     ]
    }
   ],
   "source": [
    "print(pysqldf(\"SELECT beef FROM meat;\"))"
   ]
  },
  {
   "cell_type": "code",
   "execution_count": 8,
   "metadata": {},
   "outputs": [
    {
     "name": "stdout",
     "output_type": "stream",
     "text": [
      "                           date    beef   veal    pork  lamb_and_mutton  \\\n",
      "0    1944-01-01 00:00:00.000000   751.0   85.0  1280.0             89.0   \n",
      "1    1944-02-01 00:00:00.000000   713.0   77.0  1169.0             72.0   \n",
      "2    1944-03-01 00:00:00.000000   741.0   90.0  1128.0             75.0   \n",
      "3    1944-04-01 00:00:00.000000   650.0   89.0   978.0             66.0   \n",
      "4    1944-05-01 00:00:00.000000   681.0  106.0  1029.0             78.0   \n",
      "..                          ...     ...    ...     ...              ...   \n",
      "822  2012-07-01 00:00:00.000000  2200.8    9.5  1721.8             12.5   \n",
      "823  2012-08-01 00:00:00.000000  2367.5   10.1  1997.9             14.2   \n",
      "824  2012-09-01 00:00:00.000000  2016.0    8.8  1911.0             12.5   \n",
      "825  2012-10-01 00:00:00.000000  2343.7   10.3  2210.4             14.2   \n",
      "826  2012-11-01 00:00:00.000000  2206.6   10.1  2078.7             12.4   \n",
      "\n",
      "     broilers  other_chicken  turkey  \n",
      "0         NaN            NaN     NaN  \n",
      "1         NaN            NaN     NaN  \n",
      "2         NaN            NaN     NaN  \n",
      "3         NaN            NaN     NaN  \n",
      "4         NaN            NaN     NaN  \n",
      "..        ...            ...     ...  \n",
      "822    3127.0           43.4   497.2  \n",
      "823    3317.4           51.0   530.1  \n",
      "824    2927.1           43.7   453.1  \n",
      "825    3335.0           43.8   579.9  \n",
      "826    3006.7           37.5   515.3  \n",
      "\n",
      "[827 rows x 8 columns]\n"
     ]
    }
   ],
   "source": [
    "print(pysqldf(\"SELECT * from meat;\"))"
   ]
  },
  {
   "cell_type": "markdown",
   "metadata": {},
   "source": [
    "## SELECT\n",
    "\n",
    "* Use SELECT to specify Columns.\n",
    "    e.g. SELECT beef\n",
    "* USE SELECT * to select all columns\n",
    "    e.g. SELECT *\n",
    "    \n",
    "Note: \"SELECT *\" is an incomplete query. You must also specify the table using FROM."
   ]
  },
  {
   "cell_type": "code",
   "execution_count": null,
   "metadata": {},
   "outputs": [],
   "source": []
  },
  {
   "cell_type": "markdown",
   "metadata": {},
   "source": [
    "## FROM\n",
    "\n",
    "We use the FROM statement to specify a table. \n",
    "\n",
    "Here we have two tables called \"meat\" and \"births.\" You can try SELECT * on any of them. "
   ]
  },
  {
   "cell_type": "code",
   "execution_count": 9,
   "metadata": {},
   "outputs": [
    {
     "name": "stdout",
     "output_type": "stream",
     "text": [
      "                           date\n",
      "0    1944-01-01 00:00:00.000000\n",
      "1    1944-02-01 00:00:00.000000\n",
      "2    1944-03-01 00:00:00.000000\n",
      "3    1944-04-01 00:00:00.000000\n",
      "4    1944-05-01 00:00:00.000000\n",
      "..                          ...\n",
      "822  2012-07-01 00:00:00.000000\n",
      "823  2012-08-01 00:00:00.000000\n",
      "824  2012-09-01 00:00:00.000000\n",
      "825  2012-10-01 00:00:00.000000\n",
      "826  2012-11-01 00:00:00.000000\n",
      "\n",
      "[827 rows x 1 columns]\n"
     ]
    }
   ],
   "source": [
    "# example\n",
    "\n",
    "print(pysqldf(\"SELECT date FROM meat;\"))"
   ]
  },
  {
   "cell_type": "code",
   "execution_count": 10,
   "metadata": {},
   "outputs": [
    {
     "name": "stdout",
     "output_type": "stream",
     "text": [
      "       beef\n",
      "0     751.0\n",
      "1     713.0\n",
      "2     741.0\n",
      "3     650.0\n",
      "4     681.0\n",
      "..      ...\n",
      "822  2200.8\n",
      "823  2367.5\n",
      "824  2016.0\n",
      "825  2343.7\n",
      "826  2206.6\n",
      "\n",
      "[827 rows x 1 columns]\n"
     ]
    }
   ],
   "source": [
    "print(pysqldf(\"SELECT beef FROM meat;\"))"
   ]
  },
  {
   "cell_type": "code",
   "execution_count": 11,
   "metadata": {},
   "outputs": [
    {
     "name": "stdout",
     "output_type": "stream",
     "text": [
      "      veal\n",
      "0     85.0\n",
      "1     77.0\n",
      "2     90.0\n",
      "3     89.0\n",
      "4    106.0\n",
      "..     ...\n",
      "822    9.5\n",
      "823   10.1\n",
      "824    8.8\n",
      "825   10.3\n",
      "826   10.1\n",
      "\n",
      "[827 rows x 1 columns]\n"
     ]
    }
   ],
   "source": [
    "print(pysqldf(\"SELECT veal FROM meat;\"))"
   ]
  },
  {
   "cell_type": "code",
   "execution_count": 12,
   "metadata": {},
   "outputs": [
    {
     "name": "stdout",
     "output_type": "stream",
     "text": [
      "                           date    beef   veal    pork  lamb_and_mutton  \\\n",
      "0    1944-01-01 00:00:00.000000   751.0   85.0  1280.0             89.0   \n",
      "1    1944-02-01 00:00:00.000000   713.0   77.0  1169.0             72.0   \n",
      "2    1944-03-01 00:00:00.000000   741.0   90.0  1128.0             75.0   \n",
      "3    1944-04-01 00:00:00.000000   650.0   89.0   978.0             66.0   \n",
      "4    1944-05-01 00:00:00.000000   681.0  106.0  1029.0             78.0   \n",
      "..                          ...     ...    ...     ...              ...   \n",
      "822  2012-07-01 00:00:00.000000  2200.8    9.5  1721.8             12.5   \n",
      "823  2012-08-01 00:00:00.000000  2367.5   10.1  1997.9             14.2   \n",
      "824  2012-09-01 00:00:00.000000  2016.0    8.8  1911.0             12.5   \n",
      "825  2012-10-01 00:00:00.000000  2343.7   10.3  2210.4             14.2   \n",
      "826  2012-11-01 00:00:00.000000  2206.6   10.1  2078.7             12.4   \n",
      "\n",
      "     broilers  other_chicken  turkey  \n",
      "0         NaN            NaN     NaN  \n",
      "1         NaN            NaN     NaN  \n",
      "2         NaN            NaN     NaN  \n",
      "3         NaN            NaN     NaN  \n",
      "4         NaN            NaN     NaN  \n",
      "..        ...            ...     ...  \n",
      "822    3127.0           43.4   497.2  \n",
      "823    3317.4           51.0   530.1  \n",
      "824    2927.1           43.7   453.1  \n",
      "825    3335.0           43.8   579.9  \n",
      "826    3006.7           37.5   515.3  \n",
      "\n",
      "[827 rows x 8 columns]\n"
     ]
    }
   ],
   "source": [
    "print(pysqldf(\"SELECT * FROM meat;\"))"
   ]
  },
  {
   "cell_type": "markdown",
   "metadata": {},
   "source": [
    "## LIMIT\n",
    "\n",
    "Use limit to get the top n number of items from the query. You can use limit when you want a different number of items from the default.\n",
    "\n"
   ]
  },
  {
   "cell_type": "code",
   "execution_count": 13,
   "metadata": {},
   "outputs": [
    {
     "name": "stdout",
     "output_type": "stream",
     "text": [
      "                         date   beef  veal    pork  lamb_and_mutton broilers  \\\n",
      "0  1944-01-01 00:00:00.000000  751.0  85.0  1280.0             89.0     None   \n",
      "1  1944-02-01 00:00:00.000000  713.0  77.0  1169.0             72.0     None   \n",
      "2  1944-03-01 00:00:00.000000  741.0  90.0  1128.0             75.0     None   \n",
      "3  1944-04-01 00:00:00.000000  650.0  89.0   978.0             66.0     None   \n",
      "\n",
      "  other_chicken turkey  \n",
      "0          None   None  \n",
      "1          None   None  \n",
      "2          None   None  \n",
      "3          None   None  \n"
     ]
    }
   ],
   "source": [
    "print(pysqldf(\"SELECT * FROM meat LIMIT 4;\"))"
   ]
  },
  {
   "cell_type": "code",
   "execution_count": 14,
   "metadata": {},
   "outputs": [
    {
     "name": "stdout",
     "output_type": "stream",
     "text": [
      "                          date   beef   veal    pork  lamb_and_mutton  \\\n",
      "0   1944-01-01 00:00:00.000000  751.0   85.0  1280.0             89.0   \n",
      "1   1944-02-01 00:00:00.000000  713.0   77.0  1169.0             72.0   \n",
      "2   1944-03-01 00:00:00.000000  741.0   90.0  1128.0             75.0   \n",
      "3   1944-04-01 00:00:00.000000  650.0   89.0   978.0             66.0   \n",
      "4   1944-05-01 00:00:00.000000  681.0  106.0  1029.0             78.0   \n",
      "..                         ...    ...    ...     ...              ...   \n",
      "65  1949-06-01 00:00:00.000000  765.0  103.0   657.0             42.0   \n",
      "66  1949-07-01 00:00:00.000000  743.0  103.0   584.0             45.0   \n",
      "67  1949-08-01 00:00:00.000000  835.0  123.0   605.0             54.0   \n",
      "68  1949-09-01 00:00:00.000000  821.0  121.0   637.0             55.0   \n",
      "69  1949-10-01 00:00:00.000000  772.0  120.0   764.0             56.0   \n",
      "\n",
      "   broilers other_chicken turkey  \n",
      "0      None          None   None  \n",
      "1      None          None   None  \n",
      "2      None          None   None  \n",
      "3      None          None   None  \n",
      "4      None          None   None  \n",
      "..      ...           ...    ...  \n",
      "65     None          None   None  \n",
      "66     None          None   None  \n",
      "67     None          None   None  \n",
      "68     None          None   None  \n",
      "69     None          None   None  \n",
      "\n",
      "[70 rows x 8 columns]\n"
     ]
    }
   ],
   "source": [
    "print(pysqldf(\"SELECT * FROM meat LIMIT 70;\"))"
   ]
  },
  {
   "cell_type": "code",
   "execution_count": 15,
   "metadata": {},
   "outputs": [
    {
     "name": "stdout",
     "output_type": "stream",
     "text": [
      "     beef\n",
      "0   650.0\n",
      "1   681.0\n",
      "2   658.0\n",
      "3   662.0\n",
      "4   605.0\n",
      "5   461.0\n",
      "6   366.0\n",
      "7   662.0\n",
      "8   650.0\n",
      "9   681.0\n",
      "10  697.0\n",
      "11  676.0\n",
      "12  694.0\n",
      "13  650.0\n",
      "14  696.0\n",
      "15  658.0\n",
      "16  591.0\n",
      "17  676.0\n",
      "18  697.0\n",
      "19  699.0\n",
      "20  685.0\n",
      "21  698.0\n"
     ]
    }
   ],
   "source": [
    "print(pysqldf(\"SELECT beef FROM meat WHERE beef<700;\")) # Query 1"
   ]
  },
  {
   "cell_type": "code",
   "execution_count": 16,
   "metadata": {},
   "outputs": [
    {
     "name": "stdout",
     "output_type": "stream",
     "text": [
      "                          date   beef   veal    pork  lamb_and_mutton  \\\n",
      "0   1944-04-01 00:00:00.000000  650.0   89.0   978.0             66.0   \n",
      "1   1944-05-01 00:00:00.000000  681.0  106.0  1029.0             78.0   \n",
      "2   1944-06-01 00:00:00.000000  658.0  125.0   962.0             79.0   \n",
      "3   1944-07-01 00:00:00.000000  662.0  142.0   796.0             82.0   \n",
      "4   1946-05-01 00:00:00.000000  605.0   83.0   810.0             65.0   \n",
      "5   1946-06-01 00:00:00.000000  461.0   78.0   505.0             75.0   \n",
      "6   1946-09-01 00:00:00.000000  366.0   98.0   124.0             63.0   \n",
      "7   1948-02-01 00:00:00.000000  662.0   87.0   679.0             60.0   \n",
      "8   1948-05-01 00:00:00.000000  650.0   97.0   653.0             47.0   \n",
      "9   1948-07-01 00:00:00.000000  681.0  116.0   576.0             55.0   \n",
      "10  1949-02-01 00:00:00.000000  697.0   82.0   701.0             51.0   \n",
      "11  1950-02-01 00:00:00.000000  676.0   80.0   699.0             46.0   \n",
      "12  1950-04-01 00:00:00.000000  694.0   87.0   702.0             44.0   \n",
      "13  1951-02-01 00:00:00.000000  650.0   66.0   720.0             38.0   \n",
      "14  1951-03-01 00:00:00.000000  696.0   73.0   837.0             39.0   \n",
      "15  1951-04-01 00:00:00.000000  658.0   67.0   813.0             36.0   \n",
      "16  1951-06-01 00:00:00.000000  591.0   78.0   798.0             39.0   \n",
      "17  1951-07-01 00:00:00.000000  676.0   86.0   686.0             42.0   \n",
      "18  1951-09-01 00:00:00.000000  697.0   87.0   715.0             41.0   \n",
      "19  1951-12-01 00:00:00.000000  699.0   68.0  1077.0             41.0   \n",
      "20  1952-03-01 00:00:00.000000  685.0   70.0   924.0             51.0   \n",
      "21  1952-06-01 00:00:00.000000  698.0   83.0   727.0             46.0   \n",
      "\n",
      "   broilers other_chicken turkey  \n",
      "0      None          None   None  \n",
      "1      None          None   None  \n",
      "2      None          None   None  \n",
      "3      None          None   None  \n",
      "4      None          None   None  \n",
      "5      None          None   None  \n",
      "6      None          None   None  \n",
      "7      None          None   None  \n",
      "8      None          None   None  \n",
      "9      None          None   None  \n",
      "10     None          None   None  \n",
      "11     None          None   None  \n",
      "12     None          None   None  \n",
      "13     None          None   None  \n",
      "14     None          None   None  \n",
      "15     None          None   None  \n",
      "16     None          None   None  \n",
      "17     None          None   None  \n",
      "18     None          None   None  \n",
      "19     None          None   None  \n",
      "20     None          None   None  \n",
      "21     None          None   None  \n"
     ]
    }
   ],
   "source": [
    "print(pysqldf(\"SELECT * FROM meat WHERE beef<700;\")) # query 2"
   ]
  },
  {
   "cell_type": "code",
   "execution_count": 18,
   "metadata": {},
   "outputs": [
    {
     "name": "stdout",
     "output_type": "stream",
     "text": [
      "     beef    pork\n",
      "0   650.0   978.0\n",
      "1   681.0  1029.0\n",
      "2   658.0   962.0\n",
      "3   662.0   796.0\n",
      "4   605.0   810.0\n",
      "5   461.0   505.0\n",
      "6   366.0   124.0\n",
      "7   662.0   679.0\n",
      "8   650.0   653.0\n",
      "9   681.0   576.0\n",
      "10  697.0   701.0\n",
      "11  676.0   699.0\n",
      "12  694.0   702.0\n",
      "13  650.0   720.0\n",
      "14  696.0   837.0\n",
      "15  658.0   813.0\n",
      "16  591.0   798.0\n",
      "17  676.0   686.0\n",
      "18  697.0   715.0\n",
      "19  699.0  1077.0\n",
      "20  685.0   924.0\n",
      "21  698.0   727.0\n"
     ]
    }
   ],
   "source": [
    "print(pysqldf(\"SELECT beef, pork FROM meat WHERE beef<700;\")) # query 3"
   ]
  },
  {
   "cell_type": "code",
   "execution_count": 19,
   "metadata": {},
   "outputs": [
    {
     "name": "stdout",
     "output_type": "stream",
     "text": [
      "                         date   beef   veal    pork  lamb_and_mutton broilers  \\\n",
      "0  1944-04-01 00:00:00.000000  650.0   89.0   978.0             66.0     None   \n",
      "1  1944-05-01 00:00:00.000000  681.0  106.0  1029.0             78.0     None   \n",
      "2  1944-06-01 00:00:00.000000  658.0  125.0   962.0             79.0     None   \n",
      "3  1944-07-01 00:00:00.000000  662.0  142.0   796.0             82.0     None   \n",
      "4  1946-05-01 00:00:00.000000  605.0   83.0   810.0             65.0     None   \n",
      "5  1946-06-01 00:00:00.000000  461.0   78.0   505.0             75.0     None   \n",
      "6  1946-09-01 00:00:00.000000  366.0   98.0   124.0             63.0     None   \n",
      "7  1948-02-01 00:00:00.000000  662.0   87.0   679.0             60.0     None   \n",
      "8  1948-05-01 00:00:00.000000  650.0   97.0   653.0             47.0     None   \n",
      "9  1948-07-01 00:00:00.000000  681.0  116.0   576.0             55.0     None   \n",
      "\n",
      "  other_chicken turkey  \n",
      "0          None   None  \n",
      "1          None   None  \n",
      "2          None   None  \n",
      "3          None   None  \n",
      "4          None   None  \n",
      "5          None   None  \n",
      "6          None   None  \n",
      "7          None   None  \n",
      "8          None   None  \n",
      "9          None   None  \n"
     ]
    }
   ],
   "source": [
    "print(pysqldf(\"SELECT * FROM meat WHERE beef<700 LIMIT 10;\")) # "
   ]
  },
  {
   "cell_type": "code",
   "execution_count": null,
   "metadata": {},
   "outputs": [],
   "source": []
  },
  {
   "cell_type": "code",
   "execution_count": 20,
   "metadata": {},
   "outputs": [
    {
     "name": "stdout",
     "output_type": "stream",
     "text": [
      "                           date    beef  veal    pork  lamb_and_mutton  \\\n",
      "0    1944-01-01 00:00:00.000000   751.0  85.0  1280.0             89.0   \n",
      "1    1944-02-01 00:00:00.000000   713.0  77.0  1169.0             72.0   \n",
      "2    1944-03-01 00:00:00.000000   741.0  90.0  1128.0             75.0   \n",
      "3    1944-04-01 00:00:00.000000   650.0  89.0   978.0             66.0   \n",
      "4    1945-02-01 00:00:00.000000   816.0  97.0   724.0             81.0   \n",
      "..                          ...     ...   ...     ...              ...   \n",
      "705  2012-07-01 00:00:00.000000  2200.8   9.5  1721.8             12.5   \n",
      "706  2012-08-01 00:00:00.000000  2367.5  10.1  1997.9             14.2   \n",
      "707  2012-09-01 00:00:00.000000  2016.0   8.8  1911.0             12.5   \n",
      "708  2012-10-01 00:00:00.000000  2343.7  10.3  2210.4             14.2   \n",
      "709  2012-11-01 00:00:00.000000  2206.6  10.1  2078.7             12.4   \n",
      "\n",
      "     broilers  other_chicken  turkey  \n",
      "0         NaN            NaN     NaN  \n",
      "1         NaN            NaN     NaN  \n",
      "2         NaN            NaN     NaN  \n",
      "3         NaN            NaN     NaN  \n",
      "4         NaN            NaN     NaN  \n",
      "..        ...            ...     ...  \n",
      "705    3127.0           43.4   497.2  \n",
      "706    3317.4           51.0   530.1  \n",
      "707    2927.1           43.7   453.1  \n",
      "708    3335.0           43.8   579.9  \n",
      "709    3006.7           37.5   515.3  \n",
      "\n",
      "[710 rows x 8 columns]\n"
     ]
    }
   ],
   "source": [
    "print(pysqldf(\"SELECT * FROM meat WHERE veal < 100;\"))"
   ]
  },
  {
   "cell_type": "code",
   "execution_count": 21,
   "metadata": {},
   "outputs": [
    {
     "name": "stdout",
     "output_type": "stream",
     "text": [
      "                           date    beef\n",
      "0    1944-01-01 00:00:00.000000   751.0\n",
      "1    1944-02-01 00:00:00.000000   713.0\n",
      "2    1944-03-01 00:00:00.000000   741.0\n",
      "3    1944-04-01 00:00:00.000000   650.0\n",
      "4    1945-02-01 00:00:00.000000   816.0\n",
      "..                          ...     ...\n",
      "705  2012-07-01 00:00:00.000000  2200.8\n",
      "706  2012-08-01 00:00:00.000000  2367.5\n",
      "707  2012-09-01 00:00:00.000000  2016.0\n",
      "708  2012-10-01 00:00:00.000000  2343.7\n",
      "709  2012-11-01 00:00:00.000000  2206.6\n",
      "\n",
      "[710 rows x 2 columns]\n"
     ]
    }
   ],
   "source": [
    "## SELECT multiple columns\n",
    "\n",
    "print(pysqldf(\"SELECT date, beef FROM meat WHERE veal < 100;\"))"
   ]
  },
  {
   "cell_type": "code",
   "execution_count": 22,
   "metadata": {},
   "outputs": [
    {
     "name": "stdout",
     "output_type": "stream",
     "text": [
      "                           date    beef  veal  beef_veal_avg\n",
      "0    1944-01-01 00:00:00.000000   751.0  85.0         418.00\n",
      "1    1944-02-01 00:00:00.000000   713.0  77.0         395.00\n",
      "2    1944-03-01 00:00:00.000000   741.0  90.0         415.50\n",
      "3    1944-04-01 00:00:00.000000   650.0  89.0         369.50\n",
      "4    1945-02-01 00:00:00.000000   816.0  97.0         456.50\n",
      "..                          ...     ...   ...            ...\n",
      "705  2012-07-01 00:00:00.000000  2200.8   9.5        1105.15\n",
      "706  2012-08-01 00:00:00.000000  2367.5  10.1        1188.80\n",
      "707  2012-09-01 00:00:00.000000  2016.0   8.8        1012.40\n",
      "708  2012-10-01 00:00:00.000000  2343.7  10.3        1177.00\n",
      "709  2012-11-01 00:00:00.000000  2206.6  10.1        1108.35\n",
      "\n",
      "[710 rows x 4 columns]\n"
     ]
    }
   ],
   "source": [
    "# Create new column\n",
    "print(pysqldf(\"SELECT date, beef, veal, \\\n",
    "                ((beef + veal) / 2) AS beef_veal_avg \\\n",
    "                FROM meat \\\n",
    "                WHERE veal < 100;\"))"
   ]
  },
  {
   "cell_type": "markdown",
   "metadata": {},
   "source": [
    "# Logical operations\n",
    "\n",
    "\n",
    "* LIKE\n",
    "* IN\n",
    "* BETWEEN\n",
    "* IS NULL\n",
    "* AND\n",
    "* OR\n",
    "* NOT\n"
   ]
  },
  {
   "cell_type": "code",
   "execution_count": 26,
   "metadata": {},
   "outputs": [
    {
     "name": "stdout",
     "output_type": "stream",
     "text": [
      "                           date    beef\n",
      "0    1944-01-01 00:00:00.000000   751.0\n",
      "1    1944-02-01 00:00:00.000000   713.0\n",
      "2    1944-03-01 00:00:00.000000   741.0\n",
      "3    1944-04-01 00:00:00.000000   650.0\n",
      "4    1944-05-01 00:00:00.000000   681.0\n",
      "..                          ...     ...\n",
      "667  1999-08-01 00:00:00.000000  2307.0\n",
      "668  1999-09-01 00:00:00.000000  2275.0\n",
      "669  1999-10-01 00:00:00.000000  2265.0\n",
      "670  1999-11-01 00:00:00.000000  2144.0\n",
      "671  1999-12-01 00:00:00.000000  2113.0\n",
      "\n",
      "[672 rows x 2 columns]\n"
     ]
    }
   ],
   "source": [
    "# LIKE; Find similar values, not necessarilyb exact\n",
    "\n",
    "print(pysqldf(\"SELECT date, beef FROM meat WHERE date LIKE '19%';\"))"
   ]
  },
  {
   "cell_type": "code",
   "execution_count": 27,
   "metadata": {},
   "outputs": [
    {
     "name": "stdout",
     "output_type": "stream",
     "text": [
      "                         date   beef\n",
      "0  1951-01-01 00:00:00.000000  842.0\n",
      "1  1951-06-01 00:00:00.000000  591.0\n"
     ]
    }
   ],
   "source": [
    "# IN; queries matches values specified in IN.\n",
    "\n",
    "print(pysqldf(\"SELECT date, beef FROM meat WHERE beef IN (842, 591);\"))"
   ]
  },
  {
   "cell_type": "code",
   "execution_count": 28,
   "metadata": {},
   "outputs": [
    {
     "name": "stdout",
     "output_type": "stream",
     "text": [
      "                          date   beef\n",
      "0   1944-01-01 00:00:00.000000  751.0\n",
      "1   1944-02-01 00:00:00.000000  713.0\n",
      "2   1944-03-01 00:00:00.000000  741.0\n",
      "3   1944-04-01 00:00:00.000000  650.0\n",
      "4   1944-05-01 00:00:00.000000  681.0\n",
      "..                         ...    ...\n",
      "84  1952-06-01 00:00:00.000000  698.0\n",
      "85  1952-07-01 00:00:00.000000  786.0\n",
      "86  1952-08-01 00:00:00.000000  793.0\n",
      "87  1952-09-01 00:00:00.000000  841.0\n",
      "88  1952-11-01 00:00:00.000000  768.0\n",
      "\n",
      "[89 rows x 2 columns]\n"
     ]
    }
   ],
   "source": [
    "# BETWEEN; Query returns items that fall between a range.\n",
    "\n",
    "print(pysqldf(\"SELECT date, beef FROM meat WHERE beef BETWEEN 591 AND 842;\"))"
   ]
  },
  {
   "cell_type": "code",
   "execution_count": 29,
   "metadata": {},
   "outputs": [
    {
     "name": "stdout",
     "output_type": "stream",
     "text": [
      "                           date    beef   veal    pork  lamb_and_mutton  \\\n",
      "0    1944-01-01 00:00:00.000000   751.0   85.0  1280.0             89.0   \n",
      "1    1944-02-01 00:00:00.000000   713.0   77.0  1169.0             72.0   \n",
      "2    1944-03-01 00:00:00.000000   741.0   90.0  1128.0             75.0   \n",
      "3    1944-04-01 00:00:00.000000   650.0   89.0   978.0             66.0   \n",
      "4    1944-05-01 00:00:00.000000   681.0  106.0  1029.0             78.0   \n",
      "..                          ...     ...    ...     ...              ...   \n",
      "187  1959-08-01 00:00:00.000000  1083.0   76.0   792.0             52.0   \n",
      "188  1959-09-01 00:00:00.000000  1177.0   87.0   926.0             63.0   \n",
      "189  1959-10-01 00:00:00.000000  1186.0   92.0  1060.0             64.0   \n",
      "190  1959-11-01 00:00:00.000000  1080.0   80.0  1028.0             57.0   \n",
      "191  1959-12-01 00:00:00.000000  1160.0   80.0  1125.0             64.0   \n",
      "\n",
      "    broilers other_chicken turkey  \n",
      "0       None          None   None  \n",
      "1       None          None   None  \n",
      "2       None          None   None  \n",
      "3       None          None   None  \n",
      "4       None          None   None  \n",
      "..       ...           ...    ...  \n",
      "187     None          None   None  \n",
      "188     None          None   None  \n",
      "189     None          None   None  \n",
      "190     None          None   None  \n",
      "191     None          None   None  \n",
      "\n",
      "[192 rows x 8 columns]\n"
     ]
    }
   ],
   "source": [
    "\"\"\"\n",
    "IS NULL; will return entries that have NULL values specified by WHERE.\n",
    "IS NOT NULL;\n",
    "\"\"\"\n",
    "print(pysqldf(\"SELECT * FROM meat WHERE broilers IS NULL\"))"
   ]
  },
  {
   "cell_type": "code",
   "execution_count": 30,
   "metadata": {},
   "outputs": [
    {
     "name": "stdout",
     "output_type": "stream",
     "text": [
      "                           date    beef   veal    pork  lamb_and_mutton  \\\n",
      "0    1944-01-01 00:00:00.000000   751.0   85.0  1280.0             89.0   \n",
      "1    1944-02-01 00:00:00.000000   713.0   77.0  1169.0             72.0   \n",
      "2    1944-03-01 00:00:00.000000   741.0   90.0  1128.0             75.0   \n",
      "3    1944-04-01 00:00:00.000000   650.0   89.0   978.0             66.0   \n",
      "4    1944-05-01 00:00:00.000000   681.0  106.0  1029.0             78.0   \n",
      "..                          ...     ...    ...     ...              ...   \n",
      "822  2012-07-01 00:00:00.000000  2200.8    9.5  1721.8             12.5   \n",
      "823  2012-08-01 00:00:00.000000  2367.5   10.1  1997.9             14.2   \n",
      "824  2012-09-01 00:00:00.000000  2016.0    8.8  1911.0             12.5   \n",
      "825  2012-10-01 00:00:00.000000  2343.7   10.3  2210.4             14.2   \n",
      "826  2012-11-01 00:00:00.000000  2206.6   10.1  2078.7             12.4   \n",
      "\n",
      "     broilers  other_chicken  turkey  \n",
      "0         NaN            NaN     NaN  \n",
      "1         NaN            NaN     NaN  \n",
      "2         NaN            NaN     NaN  \n",
      "3         NaN            NaN     NaN  \n",
      "4         NaN            NaN     NaN  \n",
      "..        ...            ...     ...  \n",
      "822    3127.0           43.4   497.2  \n",
      "823    3317.4           51.0   530.1  \n",
      "824    2927.1           43.7   453.1  \n",
      "825    3335.0           43.8   579.9  \n",
      "826    3006.7           37.5   515.3  \n",
      "\n",
      "[827 rows x 8 columns]\n"
     ]
    }
   ],
   "source": [
    "print(pysqldf(\"SELECT * FROM meat WHERE lamb_and_mutton IS NOT NULL\"))"
   ]
  },
  {
   "cell_type": "code",
   "execution_count": 32,
   "metadata": {},
   "outputs": [
    {
     "name": "stdout",
     "output_type": "stream",
     "text": [
      "Empty DataFrame\n",
      "Columns: [date, beef, veal, pork, lamb_and_mutton, broilers, other_chicken, turkey]\n",
      "Index: []\n"
     ]
    }
   ],
   "source": [
    "# AND; allows you to select rows that statisfy two conditions.\n",
    "\n",
    "print(pysqldf(\"SELECT * \\\n",
    "                  FROM meat \\\n",
    "                  WHERE lamb_and_mutton IS NULL AND pork > 100\"))"
   ]
  },
  {
   "cell_type": "code",
   "execution_count": 33,
   "metadata": {},
   "outputs": [
    {
     "name": "stdout",
     "output_type": "stream",
     "text": [
      "                           date    beef   veal    pork  lamb_and_mutton  \\\n",
      "0    1944-01-01 00:00:00.000000   751.0   85.0  1280.0             89.0   \n",
      "1    1944-02-01 00:00:00.000000   713.0   77.0  1169.0             72.0   \n",
      "2    1944-03-01 00:00:00.000000   741.0   90.0  1128.0             75.0   \n",
      "3    1944-04-01 00:00:00.000000   650.0   89.0   978.0             66.0   \n",
      "4    1944-05-01 00:00:00.000000   681.0  106.0  1029.0             78.0   \n",
      "..                          ...     ...    ...     ...              ...   \n",
      "822  2012-07-01 00:00:00.000000  2200.8    9.5  1721.8             12.5   \n",
      "823  2012-08-01 00:00:00.000000  2367.5   10.1  1997.9             14.2   \n",
      "824  2012-09-01 00:00:00.000000  2016.0    8.8  1911.0             12.5   \n",
      "825  2012-10-01 00:00:00.000000  2343.7   10.3  2210.4             14.2   \n",
      "826  2012-11-01 00:00:00.000000  2206.6   10.1  2078.7             12.4   \n",
      "\n",
      "     broilers  other_chicken  turkey  \n",
      "0         NaN            NaN     NaN  \n",
      "1         NaN            NaN     NaN  \n",
      "2         NaN            NaN     NaN  \n",
      "3         NaN            NaN     NaN  \n",
      "4         NaN            NaN     NaN  \n",
      "..        ...            ...     ...  \n",
      "822    3127.0           43.4   497.2  \n",
      "823    3317.4           51.0   530.1  \n",
      "824    2927.1           43.7   453.1  \n",
      "825    3335.0           43.8   579.9  \n",
      "826    3006.7           37.5   515.3  \n",
      "\n",
      "[827 rows x 8 columns]\n"
     ]
    }
   ],
   "source": [
    "# OR; Allows you to choose rows that satisfy one of the two conditions specified by WHERE.\n",
    "\n",
    "print(pysqldf(\"SELECT * \\\n",
    "                  FROM meat \\\n",
    "                  WHERE lamb_and_mutton IS NULL OR pork > 100\"))"
   ]
  },
  {
   "cell_type": "code",
   "execution_count": 34,
   "metadata": {},
   "outputs": [
    {
     "name": "stdout",
     "output_type": "stream",
     "text": [
      "                         date   beef   veal    pork  lamb_and_mutton broilers  \\\n",
      "0  1944-01-01 00:00:00.000000  751.0   85.0  1280.0             89.0     None   \n",
      "1  1944-02-01 00:00:00.000000  713.0   77.0  1169.0             72.0     None   \n",
      "2  1944-03-01 00:00:00.000000  741.0   90.0  1128.0             75.0     None   \n",
      "3  1944-04-01 00:00:00.000000  650.0   89.0   978.0             66.0     None   \n",
      "4  1944-05-01 00:00:00.000000  681.0  106.0  1029.0             78.0     None   \n",
      "5  1944-06-01 00:00:00.000000  658.0  125.0   962.0             79.0     None   \n",
      "6  1944-07-01 00:00:00.000000  662.0  142.0   796.0             82.0     None   \n",
      "7  1944-08-01 00:00:00.000000  787.0  175.0   748.0             87.0     None   \n",
      "8  1944-09-01 00:00:00.000000  774.0  182.0   678.0             91.0     None   \n",
      "9  1944-10-01 00:00:00.000000  834.0  215.0   777.0            100.0     None   \n",
      "\n",
      "  other_chicken turkey  \n",
      "0          None   None  \n",
      "1          None   None  \n",
      "2          None   None  \n",
      "3          None   None  \n",
      "4          None   None  \n",
      "5          None   None  \n",
      "6          None   None  \n",
      "7          None   None  \n",
      "8          None   None  \n",
      "9          None   None  \n"
     ]
    }
   ],
   "source": [
    "# Don't forget LIMIT. LIMIT still works.\n",
    "\n",
    "\n",
    "print(pysqldf(\"SELECT * \\\n",
    "                  FROM meat \\\n",
    "                  WHERE lamb_and_mutton IS NULL OR pork > 100 \\\n",
    "                  LIMIT 10;\"))"
   ]
  },
  {
   "cell_type": "code",
   "execution_count": 37,
   "metadata": {},
   "outputs": [
    {
     "name": "stdout",
     "output_type": "stream",
     "text": [
      "                          date    beef   veal   pork  lamb_and_mutton  \\\n",
      "0   1946-09-01 00:00:00.000000   366.0   98.0  124.0             63.0   \n",
      "1   1948-08-01 00:00:00.000000   705.0  121.0  463.0             59.0   \n",
      "2   1946-06-01 00:00:00.000000   461.0   78.0  505.0             75.0   \n",
      "3   1948-09-01 00:00:00.000000   773.0  127.0  514.0             68.0   \n",
      "4   1945-08-01 00:00:00.000000   858.0  145.0  531.0             77.0   \n",
      "5   1947-08-01 00:00:00.000000   766.0  131.0  534.0             57.0   \n",
      "6   1945-09-01 00:00:00.000000   910.0  164.0  535.0             80.0   \n",
      "7   1947-09-01 00:00:00.000000   888.0  154.0  549.0             66.0   \n",
      "8   1948-07-01 00:00:00.000000   681.0  116.0  576.0             55.0   \n",
      "9   1953-08-01 00:00:00.000000  1007.0  142.0  582.0             55.0   \n",
      "10  1949-07-01 00:00:00.000000   743.0  103.0  584.0             45.0   \n",
      "11  1955-07-01 00:00:00.000000  1045.0  123.0  594.0             53.0   \n",
      "12  1954-07-01 00:00:00.000000  1078.0  143.0  596.0             59.0   \n",
      "13  1953-07-01 00:00:00.000000  1034.0  138.0  597.0             54.0   \n",
      "14  1946-08-01 00:00:00.000000   871.0  138.0  601.0             72.0   \n",
      "15  1949-08-01 00:00:00.000000   835.0  123.0  605.0             54.0   \n",
      "16  1947-03-01 00:00:00.000000   829.0  104.0  606.0             62.0   \n",
      "17  1945-07-01 00:00:00.000000   736.0  117.0  610.0             82.0   \n",
      "18  1954-05-01 00:00:00.000000  1007.0  115.0  616.0             54.0   \n",
      "19  1950-07-01 00:00:00.000000   754.0   97.0  617.0             46.0   \n",
      "20  1953-05-01 00:00:00.000000   961.0  107.0  619.0             52.0   \n",
      "21  1945-10-01 00:00:00.000000  1022.0  201.0  628.0             95.0   \n",
      "22  1948-04-01 00:00:00.000000   700.0  101.0  629.0             53.0   \n",
      "23  1949-05-01 00:00:00.000000   747.0   92.0  630.0             38.0   \n",
      "24  1950-08-01 00:00:00.000000   829.0  108.0  633.0             52.0   \n",
      "25  1949-09-01 00:00:00.000000   821.0  121.0  637.0             55.0   \n",
      "26  1952-08-01 00:00:00.000000   793.0  100.0  637.0             49.0   \n",
      "27  1954-08-01 00:00:00.000000  1080.0  149.0  641.0             60.0   \n",
      "28  1953-06-01 00:00:00.000000   999.0  128.0  644.0             50.0   \n",
      "29  1949-04-01 00:00:00.000000   721.0   91.0  647.0             34.0   \n",
      "\n",
      "   broilers other_chicken turkey  \n",
      "0      None          None   None  \n",
      "1      None          None   None  \n",
      "2      None          None   None  \n",
      "3      None          None   None  \n",
      "4      None          None   None  \n",
      "5      None          None   None  \n",
      "6      None          None   None  \n",
      "7      None          None   None  \n",
      "8      None          None   None  \n",
      "9      None          None   None  \n",
      "10     None          None   None  \n",
      "11     None          None   None  \n",
      "12     None          None   None  \n",
      "13     None          None   None  \n",
      "14     None          None   None  \n",
      "15     None          None   None  \n",
      "16     None          None   None  \n",
      "17     None          None   None  \n",
      "18     None          None   None  \n",
      "19     None          None   None  \n",
      "20     None          None   None  \n",
      "21     None          None   None  \n",
      "22     None          None   None  \n",
      "23     None          None   None  \n",
      "24     None          None   None  \n",
      "25     None          None   None  \n",
      "26     None          None   None  \n",
      "27     None          None   None  \n",
      "28     None          None   None  \n",
      "29     None          None   None  \n"
     ]
    }
   ],
   "source": [
    "# ORDER BY; Order the rows by the specified column.\n",
    "\n",
    "print(pysqldf(\"SELECT * \\\n",
    "                  FROM meat \\\n",
    "                  WHERE pork > 100 \\\n",
    "                  ORDER BY pork \\\n",
    "                  LIMIT 30;\"))\n",
    "\n"
   ]
  },
  {
   "cell_type": "code",
   "execution_count": 38,
   "metadata": {},
   "outputs": [
    {
     "name": "stdout",
     "output_type": "stream",
     "text": [
      "                          date    beef  veal    pork  lamb_and_mutton  \\\n",
      "0   2012-10-01 00:00:00.000000  2343.7  10.3  2210.4             14.2   \n",
      "1   2008-10-01 00:00:00.000000  2340.9  13.5  2159.9             15.0   \n",
      "2   2008-01-01 00:00:00.000000  2232.7  11.3  2159.0             14.7   \n",
      "3   2007-10-01 00:00:00.000000  2443.0  11.1  2145.1             16.4   \n",
      "4   2009-10-01 00:00:00.000000  2275.7  12.2  2089.0             14.3   \n",
      "5   2011-11-01 00:00:00.000000  2148.8  10.8  2086.7             12.6   \n",
      "6   2012-11-01 00:00:00.000000  2206.6  10.1  2078.7             12.4   \n",
      "7   2010-11-01 00:00:00.000000  2235.5  11.3  2068.0             14.4   \n",
      "8   2011-12-01 00:00:00.000000  2126.3  10.8  2065.6             12.5   \n",
      "9   2010-12-01 00:00:00.000000  2270.9  11.7  2055.4             14.9   \n",
      "10  2011-03-01 00:00:00.000000  2266.2  12.1  2054.4             14.1   \n",
      "11  2008-12-01 00:00:00.000000  2082.0  13.3  2052.1             15.4   \n",
      "12  2007-11-01 00:00:00.000000  2228.8  10.1  2045.2             16.1   \n",
      "13  2010-03-01 00:00:00.000000  2211.2  12.2  2040.1             17.7   \n",
      "14  2011-10-01 00:00:00.000000  2215.1  10.6  2033.2             11.7   \n",
      "15  2009-01-01 00:00:00.000000  2117.9  12.0  2027.0             13.3   \n",
      "16  2008-04-01 00:00:00.000000  2255.4  11.9  2015.6             15.3   \n",
      "17  2010-10-01 00:00:00.000000  2234.9  11.4  2002.7             13.1   \n",
      "18  2009-09-01 00:00:00.000000  2234.1  11.7  2002.1             14.8   \n",
      "19  2012-08-01 00:00:00.000000  2367.5  10.1  1997.9             14.2   \n",
      "20  2012-03-01 00:00:00.000000  2159.8  10.0  1987.9             14.2   \n",
      "21  2012-01-01 00:00:00.000000  2113.8  10.4  1987.0             12.1   \n",
      "22  2009-12-01 00:00:00.000000  2134.4  13.1  1985.3             15.9   \n",
      "23  2008-09-01 00:00:00.000000  2269.9  12.8  1975.8             14.5   \n",
      "24  2007-12-01 00:00:00.000000  2061.4  10.4  1972.7             15.4   \n",
      "25  2009-03-01 00:00:00.000000  2144.0  12.2  1969.7             15.9   \n",
      "26  2008-03-01 00:00:00.000000  2100.5  11.3  1962.0             16.0   \n",
      "27  2011-09-01 00:00:00.000000  2215.2  10.7  1954.4             11.8   \n",
      "28  2006-10-01 00:00:00.000000  2236.4  13.2  1932.0             15.7   \n",
      "29  2012-05-01 00:00:00.000000  2232.0  10.4  1926.8             13.6   \n",
      "\n",
      "    broilers  other_chicken  turkey  \n",
      "0     3335.0           43.8   579.9  \n",
      "1     3270.6           50.6   581.8  \n",
      "2     3237.2           45.7   546.4  \n",
      "3     3383.8           47.6   585.1  \n",
      "4     3071.9           44.6   508.3  \n",
      "5     2907.1           39.8   511.4  \n",
      "6     3006.7           37.5   515.3  \n",
      "7     3124.4           40.3   520.5  \n",
      "8     2855.8           41.4   458.9  \n",
      "9     3175.0           44.1   461.4  \n",
      "10    3310.4           44.1   503.1  \n",
      "11    2931.5           39.8   492.1  \n",
      "12    3033.2           41.0   526.0  \n",
      "13    3162.0           43.4   490.0  \n",
      "14    3096.8           43.4   524.5  \n",
      "15    2871.6           38.3   469.2  \n",
      "16    3196.6           48.0   519.2  \n",
      "17    3183.7           41.0   524.3  \n",
      "18    3064.3           43.1   467.9  \n",
      "19    3317.4           51.0   530.1  \n",
      "20    3043.7           40.1   502.1  \n",
      "21    3091.8           43.2   476.7  \n",
      "22    2966.2           38.4   456.3  \n",
      "23    3149.7           49.0   515.4  \n",
      "24    2901.4           38.1   460.8  \n",
      "25    2997.0           42.5   471.4  \n",
      "26    2981.6           45.1   487.0  \n",
      "27    3180.4           47.0   473.2  \n",
      "28    3185.1           44.0   540.9  \n",
      "29    3278.0           47.7   519.9  \n"
     ]
    }
   ],
   "source": [
    "# ORDER BY; Order the rows by the specified column. This time in descending order.\n",
    "\n",
    "print(pysqldf(\"SELECT * \\\n",
    "                  FROM meat \\\n",
    "                  WHERE pork > 100 \\\n",
    "                  ORDER BY pork DESC\\\n",
    "                  LIMIT 30;\"))"
   ]
  },
  {
   "cell_type": "code",
   "execution_count": null,
   "metadata": {},
   "outputs": [],
   "source": [
    "# GROUP BY; G\n",
    "\n",
    "print(pysqldf(\"SELECT * \\\n",
    "                  FROM meat \\\n",
    "                  WHERE lamb_and_mutton IS NOT NULL OR pork > 100 \\\n",
    "                  GROUP BY beef \\\n",
    "                  LIMIT 30;\"))"
   ]
  },
  {
   "cell_type": "code",
   "execution_count": 42,
   "metadata": {},
   "outputs": [
    {
     "name": "stdout",
     "output_type": "stream",
     "text": [
      "                           date    beef  veal    pork  lamb_and_mutton  \\\n",
      "0    1946-09-01 00:00:00.000000   366.0  98.0   124.0             63.0   \n",
      "1    1946-06-01 00:00:00.000000   461.0  78.0   505.0             75.0   \n",
      "2    1951-06-01 00:00:00.000000   591.0  78.0   798.0             39.0   \n",
      "3    1946-05-01 00:00:00.000000   605.0  83.0   810.0             65.0   \n",
      "4    1944-04-01 00:00:00.000000   650.0  89.0   978.0             66.0   \n",
      "..                          ...     ...   ...     ...              ...   \n",
      "822  2006-06-01 00:00:00.000000  2446.1  12.4  1663.3             14.4   \n",
      "823  2006-08-01 00:00:00.000000  2450.0  12.8  1780.2             14.6   \n",
      "824  2007-08-01 00:00:00.000000  2450.6  10.3  1850.0             14.8   \n",
      "825  2002-08-01 00:00:00.000000  2469.0  16.7  1637.0             16.6   \n",
      "826  2002-10-01 00:00:00.000000  2512.0  18.7  1831.0             19.7   \n",
      "\n",
      "     broilers  other_chicken  turkey price_category  \n",
      "0         NaN            NaN     NaN          cheap  \n",
      "1         NaN            NaN     NaN          cheap  \n",
      "2         NaN            NaN     NaN          cheap  \n",
      "3         NaN            NaN     NaN      expensive  \n",
      "4         NaN            NaN     NaN      expensive  \n",
      "..        ...            ...     ...            ...  \n",
      "822    3046.9           46.3   509.0      expensive  \n",
      "823    3133.9           46.3   501.0      expensive  \n",
      "824    3181.2           47.4   522.2      expensive  \n",
      "825    2828.3           49.2   481.9      expensive  \n",
      "826    2953.3           50.7   525.9      expensive  \n",
      "\n",
      "[827 rows x 9 columns]\n"
     ]
    }
   ],
   "source": [
    "\n",
    "print(pysqldf(\"SELECT *, \\\n",
    "                  CASE WHEN pork > 1000 THEN 'expensive' \\\n",
    "                  ELSE 'cheap' END AS price_category \\\n",
    "                  FROM meat \\\n",
    "                  WHERE lamb_and_mutton IS NOT NULL OR pork > 100\\\n",
    "                  ORDER BY beef;\"))"
   ]
  },
  {
   "cell_type": "code",
   "execution_count": null,
   "metadata": {},
   "outputs": [],
   "source": [
    "print(pysqldf(\"SELECT *, \\\n",
    "                  CASE WHEN beef > 600 AND pork > 1800 THEN 'expensive' \\\n",
    "                  ELSE 'cheap' END AS price_category \\\n",
    "                  FROM meat \\\n",
    "                  WHERE lamb_and_mutton IS NOT NULL OR pork > 100;\"))"
   ]
  },
  {
   "cell_type": "code",
   "execution_count": null,
   "metadata": {},
   "outputs": [],
   "source": [
    "print(pysqldf(\"SELECT *, \\\n",
    "                  CASE WHEN beef > 600 OR pork > 800 THEN 'expensive' \\\n",
    "                  ELSE 'cheap' END AS price_category \\\n",
    "                  FROM meat \\\n",
    "                  GROUP BY price_category, date\"))"
   ]
  },
  {
   "cell_type": "code",
   "execution_count": null,
   "metadata": {},
   "outputs": [],
   "source": []
  },
  {
   "cell_type": "code",
   "execution_count": null,
   "metadata": {},
   "outputs": [],
   "source": []
  },
  {
   "cell_type": "code",
   "execution_count": null,
   "metadata": {},
   "outputs": [],
   "source": []
  }
 ],
 "metadata": {
  "kernelspec": {
   "display_name": "Python 3",
   "language": "python",
   "name": "python3"
  },
  "language_info": {
   "codemirror_mode": {
    "name": "ipython",
    "version": 3
   },
   "file_extension": ".py",
   "mimetype": "text/x-python",
   "name": "python",
   "nbconvert_exporter": "python",
   "pygments_lexer": "ipython3",
   "version": "3.8.5"
  }
 },
 "nbformat": 4,
 "nbformat_minor": 4
}
