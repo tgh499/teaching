{
 "cells": [
  {
   "cell_type": "code",
   "execution_count": null,
   "metadata": {},
   "outputs": [],
   "source": [
    "from pandasql import sqldf, load_meat, load_births"
   ]
  },
  {
   "cell_type": "code",
   "execution_count": null,
   "metadata": {},
   "outputs": [],
   "source": [
    "meat = load_meat()\n",
    "births = load_births()\n",
    "pysqldf = lambda q: sqldf(q, globals())"
   ]
  },
  {
   "cell_type": "code",
   "execution_count": null,
   "metadata": {},
   "outputs": [],
   "source": [
    "print(type(meat))\n",
    "print(type(births))\n",
    "print(pysqldf)"
   ]
  },
  {
   "cell_type": "code",
   "execution_count": null,
   "metadata": {},
   "outputs": [],
   "source": [
    "meat.head()"
   ]
  },
  {
   "cell_type": "code",
   "execution_count": null,
   "metadata": {},
   "outputs": [],
   "source": [
    "births.head()"
   ]
  },
  {
   "cell_type": "code",
   "execution_count": null,
   "metadata": {},
   "outputs": [],
   "source": [
    "print(pysqldf(\"SELECT * FROM meat LIMIT 3;\"))"
   ]
  },
  {
   "cell_type": "markdown",
   "metadata": {},
   "source": [
    "## SELECT\n",
    "\n",
    "* Use SELECT to specify Columns.\n",
    "    e.g. SELECT beef\n",
    "* USE SELECT * to select all columns\n",
    "    e.g. SELECT *\n",
    "    \n",
    "Note: \"SELECT *\" is an incomplete query. You must also specify the table using FROM."
   ]
  },
  {
   "cell_type": "markdown",
   "metadata": {},
   "source": [
    "## FROM\n",
    "\n",
    "We use the FROM statement to specify a table. \n",
    "\n",
    "Here we have two tables called \"meat\" and \"births.\" You can try SELECT * on any of them. "
   ]
  },
  {
   "cell_type": "code",
   "execution_count": null,
   "metadata": {},
   "outputs": [],
   "source": [
    "# example\n",
    "\n",
    "print(pysqldf(\"SELECT date FROM meat;\"))"
   ]
  },
  {
   "cell_type": "code",
   "execution_count": null,
   "metadata": {},
   "outputs": [],
   "source": [
    "print(pysqldf(\"SELECT beef FROM meat;\"))"
   ]
  },
  {
   "cell_type": "code",
   "execution_count": null,
   "metadata": {},
   "outputs": [],
   "source": [
    "print(pysqldf(\"SELECT veal FROM meat;\"))"
   ]
  },
  {
   "cell_type": "code",
   "execution_count": null,
   "metadata": {},
   "outputs": [],
   "source": [
    "print(pysqldf(\"SELECT * FROM meat;\"))"
   ]
  },
  {
   "cell_type": "markdown",
   "metadata": {},
   "source": [
    "## LIMIT\n",
    "\n",
    "Use limit to get the top n number of items from the query. You can use limit when you want a different number of items from the default.\n",
    "\n"
   ]
  },
  {
   "cell_type": "code",
   "execution_count": null,
   "metadata": {},
   "outputs": [],
   "source": [
    "print(pysqldf(\"SELECT * FROM meat LIMIT 3;\"))"
   ]
  },
  {
   "cell_type": "code",
   "execution_count": null,
   "metadata": {},
   "outputs": [],
   "source": [
    "print(pysqldf(\"SELECT * FROM meat LIMIT 70;\"))"
   ]
  },
  {
   "cell_type": "code",
   "execution_count": null,
   "metadata": {},
   "outputs": [],
   "source": [
    "print(pysqldf(\"SELECT * FROM meat WHERE beef<700;\"))"
   ]
  },
  {
   "cell_type": "code",
   "execution_count": null,
   "metadata": {},
   "outputs": [],
   "source": [
    "print(pysqldf(\"SELECT * FROM meat WHERE beef<700 LIMIT 10;\"))"
   ]
  },
  {
   "cell_type": "code",
   "execution_count": null,
   "metadata": {},
   "outputs": [],
   "source": [
    "print(pysqldf(\"SELECT * FROM meat WHERE veal < 100;\"))"
   ]
  },
  {
   "cell_type": "code",
   "execution_count": null,
   "metadata": {},
   "outputs": [],
   "source": [
    "## SELECT multiple columns\n",
    "\n",
    "print(pysqldf(\"SELECT date, beef FROM meat WHERE veal < 100;\"))"
   ]
  },
  {
   "cell_type": "code",
   "execution_count": null,
   "metadata": {},
   "outputs": [],
   "source": [
    "# Create new column\n",
    "print(pysqldf(\"SELECT date, beef, veal, ((beef + veal) / 2) \\\n",
    "                AS beef_veal_avg \\\n",
    "                FROM meat \\\n",
    "                WHERE veal < 100;\"))"
   ]
  },
  {
   "cell_type": "markdown",
   "metadata": {},
   "source": [
    "# Logical operations\n",
    "\n",
    "\n",
    "* LIKE\n",
    "* IN\n",
    "* BETWEEN\n",
    "* IS NULL\n",
    "* AND\n",
    "* OR\n",
    "* NOT\n"
   ]
  },
  {
   "cell_type": "code",
   "execution_count": null,
   "metadata": {},
   "outputs": [],
   "source": [
    "# LIKE; Find similar values, not necessarilyb exact\n",
    "\n",
    "print(pysqldf(\"SELECT date, beef FROM meat WHERE date LIKE '1951%';\"))"
   ]
  },
  {
   "cell_type": "code",
   "execution_count": null,
   "metadata": {},
   "outputs": [],
   "source": [
    "# IN; queries matches values specified in IN.\n",
    "\n",
    "print(pysqldf(\"SELECT date, beef FROM meat WHERE beef IN (842, 591);\"))"
   ]
  },
  {
   "cell_type": "code",
   "execution_count": null,
   "metadata": {},
   "outputs": [],
   "source": [
    "# BETWEEN; Query returns items that fall between a range.\n",
    "\n",
    "print(pysqldf(\"SELECT date, beef FROM meat WHERE beef BETWEEN 591 AND 842;\"))"
   ]
  },
  {
   "cell_type": "code",
   "execution_count": null,
   "metadata": {},
   "outputs": [],
   "source": [
    "\"\"\"\n",
    "IS NULL; will return entries that have NULL values specified by WHERE.\n",
    "IS NOT NULL;\n",
    "\"\"\"\n",
    "print(pysqldf(\"SELECT * FROM meat WHERE broilers IS NOT NULL\"))"
   ]
  },
  {
   "cell_type": "code",
   "execution_count": null,
   "metadata": {},
   "outputs": [],
   "source": [
    "print(pysqldf(\"SELECT * FROM meat WHERE lamb_and_mutton IS NOT NULL\"))"
   ]
  },
  {
   "cell_type": "code",
   "execution_count": null,
   "metadata": {},
   "outputs": [],
   "source": [
    "# AND; allows you to select rows that statisfy two conditions.\n",
    "\n",
    "print(pysqldf(\"SELECT * \\\n",
    "                  FROM meat \\\n",
    "                  WHERE lamb_and_mutton IS NOT NULL AND pork > 100\"))"
   ]
  },
  {
   "cell_type": "code",
   "execution_count": null,
   "metadata": {},
   "outputs": [],
   "source": [
    "# OR; Allows you to choose rows that satisfy one of the two conditions specified by WHERE.\n",
    "\n",
    "print(pysqldf(\"SELECT * \\\n",
    "                  FROM meat \\\n",
    "                  WHERE lamb_and_mutton IS NOT NULL OR pork > 100\"))"
   ]
  },
  {
   "cell_type": "code",
   "execution_count": null,
   "metadata": {},
   "outputs": [],
   "source": [
    "# Don't forget LIMIT. LIMIT still works.\n",
    "\n",
    "\n",
    "print(pysqldf(\"SELECT * \\\n",
    "                  FROM meat \\\n",
    "                  WHERE lamb_and_mutton IS NOT NULL OR pork > 100 \\\n",
    "                  LIMIT 30;\"))"
   ]
  },
  {
   "cell_type": "code",
   "execution_count": null,
   "metadata": {},
   "outputs": [],
   "source": [
    "# ORDER BY; Order the rows by the specified column.\n",
    "\n",
    "print(pysqldf(\"SELECT * \\\n",
    "                  FROM meat \\\n",
    "                  WHERE lamb_and_mutton IS NOT NULL OR pork > 100 \\\n",
    "                  ORDER BY pork \\\n",
    "                  LIMIT 30;\"))\n",
    "\n"
   ]
  },
  {
   "cell_type": "code",
   "execution_count": null,
   "metadata": {},
   "outputs": [],
   "source": [
    "# ORDER BY; Order the rows by the specified column. This time in descending order.\n",
    "\n",
    "print(pysqldf(\"SELECT * \\\n",
    "                  FROM meat \\\n",
    "                  WHERE lamb_and_mutton IS NOT NULL OR pork > 100 \\\n",
    "                  ORDER BY pork DESC\\\n",
    "                  LIMIT 30;\"))"
   ]
  },
  {
   "cell_type": "code",
   "execution_count": null,
   "metadata": {},
   "outputs": [],
   "source": [
    "# GROUP BY; G\n",
    "\n",
    "print(pysqldf(\"SELECT * \\\n",
    "                  FROM meat \\\n",
    "                  WHERE lamb_and_mutton IS NOT NULL OR pork > 100 \\\n",
    "                  GROUP BY beef \\\n",
    "                  LIMIT 30;\"))"
   ]
  },
  {
   "cell_type": "code",
   "execution_count": null,
   "metadata": {},
   "outputs": [],
   "source": [
    "\n",
    "print(pysqldf(\"SELECT *, \\\n",
    "                  CASE WHEN beef > 600 THEN 'expensive' \\\n",
    "                  ELSE 'cheap' END AS price_category \\\n",
    "                  FROM meat \\\n",
    "                  WHERE lamb_and_mutton IS NOT NULL OR pork > 100;\"))"
   ]
  },
  {
   "cell_type": "code",
   "execution_count": null,
   "metadata": {},
   "outputs": [],
   "source": [
    "print(pysqldf(\"SELECT *, \\\n",
    "                  CASE WHEN beef > 600 OR pork > 800 THEN 'expensive' \\\n",
    "                  ELSE 'cheap' END AS price_category \\\n",
    "                  FROM meat \\\n",
    "                  WHERE lamb_and_mutton IS NOT NULL OR pork > 100;\"))"
   ]
  },
  {
   "cell_type": "code",
   "execution_count": null,
   "metadata": {},
   "outputs": [],
   "source": [
    "print(pysqldf(\"SELECT *, \\\n",
    "                  CASE WHEN beef > 600 OR pork > 800 THEN 'expensive' \\\n",
    "                  ELSE 'cheap' END AS price_category \\\n",
    "                  FROM meat \\\n",
    "                  GROUP BY price_category\"))"
   ]
  },
  {
   "cell_type": "code",
   "execution_count": null,
   "metadata": {},
   "outputs": [],
   "source": []
  }
 ],
 "metadata": {
  "kernelspec": {
   "display_name": "Python 3",
   "language": "python",
   "name": "python3"
  },
  "language_info": {
   "codemirror_mode": {
    "name": "ipython",
    "version": 3
   },
   "file_extension": ".py",
   "mimetype": "text/x-python",
   "name": "python",
   "nbconvert_exporter": "python",
   "pygments_lexer": "ipython3",
   "version": "3.8.5"
  }
 },
 "nbformat": 4,
 "nbformat_minor": 4
}
