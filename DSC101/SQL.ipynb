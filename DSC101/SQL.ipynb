{
 "cells": [
  {
   "cell_type": "code",
   "execution_count": 1,
   "metadata": {},
   "outputs": [],
   "source": [
    "from pandasql import sqldf, load_meat, load_births"
   ]
  },
  {
   "cell_type": "code",
   "execution_count": 2,
   "metadata": {},
   "outputs": [],
   "source": [
    "meat = load_meat()\n",
    "births = load_births()\n",
    "pysqldf = lambda q: sqldf(q, globals())"
   ]
  },
  {
   "cell_type": "code",
   "execution_count": 3,
   "metadata": {},
   "outputs": [
    {
     "name": "stdout",
     "output_type": "stream",
     "text": [
      "<class 'pandas.core.frame.DataFrame'>\n",
      "<class 'pandas.core.frame.DataFrame'>\n",
      "<function <lambda> at 0x7fda5e1a0820>\n"
     ]
    }
   ],
   "source": [
    "print(type(meat)) # loads the meat dataset\n",
    "print(type(births))\n",
    "print(pysqldf)"
   ]
  },
  {
   "cell_type": "code",
   "execution_count": 8,
   "metadata": {},
   "outputs": [
    {
     "data": {
      "text/html": [
       "<div>\n",
       "<style scoped>\n",
       "    .dataframe tbody tr th:only-of-type {\n",
       "        vertical-align: middle;\n",
       "    }\n",
       "\n",
       "    .dataframe tbody tr th {\n",
       "        vertical-align: top;\n",
       "    }\n",
       "\n",
       "    .dataframe thead th {\n",
       "        text-align: right;\n",
       "    }\n",
       "</style>\n",
       "<table border=\"1\" class=\"dataframe\">\n",
       "  <thead>\n",
       "    <tr style=\"text-align: right;\">\n",
       "      <th></th>\n",
       "      <th>date</th>\n",
       "      <th>beef</th>\n",
       "      <th>veal</th>\n",
       "      <th>pork</th>\n",
       "      <th>lamb_and_mutton</th>\n",
       "      <th>broilers</th>\n",
       "      <th>other_chicken</th>\n",
       "      <th>turkey</th>\n",
       "    </tr>\n",
       "  </thead>\n",
       "  <tbody>\n",
       "    <tr>\n",
       "      <th>0</th>\n",
       "      <td>1944-01-01</td>\n",
       "      <td>751.0</td>\n",
       "      <td>85.0</td>\n",
       "      <td>1280.0</td>\n",
       "      <td>89.0</td>\n",
       "      <td>NaN</td>\n",
       "      <td>NaN</td>\n",
       "      <td>NaN</td>\n",
       "    </tr>\n",
       "    <tr>\n",
       "      <th>1</th>\n",
       "      <td>1944-02-01</td>\n",
       "      <td>713.0</td>\n",
       "      <td>77.0</td>\n",
       "      <td>1169.0</td>\n",
       "      <td>72.0</td>\n",
       "      <td>NaN</td>\n",
       "      <td>NaN</td>\n",
       "      <td>NaN</td>\n",
       "    </tr>\n",
       "    <tr>\n",
       "      <th>2</th>\n",
       "      <td>1944-03-01</td>\n",
       "      <td>741.0</td>\n",
       "      <td>90.0</td>\n",
       "      <td>1128.0</td>\n",
       "      <td>75.0</td>\n",
       "      <td>NaN</td>\n",
       "      <td>NaN</td>\n",
       "      <td>NaN</td>\n",
       "    </tr>\n",
       "    <tr>\n",
       "      <th>3</th>\n",
       "      <td>1944-04-01</td>\n",
       "      <td>650.0</td>\n",
       "      <td>89.0</td>\n",
       "      <td>978.0</td>\n",
       "      <td>66.0</td>\n",
       "      <td>NaN</td>\n",
       "      <td>NaN</td>\n",
       "      <td>NaN</td>\n",
       "    </tr>\n",
       "    <tr>\n",
       "      <th>4</th>\n",
       "      <td>1944-05-01</td>\n",
       "      <td>681.0</td>\n",
       "      <td>106.0</td>\n",
       "      <td>1029.0</td>\n",
       "      <td>78.0</td>\n",
       "      <td>NaN</td>\n",
       "      <td>NaN</td>\n",
       "      <td>NaN</td>\n",
       "    </tr>\n",
       "  </tbody>\n",
       "</table>\n",
       "</div>"
      ],
      "text/plain": [
       "        date   beef   veal    pork  lamb_and_mutton  broilers  other_chicken  \\\n",
       "0 1944-01-01  751.0   85.0  1280.0             89.0       NaN            NaN   \n",
       "1 1944-02-01  713.0   77.0  1169.0             72.0       NaN            NaN   \n",
       "2 1944-03-01  741.0   90.0  1128.0             75.0       NaN            NaN   \n",
       "3 1944-04-01  650.0   89.0   978.0             66.0       NaN            NaN   \n",
       "4 1944-05-01  681.0  106.0  1029.0             78.0       NaN            NaN   \n",
       "\n",
       "   turkey  \n",
       "0     NaN  \n",
       "1     NaN  \n",
       "2     NaN  \n",
       "3     NaN  \n",
       "4     NaN  "
      ]
     },
     "execution_count": 8,
     "metadata": {},
     "output_type": "execute_result"
    }
   ],
   "source": [
    "#meat[15:26]\n",
    "meat.head()"
   ]
  },
  {
   "cell_type": "code",
   "execution_count": 9,
   "metadata": {},
   "outputs": [
    {
     "name": "stdout",
     "output_type": "stream",
     "text": [
      "<class 'pandas.core.frame.DataFrame'>\n",
      "RangeIndex: 827 entries, 0 to 826\n",
      "Data columns (total 8 columns):\n",
      " #   Column           Non-Null Count  Dtype         \n",
      "---  ------           --------------  -----         \n",
      " 0   date             827 non-null    datetime64[ns]\n",
      " 1   beef             827 non-null    float64       \n",
      " 2   veal             827 non-null    float64       \n",
      " 3   pork             827 non-null    float64       \n",
      " 4   lamb_and_mutton  827 non-null    float64       \n",
      " 5   broilers         635 non-null    float64       \n",
      " 6   other_chicken    143 non-null    float64       \n",
      " 7   turkey           635 non-null    float64       \n",
      "dtypes: datetime64[ns](1), float64(7)\n",
      "memory usage: 51.8 KB\n"
     ]
    }
   ],
   "source": [
    "meat.info()"
   ]
  },
  {
   "cell_type": "code",
   "execution_count": 10,
   "metadata": {},
   "outputs": [
    {
     "data": {
      "text/html": [
       "<div>\n",
       "<style scoped>\n",
       "    .dataframe tbody tr th:only-of-type {\n",
       "        vertical-align: middle;\n",
       "    }\n",
       "\n",
       "    .dataframe tbody tr th {\n",
       "        vertical-align: top;\n",
       "    }\n",
       "\n",
       "    .dataframe thead th {\n",
       "        text-align: right;\n",
       "    }\n",
       "</style>\n",
       "<table border=\"1\" class=\"dataframe\">\n",
       "  <thead>\n",
       "    <tr style=\"text-align: right;\">\n",
       "      <th></th>\n",
       "      <th>date</th>\n",
       "      <th>births</th>\n",
       "    </tr>\n",
       "  </thead>\n",
       "  <tbody>\n",
       "    <tr>\n",
       "      <th>0</th>\n",
       "      <td>1975-01-01</td>\n",
       "      <td>265775</td>\n",
       "    </tr>\n",
       "    <tr>\n",
       "      <th>1</th>\n",
       "      <td>1975-02-01</td>\n",
       "      <td>241045</td>\n",
       "    </tr>\n",
       "    <tr>\n",
       "      <th>2</th>\n",
       "      <td>1975-03-01</td>\n",
       "      <td>268849</td>\n",
       "    </tr>\n",
       "    <tr>\n",
       "      <th>3</th>\n",
       "      <td>1975-04-01</td>\n",
       "      <td>247455</td>\n",
       "    </tr>\n",
       "    <tr>\n",
       "      <th>4</th>\n",
       "      <td>1975-05-01</td>\n",
       "      <td>254545</td>\n",
       "    </tr>\n",
       "  </tbody>\n",
       "</table>\n",
       "</div>"
      ],
      "text/plain": [
       "        date  births\n",
       "0 1975-01-01  265775\n",
       "1 1975-02-01  241045\n",
       "2 1975-03-01  268849\n",
       "3 1975-04-01  247455\n",
       "4 1975-05-01  254545"
      ]
     },
     "execution_count": 10,
     "metadata": {},
     "output_type": "execute_result"
    }
   ],
   "source": [
    "births.head()"
   ]
  },
  {
   "cell_type": "code",
   "execution_count": 11,
   "metadata": {},
   "outputs": [
    {
     "name": "stdout",
     "output_type": "stream",
     "text": [
      "<class 'pandas.core.frame.DataFrame'>\n",
      "RangeIndex: 408 entries, 0 to 407\n",
      "Data columns (total 2 columns):\n",
      " #   Column  Non-Null Count  Dtype         \n",
      "---  ------  --------------  -----         \n",
      " 0   date    408 non-null    datetime64[ns]\n",
      " 1   births  408 non-null    int64         \n",
      "dtypes: datetime64[ns](1), int64(1)\n",
      "memory usage: 6.5 KB\n"
     ]
    }
   ],
   "source": [
    "births.info()"
   ]
  },
  {
   "cell_type": "code",
   "execution_count": 12,
   "metadata": {},
   "outputs": [
    {
     "data": {
      "text/html": [
       "<div>\n",
       "<style scoped>\n",
       "    .dataframe tbody tr th:only-of-type {\n",
       "        vertical-align: middle;\n",
       "    }\n",
       "\n",
       "    .dataframe tbody tr th {\n",
       "        vertical-align: top;\n",
       "    }\n",
       "\n",
       "    .dataframe thead th {\n",
       "        text-align: right;\n",
       "    }\n",
       "</style>\n",
       "<table border=\"1\" class=\"dataframe\">\n",
       "  <thead>\n",
       "    <tr style=\"text-align: right;\">\n",
       "      <th></th>\n",
       "      <th>births</th>\n",
       "    </tr>\n",
       "  </thead>\n",
       "  <tbody>\n",
       "    <tr>\n",
       "      <th>count</th>\n",
       "      <td>408.000000</td>\n",
       "    </tr>\n",
       "    <tr>\n",
       "      <th>mean</th>\n",
       "      <td>320585.502451</td>\n",
       "    </tr>\n",
       "    <tr>\n",
       "      <th>std</th>\n",
       "      <td>29449.011996</td>\n",
       "    </tr>\n",
       "    <tr>\n",
       "      <th>min</th>\n",
       "      <td>236551.000000</td>\n",
       "    </tr>\n",
       "    <tr>\n",
       "      <th>25%</th>\n",
       "      <td>303456.500000</td>\n",
       "    </tr>\n",
       "    <tr>\n",
       "      <th>50%</th>\n",
       "      <td>325625.500000</td>\n",
       "    </tr>\n",
       "    <tr>\n",
       "      <th>75%</th>\n",
       "      <td>342046.750000</td>\n",
       "    </tr>\n",
       "    <tr>\n",
       "      <th>max</th>\n",
       "      <td>387798.000000</td>\n",
       "    </tr>\n",
       "  </tbody>\n",
       "</table>\n",
       "</div>"
      ],
      "text/plain": [
       "              births\n",
       "count     408.000000\n",
       "mean   320585.502451\n",
       "std     29449.011996\n",
       "min    236551.000000\n",
       "25%    303456.500000\n",
       "50%    325625.500000\n",
       "75%    342046.750000\n",
       "max    387798.000000"
      ]
     },
     "execution_count": 12,
     "metadata": {},
     "output_type": "execute_result"
    }
   ],
   "source": [
    "births.describe()"
   ]
  },
  {
   "cell_type": "code",
   "execution_count": 13,
   "metadata": {},
   "outputs": [
    {
     "name": "stdout",
     "output_type": "stream",
     "text": [
      "                          date    beef   veal    pork  lamb_and_mutton  \\\n",
      "0   1944-01-01 00:00:00.000000   751.0   85.0  1280.0             89.0   \n",
      "1   1944-02-01 00:00:00.000000   713.0   77.0  1169.0             72.0   \n",
      "2   1944-03-01 00:00:00.000000   741.0   90.0  1128.0             75.0   \n",
      "3   1944-04-01 00:00:00.000000   650.0   89.0   978.0             66.0   \n",
      "4   1944-05-01 00:00:00.000000   681.0  106.0  1029.0             78.0   \n",
      "5   1944-06-01 00:00:00.000000   658.0  125.0   962.0             79.0   \n",
      "6   1944-07-01 00:00:00.000000   662.0  142.0   796.0             82.0   \n",
      "7   1944-08-01 00:00:00.000000   787.0  175.0   748.0             87.0   \n",
      "8   1944-09-01 00:00:00.000000   774.0  182.0   678.0             91.0   \n",
      "9   1944-10-01 00:00:00.000000   834.0  215.0   777.0            100.0   \n",
      "10  1944-11-01 00:00:00.000000   786.0  197.0   944.0             91.0   \n",
      "11  1944-12-01 00:00:00.000000   764.0  146.0  1013.0             91.0   \n",
      "12  1945-01-01 00:00:00.000000   820.0  119.0  1037.0            100.0   \n",
      "13  1945-02-01 00:00:00.000000   816.0   97.0   724.0             81.0   \n",
      "14  1945-03-01 00:00:00.000000   836.0  107.0   723.0             87.0   \n",
      "15  1945-04-01 00:00:00.000000   736.0   98.0   651.0             78.0   \n",
      "16  1945-05-01 00:00:00.000000   747.0  103.0   682.0             87.0   \n",
      "17  1945-06-01 00:00:00.000000   739.0  110.0   674.0             87.0   \n",
      "18  1945-07-01 00:00:00.000000   736.0  117.0   610.0             82.0   \n",
      "19  1945-08-01 00:00:00.000000   858.0  145.0   531.0             77.0   \n",
      "20  1945-09-01 00:00:00.000000   910.0  164.0   535.0             80.0   \n",
      "21  1945-10-01 00:00:00.000000  1022.0  201.0   628.0             95.0   \n",
      "22  1945-11-01 00:00:00.000000   933.0  173.0   945.0             86.0   \n",
      "\n",
      "   broilers other_chicken turkey  \n",
      "0      None          None   None  \n",
      "1      None          None   None  \n",
      "2      None          None   None  \n",
      "3      None          None   None  \n",
      "4      None          None   None  \n",
      "5      None          None   None  \n",
      "6      None          None   None  \n",
      "7      None          None   None  \n",
      "8      None          None   None  \n",
      "9      None          None   None  \n",
      "10     None          None   None  \n",
      "11     None          None   None  \n",
      "12     None          None   None  \n",
      "13     None          None   None  \n",
      "14     None          None   None  \n",
      "15     None          None   None  \n",
      "16     None          None   None  \n",
      "17     None          None   None  \n",
      "18     None          None   None  \n",
      "19     None          None   None  \n",
      "20     None          None   None  \n",
      "21     None          None   None  \n",
      "22     None          None   None  \n"
     ]
    }
   ],
   "source": [
    "print(pysqldf(\"SELECT * FROM meat LIMIT 23;\")) # select all columns from the table \"meat\""
   ]
  },
  {
   "cell_type": "markdown",
   "metadata": {},
   "source": [
    "## SELECT\n",
    "\n",
    "* Use SELECT to specify Columns.\n",
    "    e.g. SELECT beef\n",
    "* USE SELECT * to select all columns\n",
    "    e.g. SELECT *\n",
    "    \n",
    "Note: \"SELECT *\" is an incomplete query. You must also specify the table using FROM."
   ]
  },
  {
   "cell_type": "markdown",
   "metadata": {},
   "source": [
    "## FROM\n",
    "\n",
    "We use the FROM statement to specify a table. \n",
    "\n",
    "Here we have two tables called \"meat\" and \"births.\" You can try SELECT * on any of them. "
   ]
  },
  {
   "cell_type": "code",
   "execution_count": 15,
   "metadata": {},
   "outputs": [
    {
     "name": "stdout",
     "output_type": "stream",
     "text": [
      "                           date  births\n",
      "0    1975-01-01 00:00:00.000000  265775\n",
      "1    1975-02-01 00:00:00.000000  241045\n",
      "2    1975-03-01 00:00:00.000000  268849\n",
      "3    1975-04-01 00:00:00.000000  247455\n",
      "4    1975-05-01 00:00:00.000000  254545\n",
      "..                          ...     ...\n",
      "403  2012-08-01 00:00:00.000000  359554\n",
      "404  2012-09-01 00:00:00.000000  361922\n",
      "405  2012-10-01 00:00:00.000000  347625\n",
      "406  2012-11-01 00:00:00.000000  320195\n",
      "407  2012-12-01 00:00:00.000000  340995\n",
      "\n",
      "[408 rows x 2 columns]\n"
     ]
    }
   ],
   "source": [
    "print(pysqldf(\"SELECT * FROM births;\"))"
   ]
  },
  {
   "cell_type": "code",
   "execution_count": 16,
   "metadata": {},
   "outputs": [
    {
     "name": "stdout",
     "output_type": "stream",
     "text": [
      "                           date\n",
      "0    1944-01-01 00:00:00.000000\n",
      "1    1944-02-01 00:00:00.000000\n",
      "2    1944-03-01 00:00:00.000000\n",
      "3    1944-04-01 00:00:00.000000\n",
      "4    1944-05-01 00:00:00.000000\n",
      "..                          ...\n",
      "822  2012-07-01 00:00:00.000000\n",
      "823  2012-08-01 00:00:00.000000\n",
      "824  2012-09-01 00:00:00.000000\n",
      "825  2012-10-01 00:00:00.000000\n",
      "826  2012-11-01 00:00:00.000000\n",
      "\n",
      "[827 rows x 1 columns]\n"
     ]
    }
   ],
   "source": [
    "# example\n",
    "\n",
    "print(pysqldf(\"SELECT date FROM meat;\"))"
   ]
  },
  {
   "cell_type": "code",
   "execution_count": 17,
   "metadata": {},
   "outputs": [
    {
     "name": "stdout",
     "output_type": "stream",
     "text": [
      "       beef\n",
      "0     751.0\n",
      "1     713.0\n",
      "2     741.0\n",
      "3     650.0\n",
      "4     681.0\n",
      "..      ...\n",
      "822  2200.8\n",
      "823  2367.5\n",
      "824  2016.0\n",
      "825  2343.7\n",
      "826  2206.6\n",
      "\n",
      "[827 rows x 1 columns]\n"
     ]
    }
   ],
   "source": [
    "print(pysqldf(\"SELECT beef FROM meat;\"))"
   ]
  },
  {
   "cell_type": "code",
   "execution_count": 18,
   "metadata": {},
   "outputs": [
    {
     "name": "stdout",
     "output_type": "stream",
     "text": [
      "      veal\n",
      "0     85.0\n",
      "1     77.0\n",
      "2     90.0\n",
      "3     89.0\n",
      "4    106.0\n",
      "..     ...\n",
      "822    9.5\n",
      "823   10.1\n",
      "824    8.8\n",
      "825   10.3\n",
      "826   10.1\n",
      "\n",
      "[827 rows x 1 columns]\n"
     ]
    }
   ],
   "source": [
    "print(pysqldf(\"SELECT veal FROM meat;\"))"
   ]
  },
  {
   "cell_type": "code",
   "execution_count": 19,
   "metadata": {},
   "outputs": [
    {
     "name": "stdout",
     "output_type": "stream",
     "text": [
      "                           date    beef   veal    pork  lamb_and_mutton  \\\n",
      "0    1944-01-01 00:00:00.000000   751.0   85.0  1280.0             89.0   \n",
      "1    1944-02-01 00:00:00.000000   713.0   77.0  1169.0             72.0   \n",
      "2    1944-03-01 00:00:00.000000   741.0   90.0  1128.0             75.0   \n",
      "3    1944-04-01 00:00:00.000000   650.0   89.0   978.0             66.0   \n",
      "4    1944-05-01 00:00:00.000000   681.0  106.0  1029.0             78.0   \n",
      "..                          ...     ...    ...     ...              ...   \n",
      "822  2012-07-01 00:00:00.000000  2200.8    9.5  1721.8             12.5   \n",
      "823  2012-08-01 00:00:00.000000  2367.5   10.1  1997.9             14.2   \n",
      "824  2012-09-01 00:00:00.000000  2016.0    8.8  1911.0             12.5   \n",
      "825  2012-10-01 00:00:00.000000  2343.7   10.3  2210.4             14.2   \n",
      "826  2012-11-01 00:00:00.000000  2206.6   10.1  2078.7             12.4   \n",
      "\n",
      "     broilers  other_chicken  turkey  \n",
      "0         NaN            NaN     NaN  \n",
      "1         NaN            NaN     NaN  \n",
      "2         NaN            NaN     NaN  \n",
      "3         NaN            NaN     NaN  \n",
      "4         NaN            NaN     NaN  \n",
      "..        ...            ...     ...  \n",
      "822    3127.0           43.4   497.2  \n",
      "823    3317.4           51.0   530.1  \n",
      "824    2927.1           43.7   453.1  \n",
      "825    3335.0           43.8   579.9  \n",
      "826    3006.7           37.5   515.3  \n",
      "\n",
      "[827 rows x 8 columns]\n"
     ]
    }
   ],
   "source": [
    "print(pysqldf(\"SELECT * FROM meat;\"))"
   ]
  },
  {
   "cell_type": "markdown",
   "metadata": {},
   "source": [
    "## LIMIT\n",
    "\n",
    "Use limit to get the top n number of items from the query. You can use limit when you want a different number of items from the default.\n",
    "\n"
   ]
  },
  {
   "cell_type": "code",
   "execution_count": null,
   "metadata": {},
   "outputs": [],
   "source": [
    "print(pysqldf(\"SELECT * FROM meat LIMIT 3;\"))"
   ]
  },
  {
   "cell_type": "code",
   "execution_count": null,
   "metadata": {},
   "outputs": [],
   "source": [
    "print(pysqldf(\"SELECT beef FROM meat LIMIT 70;\"))"
   ]
  },
  {
   "cell_type": "markdown",
   "metadata": {},
   "source": [
    "# WHERE"
   ]
  },
  {
   "cell_type": "code",
   "execution_count": 20,
   "metadata": {},
   "outputs": [
    {
     "name": "stdout",
     "output_type": "stream",
     "text": [
      "                           date    beef   veal    pork  lamb_and_mutton  \\\n",
      "0    1944-01-01 00:00:00.000000   751.0   85.0  1280.0             89.0   \n",
      "1    1944-02-01 00:00:00.000000   713.0   77.0  1169.0             72.0   \n",
      "2    1944-03-01 00:00:00.000000   741.0   90.0  1128.0             75.0   \n",
      "3    1944-04-01 00:00:00.000000   650.0   89.0   978.0             66.0   \n",
      "4    1944-05-01 00:00:00.000000   681.0  106.0  1029.0             78.0   \n",
      "..                          ...     ...    ...     ...              ...   \n",
      "822  2012-07-01 00:00:00.000000  2200.8    9.5  1721.8             12.5   \n",
      "823  2012-08-01 00:00:00.000000  2367.5   10.1  1997.9             14.2   \n",
      "824  2012-09-01 00:00:00.000000  2016.0    8.8  1911.0             12.5   \n",
      "825  2012-10-01 00:00:00.000000  2343.7   10.3  2210.4             14.2   \n",
      "826  2012-11-01 00:00:00.000000  2206.6   10.1  2078.7             12.4   \n",
      "\n",
      "     broilers  other_chicken  turkey  \n",
      "0         NaN            NaN     NaN  \n",
      "1         NaN            NaN     NaN  \n",
      "2         NaN            NaN     NaN  \n",
      "3         NaN            NaN     NaN  \n",
      "4         NaN            NaN     NaN  \n",
      "..        ...            ...     ...  \n",
      "822    3127.0           43.4   497.2  \n",
      "823    3317.4           51.0   530.1  \n",
      "824    2927.1           43.7   453.1  \n",
      "825    3335.0           43.8   579.9  \n",
      "826    3006.7           37.5   515.3  \n",
      "\n",
      "[827 rows x 8 columns]\n"
     ]
    }
   ],
   "source": [
    "print(pysqldf(\"SELECT * FROM meat;\"))"
   ]
  },
  {
   "cell_type": "code",
   "execution_count": null,
   "metadata": {},
   "outputs": [],
   "source": []
  },
  {
   "cell_type": "code",
   "execution_count": null,
   "metadata": {},
   "outputs": [],
   "source": [
    "print(pysqldf(\"SELECT * FROM meat WHERE beef<700;\"))"
   ]
  },
  {
   "cell_type": "code",
   "execution_count": null,
   "metadata": {},
   "outputs": [],
   "source": [
    "print(pysqldf(\"SELECT * FROM meat WHERE beef<700 LIMIT 10;\"))"
   ]
  },
  {
   "cell_type": "code",
   "execution_count": null,
   "metadata": {},
   "outputs": [],
   "source": [
    "print(pysqldf(\"SELECT * FROM meat WHERE veal < 100;\"))"
   ]
  },
  {
   "cell_type": "code",
   "execution_count": null,
   "metadata": {},
   "outputs": [],
   "source": [
    "## SELECT multiple columns\n",
    "\n",
    "print(pysqldf(\"SELECT date, beef FROM meat WHERE veal < 100;\"))"
   ]
  },
  {
   "cell_type": "markdown",
   "metadata": {},
   "source": [
    "# AS"
   ]
  },
  {
   "cell_type": "code",
   "execution_count": 21,
   "metadata": {},
   "outputs": [
    {
     "name": "stdout",
     "output_type": "stream",
     "text": [
      "                           date    beef  veal  beef_veal_avg\n",
      "0    1944-01-01 00:00:00.000000   751.0  85.0         418.00\n",
      "1    1944-02-01 00:00:00.000000   713.0  77.0         395.00\n",
      "2    1944-03-01 00:00:00.000000   741.0  90.0         415.50\n",
      "3    1944-04-01 00:00:00.000000   650.0  89.0         369.50\n",
      "4    1945-02-01 00:00:00.000000   816.0  97.0         456.50\n",
      "..                          ...     ...   ...            ...\n",
      "705  2012-07-01 00:00:00.000000  2200.8   9.5        1105.15\n",
      "706  2012-08-01 00:00:00.000000  2367.5  10.1        1188.80\n",
      "707  2012-09-01 00:00:00.000000  2016.0   8.8        1012.40\n",
      "708  2012-10-01 00:00:00.000000  2343.7  10.3        1177.00\n",
      "709  2012-11-01 00:00:00.000000  2206.6  10.1        1108.35\n",
      "\n",
      "[710 rows x 4 columns]\n"
     ]
    }
   ],
   "source": [
    "# Create new column\n",
    "print(pysqldf(\"SELECT date, beef, veal, \\\n",
    "                ((beef + veal) / 2) AS beef_veal_avg \\\n",
    "                FROM meat \\\n",
    "                WHERE veal < 100;\"))"
   ]
  },
  {
   "cell_type": "markdown",
   "metadata": {},
   "source": [
    "# Logical operations\n",
    "\n",
    "\n",
    "* LIKE\n",
    "* IN\n",
    "* BETWEEN\n",
    "* IS NULL\n",
    "* AND\n",
    "* OR\n",
    "* NOT\n"
   ]
  },
  {
   "cell_type": "code",
   "execution_count": 24,
   "metadata": {},
   "outputs": [
    {
     "name": "stdout",
     "output_type": "stream",
     "text": [
      "                          date    beef\n",
      "0   2012-01-01 00:00:00.000000  2113.8\n",
      "1   2012-02-01 00:00:00.000000  2009.0\n",
      "2   2012-03-01 00:00:00.000000  2159.8\n",
      "3   2012-04-01 00:00:00.000000  1990.6\n",
      "4   2012-05-01 00:00:00.000000  2232.0\n",
      "5   2012-06-01 00:00:00.000000  2252.1\n",
      "6   2012-07-01 00:00:00.000000  2200.8\n",
      "7   2012-08-01 00:00:00.000000  2367.5\n",
      "8   2012-09-01 00:00:00.000000  2016.0\n",
      "9   2012-10-01 00:00:00.000000  2343.7\n",
      "10  2012-11-01 00:00:00.000000  2206.6\n"
     ]
    }
   ],
   "source": [
    "# LIKE; Find similar values, not necessarilyb exact\n",
    "\n",
    "print(pysqldf(\"SELECT date, beef FROM meat WHERE date LIKE '2012%';\"))"
   ]
  },
  {
   "cell_type": "code",
   "execution_count": 27,
   "metadata": {},
   "outputs": [
    {
     "name": "stdout",
     "output_type": "stream",
     "text": [
      "                         date   beef\n",
      "0  1951-01-01 00:00:00.000000  842.0\n",
      "1  1951-06-01 00:00:00.000000  591.0\n"
     ]
    }
   ],
   "source": [
    "# IN; queries matches values specified in IN.\n",
    "\n",
    "print(pysqldf(\"SELECT date, beef FROM meat WHERE beef IN (842, 591);\"))"
   ]
  },
  {
   "cell_type": "code",
   "execution_count": 37,
   "metadata": {},
   "outputs": [
    {
     "name": "stdout",
     "output_type": "stream",
     "text": [
      "                          date   beef\n",
      "0   1951-06-01 00:00:00.000000  591.0\n",
      "1   1946-05-01 00:00:00.000000  605.0\n",
      "2   1944-04-01 00:00:00.000000  650.0\n",
      "3   1948-05-01 00:00:00.000000  650.0\n",
      "4   1951-02-01 00:00:00.000000  650.0\n",
      "..                         ...    ...\n",
      "84  1945-03-01 00:00:00.000000  836.0\n",
      "85  1947-07-01 00:00:00.000000  839.0\n",
      "86  1946-10-01 00:00:00.000000  840.0\n",
      "87  1952-09-01 00:00:00.000000  841.0\n",
      "88  1951-01-01 00:00:00.000000  842.0\n",
      "\n",
      "[89 rows x 2 columns]\n"
     ]
    }
   ],
   "source": [
    "# BETWEEN; Query returns items that fall between a range.\n",
    "\n",
    "print(pysqldf(\"SELECT date, beef FROM meat WHERE beef BETWEEN 591 AND 842 ORDER BY beef;\"))"
   ]
  },
  {
   "cell_type": "code",
   "execution_count": 28,
   "metadata": {},
   "outputs": [
    {
     "name": "stdout",
     "output_type": "stream",
     "text": [
      "                           date    beef  veal    pork  lamb_and_mutton  \\\n",
      "0    1960-01-01 00:00:00.000000  1196.0  79.0  1058.0             68.0   \n",
      "1    1960-02-01 00:00:00.000000  1089.0  73.0   940.0             60.0   \n",
      "2    1960-03-01 00:00:00.000000  1201.0  83.0   981.0             61.0   \n",
      "3    1960-04-01 00:00:00.000000  1066.0  75.0   910.0             59.0   \n",
      "4    1960-05-01 00:00:00.000000  1202.0  77.0   905.0             61.0   \n",
      "..                          ...     ...   ...     ...              ...   \n",
      "630  2012-07-01 00:00:00.000000  2200.8   9.5  1721.8             12.5   \n",
      "631  2012-08-01 00:00:00.000000  2367.5  10.1  1997.9             14.2   \n",
      "632  2012-09-01 00:00:00.000000  2016.0   8.8  1911.0             12.5   \n",
      "633  2012-10-01 00:00:00.000000  2343.7  10.3  2210.4             14.2   \n",
      "634  2012-11-01 00:00:00.000000  2206.6  10.1  2078.7             12.4   \n",
      "\n",
      "     broilers  other_chicken  turkey  \n",
      "0       255.9            NaN    22.1  \n",
      "1       250.9            NaN    14.0  \n",
      "2       283.6            NaN    13.4  \n",
      "3       301.6            NaN    16.2  \n",
      "4       331.7            NaN    27.1  \n",
      "..        ...            ...     ...  \n",
      "630    3127.0           43.4   497.2  \n",
      "631    3317.4           51.0   530.1  \n",
      "632    2927.1           43.7   453.1  \n",
      "633    3335.0           43.8   579.9  \n",
      "634    3006.7           37.5   515.3  \n",
      "\n",
      "[635 rows x 8 columns]\n"
     ]
    }
   ],
   "source": [
    "\"\"\"\n",
    "IS NULL; will return entries that have NULL values specified by WHERE.\n",
    "IS NOT NULL;\n",
    "\"\"\"\n",
    "print(pysqldf(\"SELECT * FROM meat WHERE broilers IS NOT NULL\"))"
   ]
  },
  {
   "cell_type": "code",
   "execution_count": 29,
   "metadata": {},
   "outputs": [
    {
     "name": "stdout",
     "output_type": "stream",
     "text": [
      "                           date    beef   veal    pork  lamb_and_mutton  \\\n",
      "0    1944-01-01 00:00:00.000000   751.0   85.0  1280.0             89.0   \n",
      "1    1944-02-01 00:00:00.000000   713.0   77.0  1169.0             72.0   \n",
      "2    1944-03-01 00:00:00.000000   741.0   90.0  1128.0             75.0   \n",
      "3    1944-04-01 00:00:00.000000   650.0   89.0   978.0             66.0   \n",
      "4    1944-05-01 00:00:00.000000   681.0  106.0  1029.0             78.0   \n",
      "..                          ...     ...    ...     ...              ...   \n",
      "822  2012-07-01 00:00:00.000000  2200.8    9.5  1721.8             12.5   \n",
      "823  2012-08-01 00:00:00.000000  2367.5   10.1  1997.9             14.2   \n",
      "824  2012-09-01 00:00:00.000000  2016.0    8.8  1911.0             12.5   \n",
      "825  2012-10-01 00:00:00.000000  2343.7   10.3  2210.4             14.2   \n",
      "826  2012-11-01 00:00:00.000000  2206.6   10.1  2078.7             12.4   \n",
      "\n",
      "     broilers  other_chicken  turkey  \n",
      "0         NaN            NaN     NaN  \n",
      "1         NaN            NaN     NaN  \n",
      "2         NaN            NaN     NaN  \n",
      "3         NaN            NaN     NaN  \n",
      "4         NaN            NaN     NaN  \n",
      "..        ...            ...     ...  \n",
      "822    3127.0           43.4   497.2  \n",
      "823    3317.4           51.0   530.1  \n",
      "824    2927.1           43.7   453.1  \n",
      "825    3335.0           43.8   579.9  \n",
      "826    3006.7           37.5   515.3  \n",
      "\n",
      "[827 rows x 8 columns]\n"
     ]
    }
   ],
   "source": [
    "print(pysqldf(\"SELECT * FROM meat WHERE lamb_and_mutton IS NOT NULL\"))"
   ]
  },
  {
   "cell_type": "code",
   "execution_count": 34,
   "metadata": {},
   "outputs": [
    {
     "name": "stdout",
     "output_type": "stream",
     "text": [
      "                           date    beef   veal    pork  lamb_and_mutton  \\\n",
      "0    1944-01-01 00:00:00.000000   751.0   85.0  1280.0             89.0   \n",
      "1    1944-02-01 00:00:00.000000   713.0   77.0  1169.0             72.0   \n",
      "2    1944-03-01 00:00:00.000000   741.0   90.0  1128.0             75.0   \n",
      "3    1944-05-01 00:00:00.000000   681.0  106.0  1029.0             78.0   \n",
      "4    1944-12-01 00:00:00.000000   764.0  146.0  1013.0             91.0   \n",
      "..                          ...     ...    ...     ...              ...   \n",
      "559  2012-07-01 00:00:00.000000  2200.8    9.5  1721.8             12.5   \n",
      "560  2012-08-01 00:00:00.000000  2367.5   10.1  1997.9             14.2   \n",
      "561  2012-09-01 00:00:00.000000  2016.0    8.8  1911.0             12.5   \n",
      "562  2012-10-01 00:00:00.000000  2343.7   10.3  2210.4             14.2   \n",
      "563  2012-11-01 00:00:00.000000  2206.6   10.1  2078.7             12.4   \n",
      "\n",
      "     broilers  other_chicken  turkey  \n",
      "0         NaN            NaN     NaN  \n",
      "1         NaN            NaN     NaN  \n",
      "2         NaN            NaN     NaN  \n",
      "3         NaN            NaN     NaN  \n",
      "4         NaN            NaN     NaN  \n",
      "..        ...            ...     ...  \n",
      "559    3127.0           43.4   497.2  \n",
      "560    3317.4           51.0   530.1  \n",
      "561    2927.1           43.7   453.1  \n",
      "562    3335.0           43.8   579.9  \n",
      "563    3006.7           37.5   515.3  \n",
      "\n",
      "[564 rows x 8 columns]\n"
     ]
    }
   ],
   "source": [
    "# AND; allows you to select rows that statisfy two conditions.\n",
    "\n",
    "print(pysqldf(\"SELECT * \\\n",
    "                  FROM meat \\\n",
    "                  WHERE lamb_and_mutton IS NULL OR pork > 1000\"))"
   ]
  },
  {
   "cell_type": "code",
   "execution_count": 31,
   "metadata": {},
   "outputs": [
    {
     "name": "stdout",
     "output_type": "stream",
     "text": [
      "                           date    beef   veal    pork  lamb_and_mutton  \\\n",
      "0    1944-01-01 00:00:00.000000   751.0   85.0  1280.0             89.0   \n",
      "1    1944-02-01 00:00:00.000000   713.0   77.0  1169.0             72.0   \n",
      "2    1944-03-01 00:00:00.000000   741.0   90.0  1128.0             75.0   \n",
      "3    1944-04-01 00:00:00.000000   650.0   89.0   978.0             66.0   \n",
      "4    1944-05-01 00:00:00.000000   681.0  106.0  1029.0             78.0   \n",
      "..                          ...     ...    ...     ...              ...   \n",
      "822  2012-07-01 00:00:00.000000  2200.8    9.5  1721.8             12.5   \n",
      "823  2012-08-01 00:00:00.000000  2367.5   10.1  1997.9             14.2   \n",
      "824  2012-09-01 00:00:00.000000  2016.0    8.8  1911.0             12.5   \n",
      "825  2012-10-01 00:00:00.000000  2343.7   10.3  2210.4             14.2   \n",
      "826  2012-11-01 00:00:00.000000  2206.6   10.1  2078.7             12.4   \n",
      "\n",
      "     broilers  other_chicken  turkey  \n",
      "0         NaN            NaN     NaN  \n",
      "1         NaN            NaN     NaN  \n",
      "2         NaN            NaN     NaN  \n",
      "3         NaN            NaN     NaN  \n",
      "4         NaN            NaN     NaN  \n",
      "..        ...            ...     ...  \n",
      "822    3127.0           43.4   497.2  \n",
      "823    3317.4           51.0   530.1  \n",
      "824    2927.1           43.7   453.1  \n",
      "825    3335.0           43.8   579.9  \n",
      "826    3006.7           37.5   515.3  \n",
      "\n",
      "[827 rows x 8 columns]\n"
     ]
    }
   ],
   "source": [
    "# OR; Allows you to choose rows that satisfy one of the two conditions specified by WHERE.\n",
    "\n",
    "print(pysqldf(\"SELECT * \\\n",
    "                  FROM meat \\\n",
    "                  WHERE lamb_and_mutton IS NOT NULL OR pork > 100\"))"
   ]
  },
  {
   "cell_type": "code",
   "execution_count": 35,
   "metadata": {},
   "outputs": [
    {
     "name": "stdout",
     "output_type": "stream",
     "text": [
      "                          date    beef   veal    pork  lamb_and_mutton  \\\n",
      "0   1944-01-01 00:00:00.000000   751.0   85.0  1280.0             89.0   \n",
      "1   1944-02-01 00:00:00.000000   713.0   77.0  1169.0             72.0   \n",
      "2   1944-03-01 00:00:00.000000   741.0   90.0  1128.0             75.0   \n",
      "3   1944-04-01 00:00:00.000000   650.0   89.0   978.0             66.0   \n",
      "4   1944-05-01 00:00:00.000000   681.0  106.0  1029.0             78.0   \n",
      "5   1944-06-01 00:00:00.000000   658.0  125.0   962.0             79.0   \n",
      "6   1944-07-01 00:00:00.000000   662.0  142.0   796.0             82.0   \n",
      "7   1944-08-01 00:00:00.000000   787.0  175.0   748.0             87.0   \n",
      "8   1944-09-01 00:00:00.000000   774.0  182.0   678.0             91.0   \n",
      "9   1944-10-01 00:00:00.000000   834.0  215.0   777.0            100.0   \n",
      "10  1944-11-01 00:00:00.000000   786.0  197.0   944.0             91.0   \n",
      "11  1944-12-01 00:00:00.000000   764.0  146.0  1013.0             91.0   \n",
      "12  1945-01-01 00:00:00.000000   820.0  119.0  1037.0            100.0   \n",
      "13  1945-02-01 00:00:00.000000   816.0   97.0   724.0             81.0   \n",
      "14  1945-03-01 00:00:00.000000   836.0  107.0   723.0             87.0   \n",
      "15  1945-04-01 00:00:00.000000   736.0   98.0   651.0             78.0   \n",
      "16  1945-05-01 00:00:00.000000   747.0  103.0   682.0             87.0   \n",
      "17  1945-06-01 00:00:00.000000   739.0  110.0   674.0             87.0   \n",
      "18  1945-07-01 00:00:00.000000   736.0  117.0   610.0             82.0   \n",
      "19  1945-08-01 00:00:00.000000   858.0  145.0   531.0             77.0   \n",
      "20  1945-09-01 00:00:00.000000   910.0  164.0   535.0             80.0   \n",
      "21  1945-10-01 00:00:00.000000  1022.0  201.0   628.0             95.0   \n",
      "22  1945-11-01 00:00:00.000000   933.0  173.0   945.0             86.0   \n",
      "23  1945-12-01 00:00:00.000000   783.0  118.0  1103.0             90.0   \n",
      "24  1946-01-01 00:00:00.000000   856.0  101.0  1051.0             74.0   \n",
      "25  1946-02-01 00:00:00.000000   827.0   85.0   966.0            109.0   \n",
      "26  1946-03-01 00:00:00.000000   796.0   92.0   780.0             97.0   \n",
      "27  1946-04-01 00:00:00.000000   734.0   91.0   846.0             83.0   \n",
      "28  1946-05-01 00:00:00.000000   605.0   83.0   810.0             65.0   \n",
      "29  1946-06-01 00:00:00.000000   461.0   78.0   505.0             75.0   \n",
      "\n",
      "   broilers other_chicken turkey  \n",
      "0      None          None   None  \n",
      "1      None          None   None  \n",
      "2      None          None   None  \n",
      "3      None          None   None  \n",
      "4      None          None   None  \n",
      "5      None          None   None  \n",
      "6      None          None   None  \n",
      "7      None          None   None  \n",
      "8      None          None   None  \n",
      "9      None          None   None  \n",
      "10     None          None   None  \n",
      "11     None          None   None  \n",
      "12     None          None   None  \n",
      "13     None          None   None  \n",
      "14     None          None   None  \n",
      "15     None          None   None  \n",
      "16     None          None   None  \n",
      "17     None          None   None  \n",
      "18     None          None   None  \n",
      "19     None          None   None  \n",
      "20     None          None   None  \n",
      "21     None          None   None  \n",
      "22     None          None   None  \n",
      "23     None          None   None  \n",
      "24     None          None   None  \n",
      "25     None          None   None  \n",
      "26     None          None   None  \n",
      "27     None          None   None  \n",
      "28     None          None   None  \n",
      "29     None          None   None  \n"
     ]
    }
   ],
   "source": [
    "# Don't forget LIMIT. LIMIT still works.\n",
    "\n",
    "\n",
    "print(pysqldf(\"SELECT * \\\n",
    "                  FROM meat \\\n",
    "                  WHERE lamb_and_mutton IS NOT NULL OR pork > 100 \\\n",
    "                  LIMIT 30;\"))"
   ]
  },
  {
   "cell_type": "code",
   "execution_count": 38,
   "metadata": {},
   "outputs": [
    {
     "name": "stdout",
     "output_type": "stream",
     "text": [
      "                         date    beef   veal   pork  lamb_and_mutton broilers  \\\n",
      "0  1946-09-01 00:00:00.000000   366.0   98.0  124.0             63.0     None   \n",
      "1  1948-08-01 00:00:00.000000   705.0  121.0  463.0             59.0     None   \n",
      "2  1946-06-01 00:00:00.000000   461.0   78.0  505.0             75.0     None   \n",
      "3  1948-09-01 00:00:00.000000   773.0  127.0  514.0             68.0     None   \n",
      "4  1945-08-01 00:00:00.000000   858.0  145.0  531.0             77.0     None   \n",
      "5  1947-08-01 00:00:00.000000   766.0  131.0  534.0             57.0     None   \n",
      "6  1945-09-01 00:00:00.000000   910.0  164.0  535.0             80.0     None   \n",
      "7  1947-09-01 00:00:00.000000   888.0  154.0  549.0             66.0     None   \n",
      "8  1948-07-01 00:00:00.000000   681.0  116.0  576.0             55.0     None   \n",
      "9  1953-08-01 00:00:00.000000  1007.0  142.0  582.0             55.0     None   \n",
      "\n",
      "  other_chicken turkey  \n",
      "0          None   None  \n",
      "1          None   None  \n",
      "2          None   None  \n",
      "3          None   None  \n",
      "4          None   None  \n",
      "5          None   None  \n",
      "6          None   None  \n",
      "7          None   None  \n",
      "8          None   None  \n",
      "9          None   None  \n"
     ]
    }
   ],
   "source": [
    "# ORDER BY; Order the rows by the specified column.\n",
    "\n",
    "print(pysqldf(\"SELECT * \\\n",
    "                  FROM meat \\\n",
    "                  WHERE lamb_and_mutton IS NOT NULL OR pork > 100 \\\n",
    "                  ORDER BY pork \\\n",
    "                  LIMIT 10;\"))\n",
    "\n"
   ]
  },
  {
   "cell_type": "code",
   "execution_count": 39,
   "metadata": {},
   "outputs": [
    {
     "name": "stdout",
     "output_type": "stream",
     "text": [
      "                         date    beef  veal    pork  lamb_and_mutton  \\\n",
      "0  2012-10-01 00:00:00.000000  2343.7  10.3  2210.4             14.2   \n",
      "1  2008-10-01 00:00:00.000000  2340.9  13.5  2159.9             15.0   \n",
      "2  2008-01-01 00:00:00.000000  2232.7  11.3  2159.0             14.7   \n",
      "3  2007-10-01 00:00:00.000000  2443.0  11.1  2145.1             16.4   \n",
      "4  2009-10-01 00:00:00.000000  2275.7  12.2  2089.0             14.3   \n",
      "5  2011-11-01 00:00:00.000000  2148.8  10.8  2086.7             12.6   \n",
      "6  2012-11-01 00:00:00.000000  2206.6  10.1  2078.7             12.4   \n",
      "7  2010-11-01 00:00:00.000000  2235.5  11.3  2068.0             14.4   \n",
      "8  2011-12-01 00:00:00.000000  2126.3  10.8  2065.6             12.5   \n",
      "9  2010-12-01 00:00:00.000000  2270.9  11.7  2055.4             14.9   \n",
      "\n",
      "   broilers  other_chicken  turkey  \n",
      "0    3335.0           43.8   579.9  \n",
      "1    3270.6           50.6   581.8  \n",
      "2    3237.2           45.7   546.4  \n",
      "3    3383.8           47.6   585.1  \n",
      "4    3071.9           44.6   508.3  \n",
      "5    2907.1           39.8   511.4  \n",
      "6    3006.7           37.5   515.3  \n",
      "7    3124.4           40.3   520.5  \n",
      "8    2855.8           41.4   458.9  \n",
      "9    3175.0           44.1   461.4  \n"
     ]
    }
   ],
   "source": [
    "# ORDER BY; Order the rows by the specified column. This time in descending order.\n",
    "\n",
    "print(pysqldf(\"SELECT * \\\n",
    "                  FROM meat \\\n",
    "                  WHERE lamb_and_mutton IS NOT NULL OR pork > 100 \\\n",
    "                  ORDER BY pork DESC\\\n",
    "                  LIMIT 10;\"))"
   ]
  },
  {
   "cell_type": "code",
   "execution_count": 40,
   "metadata": {},
   "outputs": [
    {
     "name": "stdout",
     "output_type": "stream",
     "text": [
      "                          date   beef   veal    pork  lamb_and_mutton  \\\n",
      "0   1946-09-01 00:00:00.000000  366.0   98.0   124.0             63.0   \n",
      "1   1946-06-01 00:00:00.000000  461.0   78.0   505.0             75.0   \n",
      "2   1951-06-01 00:00:00.000000  591.0   78.0   798.0             39.0   \n",
      "3   1946-05-01 00:00:00.000000  605.0   83.0   810.0             65.0   \n",
      "4   1944-04-01 00:00:00.000000  650.0   89.0   978.0             66.0   \n",
      "5   1944-06-01 00:00:00.000000  658.0  125.0   962.0             79.0   \n",
      "6   1944-07-01 00:00:00.000000  662.0  142.0   796.0             82.0   \n",
      "7   1950-02-01 00:00:00.000000  676.0   80.0   699.0             46.0   \n",
      "8   1944-05-01 00:00:00.000000  681.0  106.0  1029.0             78.0   \n",
      "9   1952-03-01 00:00:00.000000  685.0   70.0   924.0             51.0   \n",
      "10  1950-04-01 00:00:00.000000  694.0   87.0   702.0             44.0   \n",
      "11  1951-03-01 00:00:00.000000  696.0   73.0   837.0             39.0   \n",
      "12  1949-02-01 00:00:00.000000  697.0   82.0   701.0             51.0   \n",
      "13  1952-06-01 00:00:00.000000  698.0   83.0   727.0             46.0   \n",
      "14  1951-12-01 00:00:00.000000  699.0   68.0  1077.0             41.0   \n",
      "15  1948-04-01 00:00:00.000000  700.0  101.0   629.0             53.0   \n",
      "16  1952-04-01 00:00:00.000000  703.0   71.0   839.0             50.0   \n",
      "17  1948-08-01 00:00:00.000000  705.0  121.0   463.0             59.0   \n",
      "18  1944-02-01 00:00:00.000000  713.0   77.0  1169.0             72.0   \n",
      "19  1951-05-01 00:00:00.000000  716.0   71.0   798.0             34.0   \n",
      "20  1949-12-01 00:00:00.000000  717.0   97.0  1041.0             53.0   \n",
      "21  1949-04-01 00:00:00.000000  721.0   91.0   647.0             34.0   \n",
      "22  1948-03-01 00:00:00.000000  727.0   99.0   672.0             60.0   \n",
      "23  1948-06-01 00:00:00.000000  733.0  118.0   774.0             58.0   \n",
      "24  1946-04-01 00:00:00.000000  734.0   91.0   846.0             83.0   \n",
      "25  1945-04-01 00:00:00.000000  736.0   98.0   651.0             78.0   \n",
      "26  1945-06-01 00:00:00.000000  739.0  110.0   674.0             87.0   \n",
      "27  1944-03-01 00:00:00.000000  741.0   90.0  1128.0             75.0   \n",
      "28  1952-05-01 00:00:00.000000  742.0   77.0   736.0             49.0   \n",
      "29  1949-07-01 00:00:00.000000  743.0  103.0   584.0             45.0   \n",
      "\n",
      "   broilers other_chicken turkey  \n",
      "0      None          None   None  \n",
      "1      None          None   None  \n",
      "2      None          None   None  \n",
      "3      None          None   None  \n",
      "4      None          None   None  \n",
      "5      None          None   None  \n",
      "6      None          None   None  \n",
      "7      None          None   None  \n",
      "8      None          None   None  \n",
      "9      None          None   None  \n",
      "10     None          None   None  \n",
      "11     None          None   None  \n",
      "12     None          None   None  \n",
      "13     None          None   None  \n",
      "14     None          None   None  \n",
      "15     None          None   None  \n",
      "16     None          None   None  \n",
      "17     None          None   None  \n",
      "18     None          None   None  \n",
      "19     None          None   None  \n",
      "20     None          None   None  \n",
      "21     None          None   None  \n",
      "22     None          None   None  \n",
      "23     None          None   None  \n",
      "24     None          None   None  \n",
      "25     None          None   None  \n",
      "26     None          None   None  \n",
      "27     None          None   None  \n",
      "28     None          None   None  \n",
      "29     None          None   None  \n"
     ]
    }
   ],
   "source": [
    "# GROUP BY; G\n",
    "\n",
    "print(pysqldf(\"SELECT * \\\n",
    "                  FROM meat \\\n",
    "                  WHERE lamb_and_mutton IS NOT NULL OR pork > 100 \\\n",
    "                  GROUP BY beef_high_priced \\\n",
    "                  LIMIT 30;\"))"
   ]
  },
  {
   "cell_type": "code",
   "execution_count": null,
   "metadata": {},
   "outputs": [],
   "source": [
    "\n",
    "print(pysqldf(\"SELECT *, \\\n",
    "                  CASE WHEN beef > 600 THEN 'expensive' \\\n",
    "                  ELSE 'cheap' END AS price_category \\\n",
    "                  FROM meat \\\n",
    "                  WHERE lamb_and_mutton IS NOT NULL OR pork > 100;\"))"
   ]
  },
  {
   "cell_type": "code",
   "execution_count": null,
   "metadata": {},
   "outputs": [],
   "source": [
    "print(pysqldf(\"SELECT *, \\\n",
    "                  CASE WHEN beef > 600 OR pork > 800 THEN 'expensive' \\\n",
    "                  ELSE 'cheap' END AS price_category \\\n",
    "                  FROM meat \\\n",
    "                  WHERE lamb_and_mutton IS NOT NULL OR pork > 100;\"))"
   ]
  },
  {
   "cell_type": "code",
   "execution_count": null,
   "metadata": {},
   "outputs": [],
   "source": [
    "print(pysqldf(\"SELECT *, \\\n",
    "                  CASE WHEN beef > 600 OR pork > 800 THEN 'expensive' \\\n",
    "                  ELSE 'cheap' END AS price_category \\\n",
    "                  FROM meat \\\n",
    "                  GROUP BY price_category\"))"
   ]
  },
  {
   "cell_type": "code",
   "execution_count": null,
   "metadata": {},
   "outputs": [],
   "source": []
  }
 ],
 "metadata": {
  "kernelspec": {
   "display_name": "Python 3",
   "language": "python",
   "name": "python3"
  },
  "language_info": {
   "codemirror_mode": {
    "name": "ipython",
    "version": 3
   },
   "file_extension": ".py",
   "mimetype": "text/x-python",
   "name": "python",
   "nbconvert_exporter": "python",
   "pygments_lexer": "ipython3",
   "version": "3.8.5"
  }
 },
 "nbformat": 4,
 "nbformat_minor": 4
}
